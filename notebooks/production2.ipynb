{
 "cells": [
  {
   "cell_type": "code",
   "execution_count": 1,
   "outputs": [],
   "source": [
    "import re\n",
    "from multiprocessing import cpu_count\n",
    "\n",
    "import numpy as np\n",
    "import pandas as pd\n",
    "import seaborn as sns\n",
    "from matplotlib import pyplot as plt\n",
    "from mlxtend.feature_selection import ColumnSelector\n",
    "from sklearn import metrics\n",
    "from sklearn.decomposition import PCA\n",
    "from sklearn.ensemble import RandomForestClassifier, StackingClassifier\n",
    "from sklearn.feature_extraction.text import CountVectorizer\n",
    "from sklearn.linear_model import LogisticRegression\n",
    "from sklearn.model_selection import train_test_split\n",
    "from sklearn.neighbors import KNeighborsClassifier\n",
    "from sklearn.neural_network import MLPClassifier\n",
    "from sklearn.pipeline import Pipeline\n",
    "from sklearn.preprocessing import MinMaxScaler, StandardScaler\n",
    "from sklearn.tree import DecisionTreeClassifier\n",
    "\n",
    "\n",
    "%matplotlib inline"
   ],
   "metadata": {
    "collapsed": false,
    "pycharm": {
     "name": "#%%\n"
    }
   }
  },
  {
   "cell_type": "code",
   "execution_count": 2,
   "outputs": [],
   "source": [
    "source_path = \"../data/ml-latest\""
   ],
   "metadata": {
    "collapsed": false,
    "pycharm": {
     "name": "#%%\n"
    }
   }
  },
  {
   "cell_type": "markdown",
   "source": [
    "# Обработка данных"
   ],
   "metadata": {
    "collapsed": false
   }
  },
  {
   "cell_type": "markdown",
   "source": [
    "### Обработка movies.csv"
   ],
   "metadata": {
    "collapsed": false
   }
  },
  {
   "cell_type": "code",
   "execution_count": 3,
   "outputs": [
    {
     "data": {
      "text/plain": "       movieId                                     title                genres\n54519   185347            About Love. Adults Only (2017)  Comedy|Drama|Romance\n57193   191511                        In the Game (2018)                Comedy\n18963    93702          Tropical Fish (Re dai yu) (1995)          Comedy|Drama\n46226   167322                     The Trans List (2016)           Documentary\n38374   149320  Assume the Position with Mr. Wuhl (2007)                Comedy",
      "text/html": "<div>\n<style scoped>\n    .dataframe tbody tr th:only-of-type {\n        vertical-align: middle;\n    }\n\n    .dataframe tbody tr th {\n        vertical-align: top;\n    }\n\n    .dataframe thead th {\n        text-align: right;\n    }\n</style>\n<table border=\"1\" class=\"dataframe\">\n  <thead>\n    <tr style=\"text-align: right;\">\n      <th></th>\n      <th>movieId</th>\n      <th>title</th>\n      <th>genres</th>\n    </tr>\n  </thead>\n  <tbody>\n    <tr>\n      <th>54519</th>\n      <td>185347</td>\n      <td>About Love. Adults Only (2017)</td>\n      <td>Comedy|Drama|Romance</td>\n    </tr>\n    <tr>\n      <th>57193</th>\n      <td>191511</td>\n      <td>In the Game (2018)</td>\n      <td>Comedy</td>\n    </tr>\n    <tr>\n      <th>18963</th>\n      <td>93702</td>\n      <td>Tropical Fish (Re dai yu) (1995)</td>\n      <td>Comedy|Drama</td>\n    </tr>\n    <tr>\n      <th>46226</th>\n      <td>167322</td>\n      <td>The Trans List (2016)</td>\n      <td>Documentary</td>\n    </tr>\n    <tr>\n      <th>38374</th>\n      <td>149320</td>\n      <td>Assume the Position with Mr. Wuhl (2007)</td>\n      <td>Comedy</td>\n    </tr>\n  </tbody>\n</table>\n</div>"
     },
     "execution_count": 3,
     "metadata": {},
     "output_type": "execute_result"
    }
   ],
   "source": [
    "movies_df = pd.read_csv(f\"{source_path}/movies.csv\")\n",
    "movies_df.sample(5)"
   ],
   "metadata": {
    "collapsed": false,
    "pycharm": {
     "name": "#%%\n"
    }
   }
  },
  {
   "cell_type": "code",
   "execution_count": 4,
   "outputs": [
    {
     "name": "stdout",
     "output_type": "stream",
     "text": [
      "<class 'pandas.core.frame.DataFrame'>\n",
      "RangeIndex: 58098 entries, 0 to 58097\n",
      "Data columns (total 3 columns):\n",
      " #   Column   Non-Null Count  Dtype \n",
      "---  ------   --------------  ----- \n",
      " 0   movieId  58098 non-null  int64 \n",
      " 1   title    58098 non-null  object\n",
      " 2   genres   58098 non-null  object\n",
      "dtypes: int64(1), object(2)\n",
      "memory usage: 1.3+ MB\n"
     ]
    }
   ],
   "source": [
    "movies_df.info()"
   ],
   "metadata": {
    "collapsed": false,
    "pycharm": {
     "name": "#%%\n"
    }
   }
  },
  {
   "cell_type": "code",
   "execution_count": 5,
   "outputs": [],
   "source": [
    "movies_df.rename({\n",
    "    \"movieId\": \"movie_id\"\n",
    "}, axis=1, inplace=True)"
   ],
   "metadata": {
    "collapsed": false,
    "pycharm": {
     "name": "#%%\n"
    }
   }
  },
  {
   "cell_type": "code",
   "execution_count": 6,
   "outputs": [
    {
     "data": {
      "text/plain": "       movie_id         genres  year\n27312    122369  Drama|Romance  1958\n13225     64197          Drama  2008\n21044    101947    Documentary  2011\n8332       9015  Drama|Romance  1999\n19378     95615         Comedy  1980",
      "text/html": "<div>\n<style scoped>\n    .dataframe tbody tr th:only-of-type {\n        vertical-align: middle;\n    }\n\n    .dataframe tbody tr th {\n        vertical-align: top;\n    }\n\n    .dataframe thead th {\n        text-align: right;\n    }\n</style>\n<table border=\"1\" class=\"dataframe\">\n  <thead>\n    <tr style=\"text-align: right;\">\n      <th></th>\n      <th>movie_id</th>\n      <th>genres</th>\n      <th>year</th>\n    </tr>\n  </thead>\n  <tbody>\n    <tr>\n      <th>27312</th>\n      <td>122369</td>\n      <td>Drama|Romance</td>\n      <td>1958</td>\n    </tr>\n    <tr>\n      <th>13225</th>\n      <td>64197</td>\n      <td>Drama</td>\n      <td>2008</td>\n    </tr>\n    <tr>\n      <th>21044</th>\n      <td>101947</td>\n      <td>Documentary</td>\n      <td>2011</td>\n    </tr>\n    <tr>\n      <th>8332</th>\n      <td>9015</td>\n      <td>Drama|Romance</td>\n      <td>1999</td>\n    </tr>\n    <tr>\n      <th>19378</th>\n      <td>95615</td>\n      <td>Comedy</td>\n      <td>1980</td>\n    </tr>\n  </tbody>\n</table>\n</div>"
     },
     "execution_count": 6,
     "metadata": {},
     "output_type": "execute_result"
    }
   ],
   "source": [
    "movies_df[\"genres\"].replace(\"(no genres listed)\", None, regex=False, inplace=True)\n",
    "movies_df.dropna(inplace=True)\n",
    "\n",
    "PATTERN_YEAR = re.compile(r\"\\((\\d{4})\\)$\")\n",
    "\n",
    "movies_df[\"year\"] = movies_df[\"title\"].str.strip().str.extract(PATTERN_YEAR)\n",
    "movies_df[\"year\"] = movies_df[\"year\"].fillna(movies_df[\"year\"].median()).astype(\"int16\")\n",
    "\n",
    "movies_df.drop(\"title\", axis=1, inplace=True)\n",
    "\n",
    "movies_df.sample(5)"
   ],
   "metadata": {
    "collapsed": false,
    "pycharm": {
     "name": "#%%\n"
    }
   }
  },
  {
   "cell_type": "code",
   "execution_count": 7,
   "outputs": [
    {
     "data": {
      "text/plain": "   movie_id  year  action  adventure  animation  children  comedy  crime  \\\n0         1  1995       0          1          1         1       1      0   \n1         2  1995       0          1          0         1       0      0   \n2         3  1995       0          0          0         0       1      0   \n3         4  1995       0          0          0         0       1      0   \n4         5  1995       0          0          0         0       1      0   \n\n   documentary  drama  ...  film-noir  horror  imax  musical  mystery  \\\n0            0      0  ...          0       0     0        0        0   \n1            0      0  ...          0       0     0        0        0   \n2            0      0  ...          0       0     0        0        0   \n3            0      1  ...          0       0     0        0        0   \n4            0      0  ...          0       0     0        0        0   \n\n   romance  sci-fi  thriller  war  western  \n0        0       0         0    0        0  \n1        0       0         0    0        0  \n2        1       0         0    0        0  \n3        1       0         0    0        0  \n4        0       0         0    0        0  \n\n[5 rows x 21 columns]",
      "text/html": "<div>\n<style scoped>\n    .dataframe tbody tr th:only-of-type {\n        vertical-align: middle;\n    }\n\n    .dataframe tbody tr th {\n        vertical-align: top;\n    }\n\n    .dataframe thead th {\n        text-align: right;\n    }\n</style>\n<table border=\"1\" class=\"dataframe\">\n  <thead>\n    <tr style=\"text-align: right;\">\n      <th></th>\n      <th>movie_id</th>\n      <th>year</th>\n      <th>action</th>\n      <th>adventure</th>\n      <th>animation</th>\n      <th>children</th>\n      <th>comedy</th>\n      <th>crime</th>\n      <th>documentary</th>\n      <th>drama</th>\n      <th>...</th>\n      <th>film-noir</th>\n      <th>horror</th>\n      <th>imax</th>\n      <th>musical</th>\n      <th>mystery</th>\n      <th>romance</th>\n      <th>sci-fi</th>\n      <th>thriller</th>\n      <th>war</th>\n      <th>western</th>\n    </tr>\n  </thead>\n  <tbody>\n    <tr>\n      <th>0</th>\n      <td>1</td>\n      <td>1995</td>\n      <td>0</td>\n      <td>1</td>\n      <td>1</td>\n      <td>1</td>\n      <td>1</td>\n      <td>0</td>\n      <td>0</td>\n      <td>0</td>\n      <td>...</td>\n      <td>0</td>\n      <td>0</td>\n      <td>0</td>\n      <td>0</td>\n      <td>0</td>\n      <td>0</td>\n      <td>0</td>\n      <td>0</td>\n      <td>0</td>\n      <td>0</td>\n    </tr>\n    <tr>\n      <th>1</th>\n      <td>2</td>\n      <td>1995</td>\n      <td>0</td>\n      <td>1</td>\n      <td>0</td>\n      <td>1</td>\n      <td>0</td>\n      <td>0</td>\n      <td>0</td>\n      <td>0</td>\n      <td>...</td>\n      <td>0</td>\n      <td>0</td>\n      <td>0</td>\n      <td>0</td>\n      <td>0</td>\n      <td>0</td>\n      <td>0</td>\n      <td>0</td>\n      <td>0</td>\n      <td>0</td>\n    </tr>\n    <tr>\n      <th>2</th>\n      <td>3</td>\n      <td>1995</td>\n      <td>0</td>\n      <td>0</td>\n      <td>0</td>\n      <td>0</td>\n      <td>1</td>\n      <td>0</td>\n      <td>0</td>\n      <td>0</td>\n      <td>...</td>\n      <td>0</td>\n      <td>0</td>\n      <td>0</td>\n      <td>0</td>\n      <td>0</td>\n      <td>1</td>\n      <td>0</td>\n      <td>0</td>\n      <td>0</td>\n      <td>0</td>\n    </tr>\n    <tr>\n      <th>3</th>\n      <td>4</td>\n      <td>1995</td>\n      <td>0</td>\n      <td>0</td>\n      <td>0</td>\n      <td>0</td>\n      <td>1</td>\n      <td>0</td>\n      <td>0</td>\n      <td>1</td>\n      <td>...</td>\n      <td>0</td>\n      <td>0</td>\n      <td>0</td>\n      <td>0</td>\n      <td>0</td>\n      <td>1</td>\n      <td>0</td>\n      <td>0</td>\n      <td>0</td>\n      <td>0</td>\n    </tr>\n    <tr>\n      <th>4</th>\n      <td>5</td>\n      <td>1995</td>\n      <td>0</td>\n      <td>0</td>\n      <td>0</td>\n      <td>0</td>\n      <td>1</td>\n      <td>0</td>\n      <td>0</td>\n      <td>0</td>\n      <td>...</td>\n      <td>0</td>\n      <td>0</td>\n      <td>0</td>\n      <td>0</td>\n      <td>0</td>\n      <td>0</td>\n      <td>0</td>\n      <td>0</td>\n      <td>0</td>\n      <td>0</td>\n    </tr>\n  </tbody>\n</table>\n<p>5 rows × 21 columns</p>\n</div>"
     },
     "execution_count": 7,
     "metadata": {},
     "output_type": "execute_result"
    }
   ],
   "source": [
    "cv = CountVectorizer(token_pattern=\"[a-z\\-]+\", binary=True, dtype=\"int8\")\n",
    "genres_vectors = cv.fit_transform(movies_df[\"genres\"])\n",
    "genres_list = cv.get_feature_names_out()\n",
    "movies_df = pd.concat([\n",
    "    movies_df.reset_index(drop=True).drop(\"genres\", axis=1),\n",
    "    pd.DataFrame(genres_vectors.todense(), columns=genres_list)\n",
    "], axis=1)\n",
    "movies_df.head(5)"
   ],
   "metadata": {
    "collapsed": false,
    "pycharm": {
     "name": "#%%\n"
    }
   }
  },
  {
   "cell_type": "code",
   "execution_count": 8,
   "outputs": [
    {
     "name": "stdout",
     "output_type": "stream",
     "text": [
      "<class 'pandas.core.frame.DataFrame'>\n",
      "RangeIndex: 53832 entries, 0 to 53831\n",
      "Data columns (total 21 columns):\n",
      " #   Column       Non-Null Count  Dtype\n",
      "---  ------       --------------  -----\n",
      " 0   movie_id     53832 non-null  int64\n",
      " 1   year         53832 non-null  int16\n",
      " 2   action       53832 non-null  int8 \n",
      " 3   adventure    53832 non-null  int8 \n",
      " 4   animation    53832 non-null  int8 \n",
      " 5   children     53832 non-null  int8 \n",
      " 6   comedy       53832 non-null  int8 \n",
      " 7   crime        53832 non-null  int8 \n",
      " 8   documentary  53832 non-null  int8 \n",
      " 9   drama        53832 non-null  int8 \n",
      " 10  fantasy      53832 non-null  int8 \n",
      " 11  film-noir    53832 non-null  int8 \n",
      " 12  horror       53832 non-null  int8 \n",
      " 13  imax         53832 non-null  int8 \n",
      " 14  musical      53832 non-null  int8 \n",
      " 15  mystery      53832 non-null  int8 \n",
      " 16  romance      53832 non-null  int8 \n",
      " 17  sci-fi       53832 non-null  int8 \n",
      " 18  thriller     53832 non-null  int8 \n",
      " 19  war          53832 non-null  int8 \n",
      " 20  western      53832 non-null  int8 \n",
      "dtypes: int16(1), int64(1), int8(19)\n",
      "memory usage: 1.5 MB\n"
     ]
    }
   ],
   "source": [
    "movies_df.info()"
   ],
   "metadata": {
    "collapsed": false,
    "pycharm": {
     "name": "#%%\n"
    }
   }
  },
  {
   "cell_type": "code",
   "execution_count": 9,
   "outputs": [],
   "source": [
    "del genres_vectors"
   ],
   "metadata": {
    "collapsed": false,
    "pycharm": {
     "name": "#%%\n"
    }
   }
  },
  {
   "cell_type": "markdown",
   "source": [
    "### Обработка tags.csv"
   ],
   "metadata": {
    "collapsed": false
   }
  },
  {
   "cell_type": "code",
   "execution_count": 10,
   "outputs": [
    {
     "data": {
      "text/plain": "        userId  movieId                          tag   timestamp\n450217   73406   173761                 exploitation  1526622854\n102676   30074    52042                 World War II  1358149819\n477070   78279     7784                        campy  1483088300\n555994  103013    47518                      college  1248085882\n126532   41069      367  Jim Carrey being Jim Carrey  1320793689",
      "text/html": "<div>\n<style scoped>\n    .dataframe tbody tr th:only-of-type {\n        vertical-align: middle;\n    }\n\n    .dataframe tbody tr th {\n        vertical-align: top;\n    }\n\n    .dataframe thead th {\n        text-align: right;\n    }\n</style>\n<table border=\"1\" class=\"dataframe\">\n  <thead>\n    <tr style=\"text-align: right;\">\n      <th></th>\n      <th>userId</th>\n      <th>movieId</th>\n      <th>tag</th>\n      <th>timestamp</th>\n    </tr>\n  </thead>\n  <tbody>\n    <tr>\n      <th>450217</th>\n      <td>73406</td>\n      <td>173761</td>\n      <td>exploitation</td>\n      <td>1526622854</td>\n    </tr>\n    <tr>\n      <th>102676</th>\n      <td>30074</td>\n      <td>52042</td>\n      <td>World War II</td>\n      <td>1358149819</td>\n    </tr>\n    <tr>\n      <th>477070</th>\n      <td>78279</td>\n      <td>7784</td>\n      <td>campy</td>\n      <td>1483088300</td>\n    </tr>\n    <tr>\n      <th>555994</th>\n      <td>103013</td>\n      <td>47518</td>\n      <td>college</td>\n      <td>1248085882</td>\n    </tr>\n    <tr>\n      <th>126532</th>\n      <td>41069</td>\n      <td>367</td>\n      <td>Jim Carrey being Jim Carrey</td>\n      <td>1320793689</td>\n    </tr>\n  </tbody>\n</table>\n</div>"
     },
     "execution_count": 10,
     "metadata": {},
     "output_type": "execute_result"
    }
   ],
   "source": [
    "tags_df = pd.read_csv(f\"{source_path}/tags.csv\")\n",
    "tags_df.sample(5)"
   ],
   "metadata": {
    "collapsed": false,
    "pycharm": {
     "name": "#%%\n"
    }
   }
  },
  {
   "cell_type": "code",
   "execution_count": 11,
   "outputs": [
    {
     "name": "stdout",
     "output_type": "stream",
     "text": [
      "<class 'pandas.core.frame.DataFrame'>\n",
      "RangeIndex: 1108997 entries, 0 to 1108996\n",
      "Data columns (total 4 columns):\n",
      " #   Column     Non-Null Count    Dtype \n",
      "---  ------     --------------    ----- \n",
      " 0   userId     1108997 non-null  int64 \n",
      " 1   movieId    1108997 non-null  int64 \n",
      " 2   tag        1108981 non-null  object\n",
      " 3   timestamp  1108997 non-null  int64 \n",
      "dtypes: int64(3), object(1)\n",
      "memory usage: 33.8+ MB\n"
     ]
    }
   ],
   "source": [
    "tags_df.info()"
   ],
   "metadata": {
    "collapsed": false,
    "pycharm": {
     "name": "#%%\n"
    }
   }
  },
  {
   "cell_type": "code",
   "execution_count": 12,
   "outputs": [
    {
     "data": {
      "text/plain": "         user_id  movie_id             tag\n1075359   273799     79357         surreal\n361992     73406     78016          turkey\n487060     82206     46578          family\n598084    114804      3156  Robin Williams\n1002315   249363      3819        charming",
      "text/html": "<div>\n<style scoped>\n    .dataframe tbody tr th:only-of-type {\n        vertical-align: middle;\n    }\n\n    .dataframe tbody tr th {\n        vertical-align: top;\n    }\n\n    .dataframe thead th {\n        text-align: right;\n    }\n</style>\n<table border=\"1\" class=\"dataframe\">\n  <thead>\n    <tr style=\"text-align: right;\">\n      <th></th>\n      <th>user_id</th>\n      <th>movie_id</th>\n      <th>tag</th>\n    </tr>\n  </thead>\n  <tbody>\n    <tr>\n      <th>1075359</th>\n      <td>273799</td>\n      <td>79357</td>\n      <td>surreal</td>\n    </tr>\n    <tr>\n      <th>361992</th>\n      <td>73406</td>\n      <td>78016</td>\n      <td>turkey</td>\n    </tr>\n    <tr>\n      <th>487060</th>\n      <td>82206</td>\n      <td>46578</td>\n      <td>family</td>\n    </tr>\n    <tr>\n      <th>598084</th>\n      <td>114804</td>\n      <td>3156</td>\n      <td>Robin Williams</td>\n    </tr>\n    <tr>\n      <th>1002315</th>\n      <td>249363</td>\n      <td>3819</td>\n      <td>charming</td>\n    </tr>\n  </tbody>\n</table>\n</div>"
     },
     "execution_count": 12,
     "metadata": {},
     "output_type": "execute_result"
    }
   ],
   "source": [
    "tags_df.rename({\n",
    "    \"movieId\": \"movie_id\",\n",
    "    \"userId\": \"user_id\"\n",
    "}, axis=1, inplace=True)\n",
    "tags_df.drop(\"timestamp\", axis=1, inplace=True)\n",
    "tags_df.dropna(inplace=True)\n",
    "tags_df.sample(5)"
   ],
   "metadata": {
    "collapsed": false,
    "pycharm": {
     "name": "#%%\n"
    }
   }
  },
  {
   "cell_type": "code",
   "execution_count": 13,
   "outputs": [
    {
     "data": {
      "text/plain": "        user_id  movie_id                                                tag\n323041   282405      1393                            cubagoodingjr tomcruise\n76251     73406      2903  blood corpse crossdressing depression gore men...\n33482     36381       110                  rape sexualassault sexualviolence\n97885     73406    132840                                bmovie newspaperman\n86059     73406     71732             alien grave graverobber undead vampire",
      "text/html": "<div>\n<style scoped>\n    .dataframe tbody tr th:only-of-type {\n        vertical-align: middle;\n    }\n\n    .dataframe tbody tr th {\n        vertical-align: top;\n    }\n\n    .dataframe thead th {\n        text-align: right;\n    }\n</style>\n<table border=\"1\" class=\"dataframe\">\n  <thead>\n    <tr style=\"text-align: right;\">\n      <th></th>\n      <th>user_id</th>\n      <th>movie_id</th>\n      <th>tag</th>\n    </tr>\n  </thead>\n  <tbody>\n    <tr>\n      <th>323041</th>\n      <td>282405</td>\n      <td>1393</td>\n      <td>cubagoodingjr tomcruise</td>\n    </tr>\n    <tr>\n      <th>76251</th>\n      <td>73406</td>\n      <td>2903</td>\n      <td>blood corpse crossdressing depression gore men...</td>\n    </tr>\n    <tr>\n      <th>33482</th>\n      <td>36381</td>\n      <td>110</td>\n      <td>rape sexualassault sexualviolence</td>\n    </tr>\n    <tr>\n      <th>97885</th>\n      <td>73406</td>\n      <td>132840</td>\n      <td>bmovie newspaperman</td>\n    </tr>\n    <tr>\n      <th>86059</th>\n      <td>73406</td>\n      <td>71732</td>\n      <td>alien grave graverobber undead vampire</td>\n    </tr>\n  </tbody>\n</table>\n</div>"
     },
     "execution_count": 13,
     "metadata": {},
     "output_type": "execute_result"
    }
   ],
   "source": [
    "PATTERN_CAPS = re.compile(r\"[A-Z]+( [A-Z]+)+\")\n",
    "PATTERN_NETFLIX = re.compile(r\"^in netflix queue$\", flags=re.I)\n",
    "PATTERN_BASED = re.compile(r\"^based on a .*\", flags=re.I)\n",
    "PATTERN_ALPHA = re.compile(r\"^[a-z\\-]*$\", flags=re.I)\n",
    "PATTERN_ACTOR = re.compile(r\"^[A-Z][A-Za-z]+( [A-Z][A-Za-z]+)+$\")\n",
    "\n",
    "tags_df[\"tag\"] = tags_df[\"tag\"].str.strip()\n",
    "tags_df[\"tag\"].replace(\"[\\.\\(\\)( - )]\", \"\", regex=True, inplace=True)\n",
    "tags_df[\"tag\"] = tags_df[\"tag\"].str.replace(\"/\", \" \", regex=False)\n",
    "mask_caps = tags_df[\"tag\"].str.match(PATTERN_CAPS)\n",
    "tags_df.loc[mask_caps, \"tag\"] = tags_df.loc[mask_caps, \"tag\"].str.lower()\n",
    "mask_phrase = (tags_df[\"tag\"].str.match(PATTERN_BASED) |\n",
    "               tags_df[\"tag\"].str.match(PATTERN_ACTOR) |\n",
    "               tags_df[\"tag\"].str.match(PATTERN_NETFLIX))\n",
    "tags_df.loc[mask_phrase, \"tag\"] = tags_df.loc[mask_phrase, \"tag\"].str.replace(\" \", \"-\")\n",
    "mask_len = tags_df[\"tag\"].map(lambda t: len(t) == 1)\n",
    "tags_df.loc[mask_len, \"tag\"] = None\n",
    "tags_df[\"tag\"] = tags_df[\"tag\"].str.lower()\n",
    "\n",
    "tags_df.dropna(inplace=True)\n",
    "tags_df = tags_df.groupby([\"user_id\", \"movie_id\"], as_index=False).agg(\" \".join)\n",
    "tags_df.sample(5)"
   ],
   "metadata": {
    "collapsed": false,
    "pycharm": {
     "name": "#%%\n"
    }
   }
  },
  {
   "cell_type": "code",
   "execution_count": 14,
   "outputs": [
    {
     "data": {
      "text/plain": "        user_id  movie_id  10  11  1960s  1970s  1980s  19thcentury  3d  70mm  \\\n183779   145910    109487   0   0      0      0      0            0   0     0   \n259090   211501     86320   0   0      0      0      0            0   0     0   \n120403    81893       364   0   0      0      0      0            0   0     0   \n294681   256158    111759   0   0      0      0      0            0   0     0   \n81539     73406     26484   0   0      0      0      0            0   0     0   \n\n        ...  willsmith  witch  witty  womandirector  women  woodyallen  \\\n183779  ...          0      0      0              0      0           0   \n259090  ...          0      0      0              0      0           0   \n120403  ...          0      0      0              0      0           0   \n294681  ...          0      0      0              0      0           0   \n81539   ...          0      0      0              1      0           0   \n\n        worldwarii  writer  zombie  zombies  \n183779           0       0       0        0  \n259090           0       0       0        0  \n120403           0       0       0        0  \n294681           0       0       0        0  \n81539            0       0       0        0  \n\n[5 rows x 502 columns]",
      "text/html": "<div>\n<style scoped>\n    .dataframe tbody tr th:only-of-type {\n        vertical-align: middle;\n    }\n\n    .dataframe tbody tr th {\n        vertical-align: top;\n    }\n\n    .dataframe thead th {\n        text-align: right;\n    }\n</style>\n<table border=\"1\" class=\"dataframe\">\n  <thead>\n    <tr style=\"text-align: right;\">\n      <th></th>\n      <th>user_id</th>\n      <th>movie_id</th>\n      <th>10</th>\n      <th>11</th>\n      <th>1960s</th>\n      <th>1970s</th>\n      <th>1980s</th>\n      <th>19thcentury</th>\n      <th>3d</th>\n      <th>70mm</th>\n      <th>...</th>\n      <th>willsmith</th>\n      <th>witch</th>\n      <th>witty</th>\n      <th>womandirector</th>\n      <th>women</th>\n      <th>woodyallen</th>\n      <th>worldwarii</th>\n      <th>writer</th>\n      <th>zombie</th>\n      <th>zombies</th>\n    </tr>\n  </thead>\n  <tbody>\n    <tr>\n      <th>183779</th>\n      <td>145910</td>\n      <td>109487</td>\n      <td>0</td>\n      <td>0</td>\n      <td>0</td>\n      <td>0</td>\n      <td>0</td>\n      <td>0</td>\n      <td>0</td>\n      <td>0</td>\n      <td>...</td>\n      <td>0</td>\n      <td>0</td>\n      <td>0</td>\n      <td>0</td>\n      <td>0</td>\n      <td>0</td>\n      <td>0</td>\n      <td>0</td>\n      <td>0</td>\n      <td>0</td>\n    </tr>\n    <tr>\n      <th>259090</th>\n      <td>211501</td>\n      <td>86320</td>\n      <td>0</td>\n      <td>0</td>\n      <td>0</td>\n      <td>0</td>\n      <td>0</td>\n      <td>0</td>\n      <td>0</td>\n      <td>0</td>\n      <td>...</td>\n      <td>0</td>\n      <td>0</td>\n      <td>0</td>\n      <td>0</td>\n      <td>0</td>\n      <td>0</td>\n      <td>0</td>\n      <td>0</td>\n      <td>0</td>\n      <td>0</td>\n    </tr>\n    <tr>\n      <th>120403</th>\n      <td>81893</td>\n      <td>364</td>\n      <td>0</td>\n      <td>0</td>\n      <td>0</td>\n      <td>0</td>\n      <td>0</td>\n      <td>0</td>\n      <td>0</td>\n      <td>0</td>\n      <td>...</td>\n      <td>0</td>\n      <td>0</td>\n      <td>0</td>\n      <td>0</td>\n      <td>0</td>\n      <td>0</td>\n      <td>0</td>\n      <td>0</td>\n      <td>0</td>\n      <td>0</td>\n    </tr>\n    <tr>\n      <th>294681</th>\n      <td>256158</td>\n      <td>111759</td>\n      <td>0</td>\n      <td>0</td>\n      <td>0</td>\n      <td>0</td>\n      <td>0</td>\n      <td>0</td>\n      <td>0</td>\n      <td>0</td>\n      <td>...</td>\n      <td>0</td>\n      <td>0</td>\n      <td>0</td>\n      <td>0</td>\n      <td>0</td>\n      <td>0</td>\n      <td>0</td>\n      <td>0</td>\n      <td>0</td>\n      <td>0</td>\n    </tr>\n    <tr>\n      <th>81539</th>\n      <td>73406</td>\n      <td>26484</td>\n      <td>0</td>\n      <td>0</td>\n      <td>0</td>\n      <td>0</td>\n      <td>0</td>\n      <td>0</td>\n      <td>0</td>\n      <td>0</td>\n      <td>...</td>\n      <td>0</td>\n      <td>0</td>\n      <td>0</td>\n      <td>1</td>\n      <td>0</td>\n      <td>0</td>\n      <td>0</td>\n      <td>0</td>\n      <td>0</td>\n      <td>0</td>\n    </tr>\n  </tbody>\n</table>\n<p>5 rows × 502 columns</p>\n</div>"
     },
     "execution_count": 14,
     "metadata": {},
     "output_type": "execute_result"
    }
   ],
   "source": [
    "cv = CountVectorizer(\n",
    "    token_pattern=\"[\\da-z\\-]+\", stop_words=\"english\",\n",
    "    max_features=500, min_df=5, max_df=0.8,\n",
    "    binary=True, dtype=\"int8\"\n",
    ")\n",
    "tags_vectors = cv.fit_transform(tags_df[\"tag\"])\n",
    "tags_list = cv.get_feature_names_out()\n",
    "tags_df = pd.concat([\n",
    "    tags_df.reset_index(drop=True).drop(\"tag\", axis=1),\n",
    "    pd.DataFrame(tags_vectors.todense(), columns=tags_list)\n",
    "], axis=1)\n",
    "tags_df.sample(5)"
   ],
   "metadata": {
    "collapsed": false,
    "pycharm": {
     "name": "#%%\n"
    }
   }
  },
  {
   "cell_type": "code",
   "execution_count": 15,
   "outputs": [
    {
     "data": {
      "text/plain": "<AxesSubplot:>"
     },
     "execution_count": 15,
     "metadata": {},
     "output_type": "execute_result"
    },
    {
     "data": {
      "text/plain": "<Figure size 432x288 with 1 Axes>",
      "image/png": "[encoded data removed]"
     },
     "metadata": {
      "needs_background": "light"
     },
     "output_type": "display_data"
    }
   ],
   "source": [
    "tags_df.drop([\"user_id\", \"movie_id\"], axis=1).sum().sort_values(ascending=False).plot()"
   ],
   "metadata": {
    "collapsed": false,
    "pycharm": {
     "name": "#%%\n"
    }
   }
  },
  {
   "cell_type": "code",
   "execution_count": 16,
   "outputs": [
    {
     "name": "stdout",
     "output_type": "stream",
     "text": [
      "<class 'pandas.core.frame.DataFrame'>\n",
      "RangeIndex: 323783 entries, 0 to 323782\n",
      "Columns: 502 entries, user_id to zombies\n",
      "dtypes: int64(2), int8(500)\n",
      "memory usage: 159.3 MB\n"
     ]
    }
   ],
   "source": [
    "tags_df.info()"
   ],
   "metadata": {
    "collapsed": false,
    "pycharm": {
     "name": "#%%\n"
    }
   }
  },
  {
   "cell_type": "code",
   "execution_count": 17,
   "outputs": [],
   "source": [
    "del tags_vectors"
   ],
   "metadata": {
    "collapsed": false,
    "pycharm": {
     "name": "#%%\n"
    }
   }
  },
  {
   "cell_type": "markdown",
   "source": [
    "### Обработка ratings.csv"
   ],
   "metadata": {
    "collapsed": false
   }
  },
  {
   "cell_type": "code",
   "execution_count": 18,
   "outputs": [
    {
     "data": {
      "text/plain": "          userId  movieId  rating   timestamp\n19705110  201043     2011     3.0   942485498\n17262939  176199       29     4.0   910240329\n8638719    89092      805     3.5  1314537104\n8806204    90866      337     4.0   837198499\n21092105  215472   122882     5.0  1454447141",
      "text/html": "<div>\n<style scoped>\n    .dataframe tbody tr th:only-of-type {\n        vertical-align: middle;\n    }\n\n    .dataframe tbody tr th {\n        vertical-align: top;\n    }\n\n    .dataframe thead th {\n        text-align: right;\n    }\n</style>\n<table border=\"1\" class=\"dataframe\">\n  <thead>\n    <tr style=\"text-align: right;\">\n      <th></th>\n      <th>userId</th>\n      <th>movieId</th>\n      <th>rating</th>\n      <th>timestamp</th>\n    </tr>\n  </thead>\n  <tbody>\n    <tr>\n      <th>19705110</th>\n      <td>201043</td>\n      <td>2011</td>\n      <td>3.0</td>\n      <td>942485498</td>\n    </tr>\n    <tr>\n      <th>17262939</th>\n      <td>176199</td>\n      <td>29</td>\n      <td>4.0</td>\n      <td>910240329</td>\n    </tr>\n    <tr>\n      <th>8638719</th>\n      <td>89092</td>\n      <td>805</td>\n      <td>3.5</td>\n      <td>1314537104</td>\n    </tr>\n    <tr>\n      <th>8806204</th>\n      <td>90866</td>\n      <td>337</td>\n      <td>4.0</td>\n      <td>837198499</td>\n    </tr>\n    <tr>\n      <th>21092105</th>\n      <td>215472</td>\n      <td>122882</td>\n      <td>5.0</td>\n      <td>1454447141</td>\n    </tr>\n  </tbody>\n</table>\n</div>"
     },
     "execution_count": 18,
     "metadata": {},
     "output_type": "execute_result"
    }
   ],
   "source": [
    "ratings_df = pd.read_csv(f\"{source_path}/ratings.csv\")\n",
    "ratings_df.sample(5)"
   ],
   "metadata": {
    "collapsed": false,
    "pycharm": {
     "name": "#%%\n"
    }
   }
  },
  {
   "cell_type": "code",
   "execution_count": 19,
   "outputs": [
    {
     "name": "stdout",
     "output_type": "stream",
     "text": [
      "<class 'pandas.core.frame.DataFrame'>\n",
      "RangeIndex: 27753444 entries, 0 to 27753443\n",
      "Data columns (total 4 columns):\n",
      " #   Column     Dtype  \n",
      "---  ------     -----  \n",
      " 0   userId     int64  \n",
      " 1   movieId    int64  \n",
      " 2   rating     float64\n",
      " 3   timestamp  int64  \n",
      "dtypes: float64(1), int64(3)\n",
      "memory usage: 847.0 MB\n"
     ]
    }
   ],
   "source": [
    "ratings_df.info()"
   ],
   "metadata": {
    "collapsed": false,
    "pycharm": {
     "name": "#%%\n"
    }
   }
  },
  {
   "cell_type": "code",
   "execution_count": 20,
   "outputs": [],
   "source": [
    "ratings_df.rename({\n",
    "    \"movieId\": \"movie_id\",\n",
    "    \"userId\": \"user_id\"\n",
    "}, axis=1, inplace=True)"
   ],
   "metadata": {
    "collapsed": false,
    "pycharm": {
     "name": "#%%\n"
    }
   }
  },
  {
   "cell_type": "code",
   "execution_count": 21,
   "outputs": [],
   "source": [
    "ratings_df.drop(\"timestamp\", axis=1, inplace=True)\n",
    "ratings_df[\"rating\"] = ratings_df[\"rating\"].astype(\"int8\")"
   ],
   "metadata": {
    "collapsed": false,
    "pycharm": {
     "name": "#%%\n"
    }
   }
  },
  {
   "cell_type": "code",
   "execution_count": 22,
   "outputs": [
    {
     "data": {
      "text/plain": "          user_id  movie_id  rating  rating_binary\n163519       1628      1208       3              0\n14908638   152446       370       4              1\n875226       8795     33145       3              0\n12913068   132177      1544       4              1\n11541532   118292      2762       4              1",
      "text/html": "<div>\n<style scoped>\n    .dataframe tbody tr th:only-of-type {\n        vertical-align: middle;\n    }\n\n    .dataframe tbody tr th {\n        vertical-align: top;\n    }\n\n    .dataframe thead th {\n        text-align: right;\n    }\n</style>\n<table border=\"1\" class=\"dataframe\">\n  <thead>\n    <tr style=\"text-align: right;\">\n      <th></th>\n      <th>user_id</th>\n      <th>movie_id</th>\n      <th>rating</th>\n      <th>rating_binary</th>\n    </tr>\n  </thead>\n  <tbody>\n    <tr>\n      <th>163519</th>\n      <td>1628</td>\n      <td>1208</td>\n      <td>3</td>\n      <td>0</td>\n    </tr>\n    <tr>\n      <th>14908638</th>\n      <td>152446</td>\n      <td>370</td>\n      <td>4</td>\n      <td>1</td>\n    </tr>\n    <tr>\n      <th>875226</th>\n      <td>8795</td>\n      <td>33145</td>\n      <td>3</td>\n      <td>0</td>\n    </tr>\n    <tr>\n      <th>12913068</th>\n      <td>132177</td>\n      <td>1544</td>\n      <td>4</td>\n      <td>1</td>\n    </tr>\n    <tr>\n      <th>11541532</th>\n      <td>118292</td>\n      <td>2762</td>\n      <td>4</td>\n      <td>1</td>\n    </tr>\n  </tbody>\n</table>\n</div>"
     },
     "execution_count": 22,
     "metadata": {},
     "output_type": "execute_result"
    }
   ],
   "source": [
    "ratings_df[\"rating_binary\"] = (ratings_df[\"rating\"] >= 4).astype(\"int8\")\n",
    "ratings_df.sample(5)"
   ],
   "metadata": {
    "collapsed": false,
    "pycharm": {
     "name": "#%%\n"
    }
   }
  },
  {
   "cell_type": "code",
   "execution_count": 23,
   "outputs": [
    {
     "name": "stdout",
     "output_type": "stream",
     "text": [
      "<class 'pandas.core.frame.DataFrame'>\n",
      "RangeIndex: 27753444 entries, 0 to 27753443\n",
      "Data columns (total 4 columns):\n",
      " #   Column         Dtype\n",
      "---  ------         -----\n",
      " 0   user_id        int64\n",
      " 1   movie_id       int64\n",
      " 2   rating         int8 \n",
      " 3   rating_binary  int8 \n",
      "dtypes: int64(2), int8(2)\n",
      "memory usage: 476.4 MB\n"
     ]
    }
   ],
   "source": [
    "ratings_df.info()"
   ],
   "metadata": {
    "collapsed": false,
    "pycharm": {
     "name": "#%%\n"
    }
   }
  },
  {
   "cell_type": "markdown",
   "source": [
    "# Подготовка данных для моделей"
   ],
   "metadata": {
    "collapsed": false
   }
  },
  {
   "cell_type": "markdown",
   "source": [
    "### Модель жанров"
   ],
   "metadata": {
    "collapsed": false
   }
  },
  {
   "cell_type": "code",
   "execution_count": 24,
   "outputs": [
    {
     "data": {
      "text/plain": "          user_id  movie_id  rating  rating_binary  year  action  adventure  \\\n18097513   256023      1956       4              1  1980       0          0   \n9391603     67394      4878       4              1  2001       0          0   \n25553818   251296     25940       4              1  1947       0          0   \n21633157   248293      7150       4              1  2003       0          0   \n25197089    92794      6777       3              0  1961       0          0   \n\n          animation  children  comedy  ...  imax  musical  mystery  romance  \\\n18097513          0         0       0  ...     0        0        0        0   \n9391603           0         0       0  ...     0        0        1        0   \n25553818          0         0       0  ...     0        0        1        0   \n21633157          0         0       1  ...     0        0        0        0   \n25197089          0         0       0  ...     0        0        0        0   \n\n          sci-fi  thriller  war  western  views_count  rating_mean  \n18097513       0         0    0        0         4771     3.805911  \n9391603        1         1    0        0        28701     3.771437  \n25553818       0         0    0        0          539     3.599258  \n21633157       0         0    0        0         1389     2.483081  \n25197089       0         0    0        0         1089     3.766758  \n\n[5 rows x 26 columns]",
      "text/html": "<div>\n<style scoped>\n    .dataframe tbody tr th:only-of-type {\n        vertical-align: middle;\n    }\n\n    .dataframe tbody tr th {\n        vertical-align: top;\n    }\n\n    .dataframe thead th {\n        text-align: right;\n    }\n</style>\n<table border=\"1\" class=\"dataframe\">\n  <thead>\n    <tr style=\"text-align: right;\">\n      <th></th>\n      <th>user_id</th>\n      <th>movie_id</th>\n      <th>rating</th>\n      <th>rating_binary</th>\n      <th>year</th>\n      <th>action</th>\n      <th>adventure</th>\n      <th>animation</th>\n      <th>children</th>\n      <th>comedy</th>\n      <th>...</th>\n      <th>imax</th>\n      <th>musical</th>\n      <th>mystery</th>\n      <th>romance</th>\n      <th>sci-fi</th>\n      <th>thriller</th>\n      <th>war</th>\n      <th>western</th>\n      <th>views_count</th>\n      <th>rating_mean</th>\n    </tr>\n  </thead>\n  <tbody>\n    <tr>\n      <th>18097513</th>\n      <td>256023</td>\n      <td>1956</td>\n      <td>4</td>\n      <td>1</td>\n      <td>1980</td>\n      <td>0</td>\n      <td>0</td>\n      <td>0</td>\n      <td>0</td>\n      <td>0</td>\n      <td>...</td>\n      <td>0</td>\n      <td>0</td>\n      <td>0</td>\n      <td>0</td>\n      <td>0</td>\n      <td>0</td>\n      <td>0</td>\n      <td>0</td>\n      <td>4771</td>\n      <td>3.805911</td>\n    </tr>\n    <tr>\n      <th>9391603</th>\n      <td>67394</td>\n      <td>4878</td>\n      <td>4</td>\n      <td>1</td>\n      <td>2001</td>\n      <td>0</td>\n      <td>0</td>\n      <td>0</td>\n      <td>0</td>\n      <td>0</td>\n      <td>...</td>\n      <td>0</td>\n      <td>0</td>\n      <td>1</td>\n      <td>0</td>\n      <td>1</td>\n      <td>1</td>\n      <td>0</td>\n      <td>0</td>\n      <td>28701</td>\n      <td>3.771437</td>\n    </tr>\n    <tr>\n      <th>25553818</th>\n      <td>251296</td>\n      <td>25940</td>\n      <td>4</td>\n      <td>1</td>\n      <td>1947</td>\n      <td>0</td>\n      <td>0</td>\n      <td>0</td>\n      <td>0</td>\n      <td>0</td>\n      <td>...</td>\n      <td>0</td>\n      <td>0</td>\n      <td>1</td>\n      <td>0</td>\n      <td>0</td>\n      <td>0</td>\n      <td>0</td>\n      <td>0</td>\n      <td>539</td>\n      <td>3.599258</td>\n    </tr>\n    <tr>\n      <th>21633157</th>\n      <td>248293</td>\n      <td>7150</td>\n      <td>4</td>\n      <td>1</td>\n      <td>2003</td>\n      <td>0</td>\n      <td>0</td>\n      <td>0</td>\n      <td>0</td>\n      <td>1</td>\n      <td>...</td>\n      <td>0</td>\n      <td>0</td>\n      <td>0</td>\n      <td>0</td>\n      <td>0</td>\n      <td>0</td>\n      <td>0</td>\n      <td>0</td>\n      <td>1389</td>\n      <td>2.483081</td>\n    </tr>\n    <tr>\n      <th>25197089</th>\n      <td>92794</td>\n      <td>6777</td>\n      <td>3</td>\n      <td>0</td>\n      <td>1961</td>\n      <td>0</td>\n      <td>0</td>\n      <td>0</td>\n      <td>0</td>\n      <td>0</td>\n      <td>...</td>\n      <td>0</td>\n      <td>0</td>\n      <td>0</td>\n      <td>0</td>\n      <td>0</td>\n      <td>0</td>\n      <td>0</td>\n      <td>0</td>\n      <td>1089</td>\n      <td>3.766758</td>\n    </tr>\n  </tbody>\n</table>\n<p>5 rows × 26 columns</p>\n</div>"
     },
     "execution_count": 24,
     "metadata": {},
     "output_type": "execute_result"
    }
   ],
   "source": [
    "movies_ratings_df = pd.merge(\n",
    "    ratings_df,\n",
    "    movies_df,\n",
    "    on=\"movie_id\"\n",
    ")\n",
    "\n",
    "movies_ratings_df[\"views_count\"] = movies_ratings_df.groupby('movie_id')[\"user_id\"].transform('count')\n",
    "movies_ratings_df[\"rating_mean\"] = movies_ratings_df.groupby('movie_id')[\"rating\"].transform('mean')\n",
    "\n",
    "movies_ratings_df.sample(5)"
   ],
   "metadata": {
    "collapsed": false,
    "pycharm": {
     "name": "#%%\n"
    }
   }
  },
  {
   "cell_type": "code",
   "execution_count": 25,
   "outputs": [
    {
     "data": {
      "text/plain": "           action  adventure  animation  children    comedy     crime  \\\nuser_id                                                                 \n45671    2.929412   2.780488        2.5       3.0  3.206897  3.096774   \n251801   4.250000   4.500000        4.0       4.0  4.000000  4.400000   \n158311   4.000000   3.000000        4.0       NaN       NaN  3.000000   \n216565   2.500000   2.666667        4.5       3.5  3.233333  3.800000   \n150335   4.479167   4.368421        5.0       NaN  4.000000  4.181818   \n\n         documentary     drama   fantasy  film-noir    horror      imax  \\\nuser_id                                                                   \n45671            3.0  3.051282  2.705882        4.0  3.219512  2.764706   \n251801           NaN  4.500000       NaN        NaN  5.000000  4.000000   \n158311           NaN  1.666667       NaN        NaN       NaN       NaN   \n216565           3.5  3.363636  3.600000        NaN       NaN  3.500000   \n150335           NaN  4.148148  4.636364        NaN  4.888889  4.200000   \n\n         musical  mystery  romance    sci-fi  thriller  war  western  \nuser_id                                                               \n45671        3.0      3.5  3.00000  3.044776  3.089744  2.0      3.5  \n251801       4.0      NaN  5.00000  3.000000  4.400000  5.0      5.0  \n158311       NaN      NaN      NaN  3.333333  5.000000  2.0      NaN  \n216565       4.0      3.5  3.37931  3.000000  2.833333  3.5      2.4  \n150335       NaN      4.2  4.00000  4.407407  4.400000  4.2      NaN  ",
      "text/html": "<div>\n<style scoped>\n    .dataframe tbody tr th:only-of-type {\n        vertical-align: middle;\n    }\n\n    .dataframe tbody tr th {\n        vertical-align: top;\n    }\n\n    .dataframe thead th {\n        text-align: right;\n    }\n</style>\n<table border=\"1\" class=\"dataframe\">\n  <thead>\n    <tr style=\"text-align: right;\">\n      <th></th>\n      <th>action</th>\n      <th>adventure</th>\n      <th>animation</th>\n      <th>children</th>\n      <th>comedy</th>\n      <th>crime</th>\n      <th>documentary</th>\n      <th>drama</th>\n      <th>fantasy</th>\n      <th>film-noir</th>\n      <th>horror</th>\n      <th>imax</th>\n      <th>musical</th>\n      <th>mystery</th>\n      <th>romance</th>\n      <th>sci-fi</th>\n      <th>thriller</th>\n      <th>war</th>\n      <th>western</th>\n    </tr>\n    <tr>\n      <th>user_id</th>\n      <th></th>\n      <th></th>\n      <th></th>\n      <th></th>\n      <th></th>\n      <th></th>\n      <th></th>\n      <th></th>\n      <th></th>\n      <th></th>\n      <th></th>\n      <th></th>\n      <th></th>\n      <th></th>\n      <th></th>\n      <th></th>\n      <th></th>\n      <th></th>\n      <th></th>\n    </tr>\n  </thead>\n  <tbody>\n    <tr>\n      <th>45671</th>\n      <td>2.929412</td>\n      <td>2.780488</td>\n      <td>2.5</td>\n      <td>3.0</td>\n      <td>3.206897</td>\n      <td>3.096774</td>\n      <td>3.0</td>\n      <td>3.051282</td>\n      <td>2.705882</td>\n      <td>4.0</td>\n      <td>3.219512</td>\n      <td>2.764706</td>\n      <td>3.0</td>\n      <td>3.5</td>\n      <td>3.00000</td>\n      <td>3.044776</td>\n      <td>3.089744</td>\n      <td>2.0</td>\n      <td>3.5</td>\n    </tr>\n    <tr>\n      <th>251801</th>\n      <td>4.250000</td>\n      <td>4.500000</td>\n      <td>4.0</td>\n      <td>4.0</td>\n      <td>4.000000</td>\n      <td>4.400000</td>\n      <td>NaN</td>\n      <td>4.500000</td>\n      <td>NaN</td>\n      <td>NaN</td>\n      <td>5.000000</td>\n      <td>4.000000</td>\n      <td>4.0</td>\n      <td>NaN</td>\n      <td>5.00000</td>\n      <td>3.000000</td>\n      <td>4.400000</td>\n      <td>5.0</td>\n      <td>5.0</td>\n    </tr>\n    <tr>\n      <th>158311</th>\n      <td>4.000000</td>\n      <td>3.000000</td>\n      <td>4.0</td>\n      <td>NaN</td>\n      <td>NaN</td>\n      <td>3.000000</td>\n      <td>NaN</td>\n      <td>1.666667</td>\n      <td>NaN</td>\n      <td>NaN</td>\n      <td>NaN</td>\n      <td>NaN</td>\n      <td>NaN</td>\n      <td>NaN</td>\n      <td>NaN</td>\n      <td>3.333333</td>\n      <td>5.000000</td>\n      <td>2.0</td>\n      <td>NaN</td>\n    </tr>\n    <tr>\n      <th>216565</th>\n      <td>2.500000</td>\n      <td>2.666667</td>\n      <td>4.5</td>\n      <td>3.5</td>\n      <td>3.233333</td>\n      <td>3.800000</td>\n      <td>3.5</td>\n      <td>3.363636</td>\n      <td>3.600000</td>\n      <td>NaN</td>\n      <td>NaN</td>\n      <td>3.500000</td>\n      <td>4.0</td>\n      <td>3.5</td>\n      <td>3.37931</td>\n      <td>3.000000</td>\n      <td>2.833333</td>\n      <td>3.5</td>\n      <td>2.4</td>\n    </tr>\n    <tr>\n      <th>150335</th>\n      <td>4.479167</td>\n      <td>4.368421</td>\n      <td>5.0</td>\n      <td>NaN</td>\n      <td>4.000000</td>\n      <td>4.181818</td>\n      <td>NaN</td>\n      <td>4.148148</td>\n      <td>4.636364</td>\n      <td>NaN</td>\n      <td>4.888889</td>\n      <td>4.200000</td>\n      <td>NaN</td>\n      <td>4.2</td>\n      <td>4.00000</td>\n      <td>4.407407</td>\n      <td>4.400000</td>\n      <td>4.2</td>\n      <td>NaN</td>\n    </tr>\n  </tbody>\n</table>\n</div>"
     },
     "execution_count": 25,
     "metadata": {},
     "output_type": "execute_result"
    }
   ],
   "source": [
    "users_genres_df = pd.concat([\n",
    "    movies_ratings_df[\"user_id\"].copy(),\n",
    "    movies_ratings_df[genres_list].mul(movies_ratings_df[\"rating\"], axis=0)\n",
    "], axis=1)\n",
    "\n",
    "users_genres_df[genres_list] = users_genres_df[genres_list].replace(0, None)\n",
    "users_genres_df = users_genres_df.groupby(\"user_id\")[genres_list].mean()\n",
    "users_genres_df.sample(5)"
   ],
   "metadata": {
    "collapsed": false,
    "pycharm": {
     "name": "#%%\n"
    }
   }
  },
  {
   "cell_type": "code",
   "execution_count": 26,
   "outputs": [
    {
     "data": {
      "text/plain": "          user_id  movie_id  year  rating  rating_mean  views_count    action  \\\n20122187   163467    115149  2014       2     3.543263         5351  2.781609   \n5785445    112795     83613  2011       1     2.628304         2459  2.682672   \n4669217    232491      3418  1991       3     3.455086        14138  3.272727   \n27011472   211956      3623  2000       5     2.815831        21073  4.166667   \n18611589    40822      1336  1991       3     2.243299          485  3.333333   \n\n          adventure  animation  children  ...    horror  imax   musical  \\\n20122187   2.595745   3.105263  3.142857  ...  3.596154   3.2  3.300000   \n5785445    2.731638   2.850467  2.881188  ...  2.875000   2.5  2.833333   \n4669217    3.633333   4.100000  3.937500  ...  3.000000   4.0  3.750000   \n27011472   4.333333        NaN       NaN  ...  5.000000   NaN       NaN   \n18611589   3.000000   4.000000  4.000000  ...  2.962791   NaN  4.500000   \n\n           mystery   romance    sci-fi  thriller       war   western  \\\n20122187  3.657895  3.304878  2.911765  3.341040  2.923077  3.363636   \n5785445   2.885057  2.910314  2.740876  2.748691  2.813953  2.793103   \n4669217   2.666667  3.484848  3.324324  3.035088  3.833333  3.285714   \n27011472       NaN  3.000000  4.500000  4.500000  5.000000  5.000000   \n18611589  3.250000  3.000000  3.285714  3.088608  4.000000  5.000000   \n\n          rating_binary  \n20122187              0  \n5785445               0  \n4669217               0  \n27011472              1  \n18611589              0  \n\n[5 rows x 26 columns]",
      "text/html": "<div>\n<style scoped>\n    .dataframe tbody tr th:only-of-type {\n        vertical-align: middle;\n    }\n\n    .dataframe tbody tr th {\n        vertical-align: top;\n    }\n\n    .dataframe thead th {\n        text-align: right;\n    }\n</style>\n<table border=\"1\" class=\"dataframe\">\n  <thead>\n    <tr style=\"text-align: right;\">\n      <th></th>\n      <th>user_id</th>\n      <th>movie_id</th>\n      <th>year</th>\n      <th>rating</th>\n      <th>rating_mean</th>\n      <th>views_count</th>\n      <th>action</th>\n      <th>adventure</th>\n      <th>animation</th>\n      <th>children</th>\n      <th>...</th>\n      <th>horror</th>\n      <th>imax</th>\n      <th>musical</th>\n      <th>mystery</th>\n      <th>romance</th>\n      <th>sci-fi</th>\n      <th>thriller</th>\n      <th>war</th>\n      <th>western</th>\n      <th>rating_binary</th>\n    </tr>\n  </thead>\n  <tbody>\n    <tr>\n      <th>20122187</th>\n      <td>163467</td>\n      <td>115149</td>\n      <td>2014</td>\n      <td>2</td>\n      <td>3.543263</td>\n      <td>5351</td>\n      <td>2.781609</td>\n      <td>2.595745</td>\n      <td>3.105263</td>\n      <td>3.142857</td>\n      <td>...</td>\n      <td>3.596154</td>\n      <td>3.2</td>\n      <td>3.300000</td>\n      <td>3.657895</td>\n      <td>3.304878</td>\n      <td>2.911765</td>\n      <td>3.341040</td>\n      <td>2.923077</td>\n      <td>3.363636</td>\n      <td>0</td>\n    </tr>\n    <tr>\n      <th>5785445</th>\n      <td>112795</td>\n      <td>83613</td>\n      <td>2011</td>\n      <td>1</td>\n      <td>2.628304</td>\n      <td>2459</td>\n      <td>2.682672</td>\n      <td>2.731638</td>\n      <td>2.850467</td>\n      <td>2.881188</td>\n      <td>...</td>\n      <td>2.875000</td>\n      <td>2.5</td>\n      <td>2.833333</td>\n      <td>2.885057</td>\n      <td>2.910314</td>\n      <td>2.740876</td>\n      <td>2.748691</td>\n      <td>2.813953</td>\n      <td>2.793103</td>\n      <td>0</td>\n    </tr>\n    <tr>\n      <th>4669217</th>\n      <td>232491</td>\n      <td>3418</td>\n      <td>1991</td>\n      <td>3</td>\n      <td>3.455086</td>\n      <td>14138</td>\n      <td>3.272727</td>\n      <td>3.633333</td>\n      <td>4.100000</td>\n      <td>3.937500</td>\n      <td>...</td>\n      <td>3.000000</td>\n      <td>4.0</td>\n      <td>3.750000</td>\n      <td>2.666667</td>\n      <td>3.484848</td>\n      <td>3.324324</td>\n      <td>3.035088</td>\n      <td>3.833333</td>\n      <td>3.285714</td>\n      <td>0</td>\n    </tr>\n    <tr>\n      <th>27011472</th>\n      <td>211956</td>\n      <td>3623</td>\n      <td>2000</td>\n      <td>5</td>\n      <td>2.815831</td>\n      <td>21073</td>\n      <td>4.166667</td>\n      <td>4.333333</td>\n      <td>NaN</td>\n      <td>NaN</td>\n      <td>...</td>\n      <td>5.000000</td>\n      <td>NaN</td>\n      <td>NaN</td>\n      <td>NaN</td>\n      <td>3.000000</td>\n      <td>4.500000</td>\n      <td>4.500000</td>\n      <td>5.000000</td>\n      <td>5.000000</td>\n      <td>1</td>\n    </tr>\n    <tr>\n      <th>18611589</th>\n      <td>40822</td>\n      <td>1336</td>\n      <td>1991</td>\n      <td>3</td>\n      <td>2.243299</td>\n      <td>485</td>\n      <td>3.333333</td>\n      <td>3.000000</td>\n      <td>4.000000</td>\n      <td>4.000000</td>\n      <td>...</td>\n      <td>2.962791</td>\n      <td>NaN</td>\n      <td>4.500000</td>\n      <td>3.250000</td>\n      <td>3.000000</td>\n      <td>3.285714</td>\n      <td>3.088608</td>\n      <td>4.000000</td>\n      <td>5.000000</td>\n      <td>0</td>\n    </tr>\n  </tbody>\n</table>\n<p>5 rows × 26 columns</p>\n</div>"
     },
     "execution_count": 26,
     "metadata": {},
     "output_type": "execute_result"
    }
   ],
   "source": [
    "genres_model_df = pd.merge(\n",
    "    movies_ratings_df[[\"user_id\", \"movie_id\", \"year\", \"rating\", \"rating_mean\", \"views_count\"]],\n",
    "    users_genres_df,\n",
    "    on=\"user_id\",\n",
    ")\n",
    "\n",
    "genres_model_df[\"rating_binary\"] = (genres_model_df[\"rating\"] >= 4).astype(\"int8\")\n",
    "genres_model_df.sample(5)"
   ],
   "metadata": {
    "collapsed": false,
    "pycharm": {
     "name": "#%%\n"
    }
   }
  },
  {
   "cell_type": "code",
   "execution_count": 27,
   "outputs": [
    {
     "data": {
      "text/plain": "user_id                0\nmovie_id               0\nyear                   0\nrating                 0\nrating_mean            0\nviews_count            0\naction            114503\nadventure         145577\nanimation        1758101\nchildren         1107787\ncomedy             58262\ncrime             286768\ndocumentary      9456604\ndrama              21889\nfantasy           571966\nfilm-noir        8160034\nhorror           1514761\nimax             4023094\nmusical          2575014\nmystery           881093\nromance           192395\nsci-fi            320433\nthriller          125084\nwar              1238659\nwestern          3868185\nrating_binary          0\ndtype: int64"
     },
     "execution_count": 27,
     "metadata": {},
     "output_type": "execute_result"
    }
   ],
   "source": [
    "genres_model_df.isna().sum()"
   ],
   "metadata": {
    "collapsed": false,
    "pycharm": {
     "name": "#%%\n"
    }
   }
  },
  {
   "cell_type": "code",
   "execution_count": 28,
   "outputs": [
    {
     "data": {
      "text/plain": "          user_id  movie_id  year  rating  rating_mean  views_count    action  \\\n1688164    153610       171  1995       1     3.567235         1465  2.259740   \n10406421   188502      4973  2001       4     3.949794        37167  3.000000   \n12810682    13863      1270  1985       2     3.811017        57492  2.635945   \n24575032   143901      1376  1986       1     3.353148        15376  2.000000   \n3822261    108547       587  1990       4     3.360602        32210  3.533141   \n\n          adventure  animation  children  ...    horror      imax   musical  \\\n1688164    2.280000   1.800000  1.826087  ...  1.700000  3.500000  2.272727   \n10406421   2.916667   2.200000  2.200000  ...  3.200000  3.428571  3.400000   \n12810682   2.874251   3.031250  2.593750  ...  2.275862  2.949153  2.636364   \n24575032   1.750000   3.478261  3.311475  ...  4.000000  3.428571  3.400000   \n3822261    3.504545   3.789474  3.297297  ...  3.500000  3.875000  3.818182   \n\n           mystery   romance    sci-fi  thriller       war   western  \\\n1688164   3.000000  2.719512  2.290323  2.623529  2.333333  1.500000   \n10406421  3.555556  3.400000  3.125000  3.476190  3.200000  5.000000   \n12810682  2.794872  2.783333  2.669811  2.708333  3.068966  2.285714   \n24575032  1.000000  2.333333  2.000000  2.333333  1.000000  3.444444   \n3822261   3.757576  3.402985  3.457565  3.583893  2.933333  3.636364   \n\n          rating_binary  \n1688164               0  \n10406421              1  \n12810682              0  \n24575032              0  \n3822261               1  \n\n[5 rows x 26 columns]",
      "text/html": "<div>\n<style scoped>\n    .dataframe tbody tr th:only-of-type {\n        vertical-align: middle;\n    }\n\n    .dataframe tbody tr th {\n        vertical-align: top;\n    }\n\n    .dataframe thead th {\n        text-align: right;\n    }\n</style>\n<table border=\"1\" class=\"dataframe\">\n  <thead>\n    <tr style=\"text-align: right;\">\n      <th></th>\n      <th>user_id</th>\n      <th>movie_id</th>\n      <th>year</th>\n      <th>rating</th>\n      <th>rating_mean</th>\n      <th>views_count</th>\n      <th>action</th>\n      <th>adventure</th>\n      <th>animation</th>\n      <th>children</th>\n      <th>...</th>\n      <th>horror</th>\n      <th>imax</th>\n      <th>musical</th>\n      <th>mystery</th>\n      <th>romance</th>\n      <th>sci-fi</th>\n      <th>thriller</th>\n      <th>war</th>\n      <th>western</th>\n      <th>rating_binary</th>\n    </tr>\n  </thead>\n  <tbody>\n    <tr>\n      <th>1688164</th>\n      <td>153610</td>\n      <td>171</td>\n      <td>1995</td>\n      <td>1</td>\n      <td>3.567235</td>\n      <td>1465</td>\n      <td>2.259740</td>\n      <td>2.280000</td>\n      <td>1.800000</td>\n      <td>1.826087</td>\n      <td>...</td>\n      <td>1.700000</td>\n      <td>3.500000</td>\n      <td>2.272727</td>\n      <td>3.000000</td>\n      <td>2.719512</td>\n      <td>2.290323</td>\n      <td>2.623529</td>\n      <td>2.333333</td>\n      <td>1.500000</td>\n      <td>0</td>\n    </tr>\n    <tr>\n      <th>10406421</th>\n      <td>188502</td>\n      <td>4973</td>\n      <td>2001</td>\n      <td>4</td>\n      <td>3.949794</td>\n      <td>37167</td>\n      <td>3.000000</td>\n      <td>2.916667</td>\n      <td>2.200000</td>\n      <td>2.200000</td>\n      <td>...</td>\n      <td>3.200000</td>\n      <td>3.428571</td>\n      <td>3.400000</td>\n      <td>3.555556</td>\n      <td>3.400000</td>\n      <td>3.125000</td>\n      <td>3.476190</td>\n      <td>3.200000</td>\n      <td>5.000000</td>\n      <td>1</td>\n    </tr>\n    <tr>\n      <th>12810682</th>\n      <td>13863</td>\n      <td>1270</td>\n      <td>1985</td>\n      <td>2</td>\n      <td>3.811017</td>\n      <td>57492</td>\n      <td>2.635945</td>\n      <td>2.874251</td>\n      <td>3.031250</td>\n      <td>2.593750</td>\n      <td>...</td>\n      <td>2.275862</td>\n      <td>2.949153</td>\n      <td>2.636364</td>\n      <td>2.794872</td>\n      <td>2.783333</td>\n      <td>2.669811</td>\n      <td>2.708333</td>\n      <td>3.068966</td>\n      <td>2.285714</td>\n      <td>0</td>\n    </tr>\n    <tr>\n      <th>24575032</th>\n      <td>143901</td>\n      <td>1376</td>\n      <td>1986</td>\n      <td>1</td>\n      <td>3.353148</td>\n      <td>15376</td>\n      <td>2.000000</td>\n      <td>1.750000</td>\n      <td>3.478261</td>\n      <td>3.311475</td>\n      <td>...</td>\n      <td>4.000000</td>\n      <td>3.428571</td>\n      <td>3.400000</td>\n      <td>1.000000</td>\n      <td>2.333333</td>\n      <td>2.000000</td>\n      <td>2.333333</td>\n      <td>1.000000</td>\n      <td>3.444444</td>\n      <td>0</td>\n    </tr>\n    <tr>\n      <th>3822261</th>\n      <td>108547</td>\n      <td>587</td>\n      <td>1990</td>\n      <td>4</td>\n      <td>3.360602</td>\n      <td>32210</td>\n      <td>3.533141</td>\n      <td>3.504545</td>\n      <td>3.789474</td>\n      <td>3.297297</td>\n      <td>...</td>\n      <td>3.500000</td>\n      <td>3.875000</td>\n      <td>3.818182</td>\n      <td>3.757576</td>\n      <td>3.402985</td>\n      <td>3.457565</td>\n      <td>3.583893</td>\n      <td>2.933333</td>\n      <td>3.636364</td>\n      <td>1</td>\n    </tr>\n  </tbody>\n</table>\n<p>5 rows × 26 columns</p>\n</div>"
     },
     "execution_count": 28,
     "metadata": {},
     "output_type": "execute_result"
    }
   ],
   "source": [
    "genres_model_df.dropna(axis=1, how=\"all\", inplace=True)\n",
    "genres_model_df.fillna(genres_model_df.median(), inplace=True)\n",
    "genres_model_df.sample(5)"
   ],
   "metadata": {
    "collapsed": false,
    "pycharm": {
     "name": "#%%\n"
    }
   }
  },
  {
   "cell_type": "code",
   "execution_count": 29,
   "outputs": [
    {
     "name": "stdout",
     "output_type": "stream",
     "text": [
      "<class 'pandas.core.frame.DataFrame'>\n",
      "Int64Index: 27735055 entries, 0 to 27735054\n",
      "Data columns (total 26 columns):\n",
      " #   Column         Dtype  \n",
      "---  ------         -----  \n",
      " 0   user_id        int64  \n",
      " 1   movie_id       int64  \n",
      " 2   year           int16  \n",
      " 3   rating         int8   \n",
      " 4   rating_mean    float64\n",
      " 5   views_count    int64  \n",
      " 6   action         float64\n",
      " 7   adventure      float64\n",
      " 8   animation      float64\n",
      " 9   children       float64\n",
      " 10  comedy         float64\n",
      " 11  crime          float64\n",
      " 12  documentary    float64\n",
      " 13  drama          float64\n",
      " 14  fantasy        float64\n",
      " 15  film-noir      float64\n",
      " 16  horror         float64\n",
      " 17  imax           float64\n",
      " 18  musical        float64\n",
      " 19  mystery        float64\n",
      " 20  romance        float64\n",
      " 21  sci-fi         float64\n",
      " 22  thriller       float64\n",
      " 23  war            float64\n",
      " 24  western        float64\n",
      " 25  rating_binary  int8   \n",
      "dtypes: float64(20), int16(1), int64(3), int8(2)\n",
      "memory usage: 5.1 GB\n"
     ]
    }
   ],
   "source": [
    "genres_model_df.info()"
   ],
   "metadata": {
    "collapsed": false,
    "pycharm": {
     "name": "#%%\n"
    }
   }
  },
  {
   "cell_type": "code",
   "execution_count": 30,
   "outputs": [
    {
     "name": "stdout",
     "output_type": "stream",
     "text": [
      "<class 'pandas.core.frame.DataFrame'>\n",
      "Int64Index: 27735055 entries, 0 to 27735054\n",
      "Data columns (total 26 columns):\n",
      " #   Column         Dtype  \n",
      "---  ------         -----  \n",
      " 0   user_id        int64  \n",
      " 1   movie_id       int64  \n",
      " 2   year           int16  \n",
      " 3   rating         int8   \n",
      " 4   rating_mean    float16\n",
      " 5   views_count    int64  \n",
      " 6   action         float16\n",
      " 7   adventure      float16\n",
      " 8   animation      float16\n",
      " 9   children       float16\n",
      " 10  comedy         float16\n",
      " 11  crime          float16\n",
      " 12  documentary    float16\n",
      " 13  drama          float16\n",
      " 14  fantasy        float16\n",
      " 15  film-noir      float16\n",
      " 16  horror         float16\n",
      " 17  imax           float16\n",
      " 18  musical        float16\n",
      " 19  mystery        float16\n",
      " 20  romance        float16\n",
      " 21  sci-fi         float16\n",
      " 22  thriller       float16\n",
      " 23  war            float16\n",
      " 24  western        float16\n",
      " 25  rating_binary  int8   \n",
      "dtypes: float16(20), int16(1), int64(3), int8(2)\n",
      "memory usage: 2.0 GB\n"
     ]
    }
   ],
   "source": [
    "dtypes_df = genres_model_df.select_dtypes([\"float64\", \"float32\"])\n",
    "genres_model_df[dtypes_df.columns] = dtypes_df.astype(\"float16\")\n",
    "genres_model_df.info()"
   ],
   "metadata": {
    "collapsed": false,
    "pycharm": {
     "name": "#%%\n"
    }
   }
  },
  {
   "cell_type": "code",
   "execution_count": 31,
   "outputs": [],
   "source": [
    "del movies_df, movies_ratings_df, users_genres_df"
   ],
   "metadata": {
    "collapsed": false,
    "pycharm": {
     "name": "#%%\n"
    }
   }
  },
  {
   "cell_type": "code",
   "execution_count": 32,
   "outputs": [
    {
     "data": {
      "text/plain": "<Figure size 1800x360 with 4 Axes>",
      "image/png": "[encoded data removed]"
     },
     "metadata": {
      "needs_background": "light"
     },
     "output_type": "display_data"
    }
   ],
   "source": [
    "fig, ax = plt.subplots(1, 4, figsize=(25, 5))\n",
    "\n",
    "for i, feature in enumerate(genres_model_df[[\"rating\", \"year\", \"rating_mean\", \"views_count\"]]):\n",
    "    sns.histplot(genres_model_df[feature], color=\"green\", stat=\"density\", ax=ax[i])"
   ],
   "metadata": {
    "collapsed": false,
    "pycharm": {
     "name": "#%%\n"
    }
   }
  },
  {
   "cell_type": "code",
   "execution_count": 33,
   "outputs": [
    {
     "data": {
      "text/plain": "<Figure size 1080x360 with 2 Axes>",
      "image/png": "[encoded data removed]"
     },
     "metadata": {
      "needs_background": "light"
     },
     "output_type": "display_data"
    }
   ],
   "source": [
    "corr = genres_model_df.drop([\"user_id\", \"movie_id\"], axis=1).corr().drop([\"rating\", \"rating_binary\"])\n",
    "\n",
    "fig, ax = plt.subplots(1, 2, figsize=(15, 5))\n",
    "\n",
    "for i, feature in enumerate(corr[[\"rating\", \"rating_binary\"]]):\n",
    "    sns.barplot(x=corr[feature], y=corr.index, orient=\"h\", color=\"red\", ax=ax[i])"
   ],
   "metadata": {
    "collapsed": false,
    "pycharm": {
     "name": "#%%\n"
    }
   }
  },
  {
   "cell_type": "code",
   "execution_count": 34,
   "outputs": [
    {
     "data": {
      "text/plain": "<seaborn.axisgrid.PairGrid at 0x25731062970>"
     },
     "execution_count": 34,
     "metadata": {},
     "output_type": "execute_result"
    },
    {
     "data": {
      "text/plain": "<Figure size 1080x360 with 3 Axes>",
      "image/png": "[encoded data removed]"
     },
     "metadata": {
      "needs_background": "light"
     },
     "output_type": "display_data"
    }
   ],
   "source": [
    "pg = sns.PairGrid(\n",
    "    genres_model_df,\n",
    "    x_vars=[\"year\", \"rating_mean\", \"views_count\"],\n",
    "    y_vars=\"rating\",\n",
    "    height=5,\n",
    ")\n",
    "\n",
    "pg.map(plt.scatter)"
   ],
   "metadata": {
    "collapsed": false,
    "pycharm": {
     "name": "#%%\n"
    }
   }
  },
  {
   "cell_type": "markdown",
   "source": [
    "### Модель тэгов"
   ],
   "metadata": {
    "collapsed": false
   }
  },
  {
   "cell_type": "code",
   "execution_count": 35,
   "outputs": [
    {
     "data": {
      "text/plain": "        user_id  movie_id  rating  rating_binary  10  11  1960s  1970s  1980s  \\\n205271   263860      2457       3              0   0   0      0      0      0   \n131383   163374       541       5              1   0   0      0      0      0   \n46009     60651      6942       4              1   0   0      0      0      0   \n25246     33852     56174       5              1   0   0      0      0      0   \n20020     27465      1375       4              1   0   0      0      0      0   \n\n        19thcentury  ...  willsmith  witch  witty  womandirector  women  \\\n205271            0  ...          0      0      0              0      0   \n131383            0  ...          0      0      0              0      0   \n46009             0  ...          0      0      0              0      0   \n25246             0  ...          1      0      0              0      0   \n20020             0  ...          0      0      0              0      0   \n\n        woodyallen  worldwarii  writer  zombie  zombies  \n205271           0           0       0       0        0  \n131383           0           0       0       0        0  \n46009            0           0       0       0        0  \n25246            0           0       0       0        0  \n20020            0           0       0       0        0  \n\n[5 rows x 504 columns]",
      "text/html": "<div>\n<style scoped>\n    .dataframe tbody tr th:only-of-type {\n        vertical-align: middle;\n    }\n\n    .dataframe tbody tr th {\n        vertical-align: top;\n    }\n\n    .dataframe thead th {\n        text-align: right;\n    }\n</style>\n<table border=\"1\" class=\"dataframe\">\n  <thead>\n    <tr style=\"text-align: right;\">\n      <th></th>\n      <th>user_id</th>\n      <th>movie_id</th>\n      <th>rating</th>\n      <th>rating_binary</th>\n      <th>10</th>\n      <th>11</th>\n      <th>1960s</th>\n      <th>1970s</th>\n      <th>1980s</th>\n      <th>19thcentury</th>\n      <th>...</th>\n      <th>willsmith</th>\n      <th>witch</th>\n      <th>witty</th>\n      <th>womandirector</th>\n      <th>women</th>\n      <th>woodyallen</th>\n      <th>worldwarii</th>\n      <th>writer</th>\n      <th>zombie</th>\n      <th>zombies</th>\n    </tr>\n  </thead>\n  <tbody>\n    <tr>\n      <th>205271</th>\n      <td>263860</td>\n      <td>2457</td>\n      <td>3</td>\n      <td>0</td>\n      <td>0</td>\n      <td>0</td>\n      <td>0</td>\n      <td>0</td>\n      <td>0</td>\n      <td>0</td>\n      <td>...</td>\n      <td>0</td>\n      <td>0</td>\n      <td>0</td>\n      <td>0</td>\n      <td>0</td>\n      <td>0</td>\n      <td>0</td>\n      <td>0</td>\n      <td>0</td>\n      <td>0</td>\n    </tr>\n    <tr>\n      <th>131383</th>\n      <td>163374</td>\n      <td>541</td>\n      <td>5</td>\n      <td>1</td>\n      <td>0</td>\n      <td>0</td>\n      <td>0</td>\n      <td>0</td>\n      <td>0</td>\n      <td>0</td>\n      <td>...</td>\n      <td>0</td>\n      <td>0</td>\n      <td>0</td>\n      <td>0</td>\n      <td>0</td>\n      <td>0</td>\n      <td>0</td>\n      <td>0</td>\n      <td>0</td>\n      <td>0</td>\n    </tr>\n    <tr>\n      <th>46009</th>\n      <td>60651</td>\n      <td>6942</td>\n      <td>4</td>\n      <td>1</td>\n      <td>0</td>\n      <td>0</td>\n      <td>0</td>\n      <td>0</td>\n      <td>0</td>\n      <td>0</td>\n      <td>...</td>\n      <td>0</td>\n      <td>0</td>\n      <td>0</td>\n      <td>0</td>\n      <td>0</td>\n      <td>0</td>\n      <td>0</td>\n      <td>0</td>\n      <td>0</td>\n      <td>0</td>\n    </tr>\n    <tr>\n      <th>25246</th>\n      <td>33852</td>\n      <td>56174</td>\n      <td>5</td>\n      <td>1</td>\n      <td>0</td>\n      <td>0</td>\n      <td>0</td>\n      <td>0</td>\n      <td>0</td>\n      <td>0</td>\n      <td>...</td>\n      <td>1</td>\n      <td>0</td>\n      <td>0</td>\n      <td>0</td>\n      <td>0</td>\n      <td>0</td>\n      <td>0</td>\n      <td>0</td>\n      <td>0</td>\n      <td>0</td>\n    </tr>\n    <tr>\n      <th>20020</th>\n      <td>27465</td>\n      <td>1375</td>\n      <td>4</td>\n      <td>1</td>\n      <td>0</td>\n      <td>0</td>\n      <td>0</td>\n      <td>0</td>\n      <td>0</td>\n      <td>0</td>\n      <td>...</td>\n      <td>0</td>\n      <td>0</td>\n      <td>0</td>\n      <td>0</td>\n      <td>0</td>\n      <td>0</td>\n      <td>0</td>\n      <td>0</td>\n      <td>0</td>\n      <td>0</td>\n    </tr>\n  </tbody>\n</table>\n<p>5 rows × 504 columns</p>\n</div>"
     },
     "execution_count": 35,
     "metadata": {},
     "output_type": "execute_result"
    }
   ],
   "source": [
    "tags_ratings_df = pd.merge(\n",
    "    ratings_df.set_index([\"user_id\", \"movie_id\"]),\n",
    "    tags_df.set_index([\"user_id\", \"movie_id\"]),\n",
    "    on=[\"user_id\", \"movie_id\"]\n",
    ").reset_index()\n",
    "\n",
    "tags_ratings_df.sample(5)"
   ],
   "metadata": {
    "collapsed": false,
    "pycharm": {
     "name": "#%%\n"
    }
   }
  },
  {
   "cell_type": "code",
   "execution_count": 37,
   "outputs": [
    {
     "data": {
      "text/plain": "         10  11  1960s  1970s  1980s  19thcentury  3d  70mm  absurd  acting  \\\nuser_id                                                                       \n43540   NaN NaN    NaN    NaN    NaN          NaN NaN   NaN     NaN     NaN   \n126436  NaN NaN    NaN    NaN    NaN          NaN NaN   NaN     NaN     NaN   \n197792  NaN NaN    NaN    NaN    NaN          NaN NaN   NaN     NaN     NaN   \n277877  NaN NaN    NaN    NaN    NaN          NaN NaN   NaN     NaN     NaN   \n216610  NaN NaN    NaN    NaN    NaN          NaN NaN   NaN     NaN     NaN   \n\n         ...  willsmith  witch  witty  womandirector  women  woodyallen  \\\nuser_id  ...                                                              \n43540    ...        NaN    NaN    NaN            NaN    NaN         NaN   \n126436   ...        NaN    NaN    NaN            NaN    NaN         NaN   \n197792   ...        NaN    NaN    NaN            NaN    NaN         NaN   \n277877   ...        NaN    NaN    NaN            NaN    NaN         NaN   \n216610   ...        NaN    NaN    5.0            NaN    NaN         NaN   \n\n         worldwarii  writer  zombie  zombies  \nuser_id                                       \n43540           NaN     NaN     NaN      NaN  \n126436          NaN     NaN     NaN      NaN  \n197792          NaN     NaN     NaN      NaN  \n277877          NaN     NaN     NaN      NaN  \n216610          NaN     NaN     NaN      NaN  \n\n[5 rows x 500 columns]",
      "text/html": "<div>\n<style scoped>\n    .dataframe tbody tr th:only-of-type {\n        vertical-align: middle;\n    }\n\n    .dataframe tbody tr th {\n        vertical-align: top;\n    }\n\n    .dataframe thead th {\n        text-align: right;\n    }\n</style>\n<table border=\"1\" class=\"dataframe\">\n  <thead>\n    <tr style=\"text-align: right;\">\n      <th></th>\n      <th>10</th>\n      <th>11</th>\n      <th>1960s</th>\n      <th>1970s</th>\n      <th>1980s</th>\n      <th>19thcentury</th>\n      <th>3d</th>\n      <th>70mm</th>\n      <th>absurd</th>\n      <th>acting</th>\n      <th>...</th>\n      <th>willsmith</th>\n      <th>witch</th>\n      <th>witty</th>\n      <th>womandirector</th>\n      <th>women</th>\n      <th>woodyallen</th>\n      <th>worldwarii</th>\n      <th>writer</th>\n      <th>zombie</th>\n      <th>zombies</th>\n    </tr>\n    <tr>\n      <th>user_id</th>\n      <th></th>\n      <th></th>\n      <th></th>\n      <th></th>\n      <th></th>\n      <th></th>\n      <th></th>\n      <th></th>\n      <th></th>\n      <th></th>\n      <th></th>\n      <th></th>\n      <th></th>\n      <th></th>\n      <th></th>\n      <th></th>\n      <th></th>\n      <th></th>\n      <th></th>\n      <th></th>\n      <th></th>\n    </tr>\n  </thead>\n  <tbody>\n    <tr>\n      <th>43540</th>\n      <td>NaN</td>\n      <td>NaN</td>\n      <td>NaN</td>\n      <td>NaN</td>\n      <td>NaN</td>\n      <td>NaN</td>\n      <td>NaN</td>\n      <td>NaN</td>\n      <td>NaN</td>\n      <td>NaN</td>\n      <td>...</td>\n      <td>NaN</td>\n      <td>NaN</td>\n      <td>NaN</td>\n      <td>NaN</td>\n      <td>NaN</td>\n      <td>NaN</td>\n      <td>NaN</td>\n      <td>NaN</td>\n      <td>NaN</td>\n      <td>NaN</td>\n    </tr>\n    <tr>\n      <th>126436</th>\n      <td>NaN</td>\n      <td>NaN</td>\n      <td>NaN</td>\n      <td>NaN</td>\n      <td>NaN</td>\n      <td>NaN</td>\n      <td>NaN</td>\n      <td>NaN</td>\n      <td>NaN</td>\n      <td>NaN</td>\n      <td>...</td>\n      <td>NaN</td>\n      <td>NaN</td>\n      <td>NaN</td>\n      <td>NaN</td>\n      <td>NaN</td>\n      <td>NaN</td>\n      <td>NaN</td>\n      <td>NaN</td>\n      <td>NaN</td>\n      <td>NaN</td>\n    </tr>\n    <tr>\n      <th>197792</th>\n      <td>NaN</td>\n      <td>NaN</td>\n      <td>NaN</td>\n      <td>NaN</td>\n      <td>NaN</td>\n      <td>NaN</td>\n      <td>NaN</td>\n      <td>NaN</td>\n      <td>NaN</td>\n      <td>NaN</td>\n      <td>...</td>\n      <td>NaN</td>\n      <td>NaN</td>\n      <td>NaN</td>\n      <td>NaN</td>\n      <td>NaN</td>\n      <td>NaN</td>\n      <td>NaN</td>\n      <td>NaN</td>\n      <td>NaN</td>\n      <td>NaN</td>\n    </tr>\n    <tr>\n      <th>277877</th>\n      <td>NaN</td>\n      <td>NaN</td>\n      <td>NaN</td>\n      <td>NaN</td>\n      <td>NaN</td>\n      <td>NaN</td>\n      <td>NaN</td>\n      <td>NaN</td>\n      <td>NaN</td>\n      <td>NaN</td>\n      <td>...</td>\n      <td>NaN</td>\n      <td>NaN</td>\n      <td>NaN</td>\n      <td>NaN</td>\n      <td>NaN</td>\n      <td>NaN</td>\n      <td>NaN</td>\n      <td>NaN</td>\n      <td>NaN</td>\n      <td>NaN</td>\n    </tr>\n    <tr>\n      <th>216610</th>\n      <td>NaN</td>\n      <td>NaN</td>\n      <td>NaN</td>\n      <td>NaN</td>\n      <td>NaN</td>\n      <td>NaN</td>\n      <td>NaN</td>\n      <td>NaN</td>\n      <td>NaN</td>\n      <td>NaN</td>\n      <td>...</td>\n      <td>NaN</td>\n      <td>NaN</td>\n      <td>5.0</td>\n      <td>NaN</td>\n      <td>NaN</td>\n      <td>NaN</td>\n      <td>NaN</td>\n      <td>NaN</td>\n      <td>NaN</td>\n      <td>NaN</td>\n    </tr>\n  </tbody>\n</table>\n<p>5 rows × 500 columns</p>\n</div>"
     },
     "execution_count": 37,
     "metadata": {},
     "output_type": "execute_result"
    }
   ],
   "source": [
    "users_tags_df = pd.concat([\n",
    "    tags_ratings_df[\"user_id\"].copy(),\n",
    "    tags_ratings_df[tags_list].mul(tags_ratings_df[\"rating\"], axis=0)\n",
    "], axis=1)\n",
    "\n",
    "users_tags_df.replace(0, None, inplace=True)\n",
    "users_tags_df = users_tags_df.groupby(\"user_id\")[tags_list].mean()\n",
    "users_tags_df.sample(5)"
   ],
   "metadata": {
    "collapsed": false,
    "pycharm": {
     "name": "#%%\n"
    }
   }
  },
  {
   "cell_type": "code",
   "execution_count": 38,
   "outputs": [
    {
     "data": {
      "text/plain": "        user_id  movie_id  rating  rating_binary  10  11     1960s     1970s  \\\n136055   169556       593       4              1 NaN NaN       NaN       NaN   \n27093     36523      5618       4              1 NaN NaN       NaN       NaN   \n164826   197461     25771       3              0 NaN NaN  3.857143  3.666667   \n175982   215208      3148       5              1 NaN NaN       NaN       NaN   \n108336   136753      2571       3              0 NaN NaN       NaN       NaN   \n\n        1980s  19thcentury  ...  willsmith  witch  witty  womandirector  \\\n136055    NaN          NaN  ...        NaN    NaN    NaN            NaN   \n27093     NaN          NaN  ...        NaN    NaN    NaN            NaN   \n164826    4.0          4.0  ...   3.285714    NaN    NaN            NaN   \n175982    NaN          NaN  ...        NaN    NaN    NaN            NaN   \n108336    NaN          NaN  ...        NaN    NaN    NaN            NaN   \n\n        women  woodyallen  worldwarii  writer  zombie  zombies  \n136055    NaN         NaN         NaN     NaN     NaN      NaN  \n27093     NaN         NaN         NaN     NaN     NaN      NaN  \n164826    NaN         3.5    3.857143     4.0     NaN      3.0  \n175982    NaN         NaN         NaN     NaN     NaN      NaN  \n108336    NaN         NaN         NaN     NaN     NaN      NaN  \n\n[5 rows x 504 columns]",
      "text/html": "<div>\n<style scoped>\n    .dataframe tbody tr th:only-of-type {\n        vertical-align: middle;\n    }\n\n    .dataframe tbody tr th {\n        vertical-align: top;\n    }\n\n    .dataframe thead th {\n        text-align: right;\n    }\n</style>\n<table border=\"1\" class=\"dataframe\">\n  <thead>\n    <tr style=\"text-align: right;\">\n      <th></th>\n      <th>user_id</th>\n      <th>movie_id</th>\n      <th>rating</th>\n      <th>rating_binary</th>\n      <th>10</th>\n      <th>11</th>\n      <th>1960s</th>\n      <th>1970s</th>\n      <th>1980s</th>\n      <th>19thcentury</th>\n      <th>...</th>\n      <th>willsmith</th>\n      <th>witch</th>\n      <th>witty</th>\n      <th>womandirector</th>\n      <th>women</th>\n      <th>woodyallen</th>\n      <th>worldwarii</th>\n      <th>writer</th>\n      <th>zombie</th>\n      <th>zombies</th>\n    </tr>\n  </thead>\n  <tbody>\n    <tr>\n      <th>136055</th>\n      <td>169556</td>\n      <td>593</td>\n      <td>4</td>\n      <td>1</td>\n      <td>NaN</td>\n      <td>NaN</td>\n      <td>NaN</td>\n      <td>NaN</td>\n      <td>NaN</td>\n      <td>NaN</td>\n      <td>...</td>\n      <td>NaN</td>\n      <td>NaN</td>\n      <td>NaN</td>\n      <td>NaN</td>\n      <td>NaN</td>\n      <td>NaN</td>\n      <td>NaN</td>\n      <td>NaN</td>\n      <td>NaN</td>\n      <td>NaN</td>\n    </tr>\n    <tr>\n      <th>27093</th>\n      <td>36523</td>\n      <td>5618</td>\n      <td>4</td>\n      <td>1</td>\n      <td>NaN</td>\n      <td>NaN</td>\n      <td>NaN</td>\n      <td>NaN</td>\n      <td>NaN</td>\n      <td>NaN</td>\n      <td>...</td>\n      <td>NaN</td>\n      <td>NaN</td>\n      <td>NaN</td>\n      <td>NaN</td>\n      <td>NaN</td>\n      <td>NaN</td>\n      <td>NaN</td>\n      <td>NaN</td>\n      <td>NaN</td>\n      <td>NaN</td>\n    </tr>\n    <tr>\n      <th>164826</th>\n      <td>197461</td>\n      <td>25771</td>\n      <td>3</td>\n      <td>0</td>\n      <td>NaN</td>\n      <td>NaN</td>\n      <td>3.857143</td>\n      <td>3.666667</td>\n      <td>4.0</td>\n      <td>4.0</td>\n      <td>...</td>\n      <td>3.285714</td>\n      <td>NaN</td>\n      <td>NaN</td>\n      <td>NaN</td>\n      <td>NaN</td>\n      <td>3.5</td>\n      <td>3.857143</td>\n      <td>4.0</td>\n      <td>NaN</td>\n      <td>3.0</td>\n    </tr>\n    <tr>\n      <th>175982</th>\n      <td>215208</td>\n      <td>3148</td>\n      <td>5</td>\n      <td>1</td>\n      <td>NaN</td>\n      <td>NaN</td>\n      <td>NaN</td>\n      <td>NaN</td>\n      <td>NaN</td>\n      <td>NaN</td>\n      <td>...</td>\n      <td>NaN</td>\n      <td>NaN</td>\n      <td>NaN</td>\n      <td>NaN</td>\n      <td>NaN</td>\n      <td>NaN</td>\n      <td>NaN</td>\n      <td>NaN</td>\n      <td>NaN</td>\n      <td>NaN</td>\n    </tr>\n    <tr>\n      <th>108336</th>\n      <td>136753</td>\n      <td>2571</td>\n      <td>3</td>\n      <td>0</td>\n      <td>NaN</td>\n      <td>NaN</td>\n      <td>NaN</td>\n      <td>NaN</td>\n      <td>NaN</td>\n      <td>NaN</td>\n      <td>...</td>\n      <td>NaN</td>\n      <td>NaN</td>\n      <td>NaN</td>\n      <td>NaN</td>\n      <td>NaN</td>\n      <td>NaN</td>\n      <td>NaN</td>\n      <td>NaN</td>\n      <td>NaN</td>\n      <td>NaN</td>\n    </tr>\n  </tbody>\n</table>\n<p>5 rows × 504 columns</p>\n</div>"
     },
     "execution_count": 38,
     "metadata": {},
     "output_type": "execute_result"
    }
   ],
   "source": [
    "tags_model_df = pd.merge(\n",
    "    tags_ratings_df[[\"user_id\", \"movie_id\", \"rating\", \"rating_binary\"]],\n",
    "    users_tags_df,\n",
    "    on=\"user_id\"\n",
    ")\n",
    "tags_model_df.sample(5)"
   ],
   "metadata": {
    "collapsed": false,
    "pycharm": {
     "name": "#%%\n"
    }
   }
  },
  {
   "cell_type": "code",
   "execution_count": 39,
   "outputs": [
    {
     "data": {
      "text/plain": "        user_id  movie_id  rating  rating_binary   10        11     1960s  \\\n160934   195628     26344       3              0  4.0  3.666667  3.454545   \n212076   273143    174055       5              1  4.0  3.666667  3.454545   \n22550     29677       562       4              1  4.0  3.666667  3.454545   \n131960   163965     48516       4              1  4.0  3.666667  3.454545   \n157166   194079      3247       5              1  4.0  3.666667  3.454545   \n\n        1970s     1980s  19thcentury  ...  willsmith  witch  witty  \\\n160934    3.5  3.600000     3.666667  ...        3.0    3.0    4.0   \n212076    3.5  3.600000     3.666667  ...        3.0    3.0    4.0   \n22550     3.5  3.666667     3.500000  ...        3.0    3.0    4.0   \n131960    3.5  3.600000     3.666667  ...        3.0    3.0    4.0   \n157166    3.5  3.600000     3.666667  ...        2.5    3.0    4.0   \n\n        womandirector  women  woodyallen  worldwarii    writer  zombie  \\\n160934            3.0    3.0    2.736842         3.8  3.153846     3.0   \n212076            3.0    3.0    3.500000         5.0  3.153846     3.0   \n22550             3.0    2.5    4.000000         3.0  3.153846     3.0   \n131960            3.0    3.0    3.500000         3.8  3.153846     3.0   \n157166            3.0    3.0    3.500000         3.8  3.153846     3.0   \n\n        zombies  \n160934     3.25  \n212076     3.25  \n22550      3.25  \n131960     3.25  \n157166     3.25  \n\n[5 rows x 504 columns]",
      "text/html": "<div>\n<style scoped>\n    .dataframe tbody tr th:only-of-type {\n        vertical-align: middle;\n    }\n\n    .dataframe tbody tr th {\n        vertical-align: top;\n    }\n\n    .dataframe thead th {\n        text-align: right;\n    }\n</style>\n<table border=\"1\" class=\"dataframe\">\n  <thead>\n    <tr style=\"text-align: right;\">\n      <th></th>\n      <th>user_id</th>\n      <th>movie_id</th>\n      <th>rating</th>\n      <th>rating_binary</th>\n      <th>10</th>\n      <th>11</th>\n      <th>1960s</th>\n      <th>1970s</th>\n      <th>1980s</th>\n      <th>19thcentury</th>\n      <th>...</th>\n      <th>willsmith</th>\n      <th>witch</th>\n      <th>witty</th>\n      <th>womandirector</th>\n      <th>women</th>\n      <th>woodyallen</th>\n      <th>worldwarii</th>\n      <th>writer</th>\n      <th>zombie</th>\n      <th>zombies</th>\n    </tr>\n  </thead>\n  <tbody>\n    <tr>\n      <th>160934</th>\n      <td>195628</td>\n      <td>26344</td>\n      <td>3</td>\n      <td>0</td>\n      <td>4.0</td>\n      <td>3.666667</td>\n      <td>3.454545</td>\n      <td>3.5</td>\n      <td>3.600000</td>\n      <td>3.666667</td>\n      <td>...</td>\n      <td>3.0</td>\n      <td>3.0</td>\n      <td>4.0</td>\n      <td>3.0</td>\n      <td>3.0</td>\n      <td>2.736842</td>\n      <td>3.8</td>\n      <td>3.153846</td>\n      <td>3.0</td>\n      <td>3.25</td>\n    </tr>\n    <tr>\n      <th>212076</th>\n      <td>273143</td>\n      <td>174055</td>\n      <td>5</td>\n      <td>1</td>\n      <td>4.0</td>\n      <td>3.666667</td>\n      <td>3.454545</td>\n      <td>3.5</td>\n      <td>3.600000</td>\n      <td>3.666667</td>\n      <td>...</td>\n      <td>3.0</td>\n      <td>3.0</td>\n      <td>4.0</td>\n      <td>3.0</td>\n      <td>3.0</td>\n      <td>3.500000</td>\n      <td>5.0</td>\n      <td>3.153846</td>\n      <td>3.0</td>\n      <td>3.25</td>\n    </tr>\n    <tr>\n      <th>22550</th>\n      <td>29677</td>\n      <td>562</td>\n      <td>4</td>\n      <td>1</td>\n      <td>4.0</td>\n      <td>3.666667</td>\n      <td>3.454545</td>\n      <td>3.5</td>\n      <td>3.666667</td>\n      <td>3.500000</td>\n      <td>...</td>\n      <td>3.0</td>\n      <td>3.0</td>\n      <td>4.0</td>\n      <td>3.0</td>\n      <td>2.5</td>\n      <td>4.000000</td>\n      <td>3.0</td>\n      <td>3.153846</td>\n      <td>3.0</td>\n      <td>3.25</td>\n    </tr>\n    <tr>\n      <th>131960</th>\n      <td>163965</td>\n      <td>48516</td>\n      <td>4</td>\n      <td>1</td>\n      <td>4.0</td>\n      <td>3.666667</td>\n      <td>3.454545</td>\n      <td>3.5</td>\n      <td>3.600000</td>\n      <td>3.666667</td>\n      <td>...</td>\n      <td>3.0</td>\n      <td>3.0</td>\n      <td>4.0</td>\n      <td>3.0</td>\n      <td>3.0</td>\n      <td>3.500000</td>\n      <td>3.8</td>\n      <td>3.153846</td>\n      <td>3.0</td>\n      <td>3.25</td>\n    </tr>\n    <tr>\n      <th>157166</th>\n      <td>194079</td>\n      <td>3247</td>\n      <td>5</td>\n      <td>1</td>\n      <td>4.0</td>\n      <td>3.666667</td>\n      <td>3.454545</td>\n      <td>3.5</td>\n      <td>3.600000</td>\n      <td>3.666667</td>\n      <td>...</td>\n      <td>2.5</td>\n      <td>3.0</td>\n      <td>4.0</td>\n      <td>3.0</td>\n      <td>3.0</td>\n      <td>3.500000</td>\n      <td>3.8</td>\n      <td>3.153846</td>\n      <td>3.0</td>\n      <td>3.25</td>\n    </tr>\n  </tbody>\n</table>\n<p>5 rows × 504 columns</p>\n</div>"
     },
     "execution_count": 39,
     "metadata": {},
     "output_type": "execute_result"
    }
   ],
   "source": [
    "tags_model_df.dropna(axis=1, how=\"all\", inplace=True)\n",
    "tags_model_df.fillna(tags_model_df.median(), inplace=True)\n",
    "tags_model_df.sample(5)"
   ],
   "metadata": {
    "collapsed": false,
    "pycharm": {
     "name": "#%%\n"
    }
   }
  },
  {
   "cell_type": "code",
   "execution_count": 40,
   "outputs": [
    {
     "name": "stdout",
     "output_type": "stream",
     "text": [
      "<class 'pandas.core.frame.DataFrame'>\n",
      "Int64Index: 220232 entries, 0 to 220231\n",
      "Columns: 504 entries, user_id to zombies\n",
      "dtypes: float64(500), int64(2), int8(2)\n",
      "memory usage: 845.6 MB\n"
     ]
    }
   ],
   "source": [
    "tags_model_df.info()"
   ],
   "metadata": {
    "collapsed": false,
    "pycharm": {
     "name": "#%%\n"
    }
   }
  },
  {
   "cell_type": "code",
   "execution_count": 41,
   "outputs": [
    {
     "name": "stdout",
     "output_type": "stream",
     "text": [
      "<class 'pandas.core.frame.DataFrame'>\n",
      "Int64Index: 220232 entries, 0 to 220231\n",
      "Columns: 504 entries, user_id to zombies\n",
      "dtypes: float16(500), int64(2), int8(2)\n",
      "memory usage: 215.5 MB\n"
     ]
    }
   ],
   "source": [
    "dtypes_df = tags_model_df.select_dtypes([\"float64\", \"float32\"])\n",
    "tags_model_df[dtypes_df.columns] = dtypes_df.astype(\"float16\")\n",
    "tags_model_df.info()"
   ],
   "metadata": {
    "collapsed": false,
    "pycharm": {
     "name": "#%%\n"
    }
   }
  },
  {
   "cell_type": "code",
   "execution_count": 42,
   "outputs": [],
   "source": [
    "del tags_df, tags_ratings_df, users_tags_df"
   ],
   "metadata": {
    "collapsed": false,
    "pycharm": {
     "name": "#%%\n"
    }
   }
  },
  {
   "cell_type": "code",
   "execution_count": 43,
   "outputs": [
    {
     "data": {
      "text/plain": "<AxesSubplot:xlabel='rating', ylabel='Density'>"
     },
     "execution_count": 43,
     "metadata": {},
     "output_type": "execute_result"
    },
    {
     "data": {
      "text/plain": "<Figure size 432x288 with 1 Axes>",
      "image/png": "[encoded data removed]"
     },
     "metadata": {
      "needs_background": "light"
     },
     "output_type": "display_data"
    }
   ],
   "source": [
    "sns.histplot(tags_model_df[\"rating\"], color=\"green\", stat=\"density\")"
   ],
   "metadata": {
    "collapsed": false,
    "pycharm": {
     "name": "#%%\n"
    }
   }
  },
  {
   "cell_type": "code",
   "execution_count": 44,
   "outputs": [
    {
     "data": {
      "text/plain": "<Figure size 1440x720 with 2 Axes>",
      "image/png": "[encoded data removed]"
     },
     "metadata": {
      "needs_background": "light"
     },
     "output_type": "display_data"
    }
   ],
   "source": [
    "corr = tags_model_df.drop([\"user_id\", \"movie_id\"], axis=1).corr().drop([\"rating\", \"rating_binary\"]).sample(20)\n",
    "\n",
    "fig, ax = plt.subplots(1, 2, figsize=(20, 10))\n",
    "\n",
    "for i, feature in enumerate(corr[[\"rating\", \"rating_binary\"]]):\n",
    "    sns.barplot(x=corr[feature], y=corr.index, orient=\"h\", color=\"red\", ax=ax[i])"
   ],
   "metadata": {
    "collapsed": false,
    "pycharm": {
     "name": "#%%\n"
    }
   }
  },
  {
   "cell_type": "markdown",
   "source": [
    "## Финальная модель"
   ],
   "metadata": {
    "collapsed": false
   }
  },
  {
   "cell_type": "code",
   "execution_count": 45,
   "outputs": [
    {
     "data": {
      "text/plain": "       year_genres  rating_genres  rating_mean_genres  views_count_genres  \\\n3513          1996              4            3.492188               25884   \n6700          2010              2            3.460938                 747   \n10270         2015              0            3.955078                  68   \n39699         1997              3            3.673828               12695   \n31290         1985              4            3.240234                1377   \n\n       action_genres  adventure_genres  animation_genres  children_genres  \\\n3513        3.099609          3.191406          3.382812         3.101562   \n6700        3.046875          3.095703          3.273438         3.298828   \n10270       2.871094          2.892578          2.894531         3.121094   \n39699       2.966797          3.013672          3.128906         2.923828   \n31290       3.078125          3.109375          3.091797         2.638672   \n\n       comedy_genres  crime_genres  ...  willsmith_tags  witch_tags  \\\n3513        3.283203      3.570312  ...             3.0    3.000000   \n6700        2.982422      2.894531  ...             3.0    3.000000   \n10270       2.611328      2.970703  ...             3.0    2.599609   \n39699       2.755859      2.923828  ...             3.0    3.000000   \n31290       3.355469      3.365234  ...             3.0    3.000000   \n\n       witty_tags  womandirector_tags  women_tags  woodyallen_tags  \\\n3513          4.0                 3.0         3.0         4.667969   \n6700          4.0                 3.0         3.0         3.500000   \n10270         4.5                 3.0         3.0         4.500000   \n39699         4.0                 3.0         3.0         3.500000   \n31290         4.0                 3.0         3.0         3.500000   \n\n       worldwarii_tags  writer_tags  zombie_tags  zombies_tags  \n3513          3.800781     3.154297          3.0      3.250000  \n6700          3.800781     3.154297          3.0      3.250000  \n10270         3.363281     3.511719          3.0      2.666016  \n39699         3.111328     3.154297          3.0      2.500000  \n31290         3.800781     3.154297          4.0      4.000000  \n\n[5 rows x 526 columns]",
      "text/html": "<div>\n<style scoped>\n    .dataframe tbody tr th:only-of-type {\n        vertical-align: middle;\n    }\n\n    .dataframe tbody tr th {\n        vertical-align: top;\n    }\n\n    .dataframe thead th {\n        text-align: right;\n    }\n</style>\n<table border=\"1\" class=\"dataframe\">\n  <thead>\n    <tr style=\"text-align: right;\">\n      <th></th>\n      <th>year_genres</th>\n      <th>rating_genres</th>\n      <th>rating_mean_genres</th>\n      <th>views_count_genres</th>\n      <th>action_genres</th>\n      <th>adventure_genres</th>\n      <th>animation_genres</th>\n      <th>children_genres</th>\n      <th>comedy_genres</th>\n      <th>crime_genres</th>\n      <th>...</th>\n      <th>willsmith_tags</th>\n      <th>witch_tags</th>\n      <th>witty_tags</th>\n      <th>womandirector_tags</th>\n      <th>women_tags</th>\n      <th>woodyallen_tags</th>\n      <th>worldwarii_tags</th>\n      <th>writer_tags</th>\n      <th>zombie_tags</th>\n      <th>zombies_tags</th>\n    </tr>\n  </thead>\n  <tbody>\n    <tr>\n      <th>3513</th>\n      <td>1996</td>\n      <td>4</td>\n      <td>3.492188</td>\n      <td>25884</td>\n      <td>3.099609</td>\n      <td>3.191406</td>\n      <td>3.382812</td>\n      <td>3.101562</td>\n      <td>3.283203</td>\n      <td>3.570312</td>\n      <td>...</td>\n      <td>3.0</td>\n      <td>3.000000</td>\n      <td>4.0</td>\n      <td>3.0</td>\n      <td>3.0</td>\n      <td>4.667969</td>\n      <td>3.800781</td>\n      <td>3.154297</td>\n      <td>3.0</td>\n      <td>3.250000</td>\n    </tr>\n    <tr>\n      <th>6700</th>\n      <td>2010</td>\n      <td>2</td>\n      <td>3.460938</td>\n      <td>747</td>\n      <td>3.046875</td>\n      <td>3.095703</td>\n      <td>3.273438</td>\n      <td>3.298828</td>\n      <td>2.982422</td>\n      <td>2.894531</td>\n      <td>...</td>\n      <td>3.0</td>\n      <td>3.000000</td>\n      <td>4.0</td>\n      <td>3.0</td>\n      <td>3.0</td>\n      <td>3.500000</td>\n      <td>3.800781</td>\n      <td>3.154297</td>\n      <td>3.0</td>\n      <td>3.250000</td>\n    </tr>\n    <tr>\n      <th>10270</th>\n      <td>2015</td>\n      <td>0</td>\n      <td>3.955078</td>\n      <td>68</td>\n      <td>2.871094</td>\n      <td>2.892578</td>\n      <td>2.894531</td>\n      <td>3.121094</td>\n      <td>2.611328</td>\n      <td>2.970703</td>\n      <td>...</td>\n      <td>3.0</td>\n      <td>2.599609</td>\n      <td>4.5</td>\n      <td>3.0</td>\n      <td>3.0</td>\n      <td>4.500000</td>\n      <td>3.363281</td>\n      <td>3.511719</td>\n      <td>3.0</td>\n      <td>2.666016</td>\n    </tr>\n    <tr>\n      <th>39699</th>\n      <td>1997</td>\n      <td>3</td>\n      <td>3.673828</td>\n      <td>12695</td>\n      <td>2.966797</td>\n      <td>3.013672</td>\n      <td>3.128906</td>\n      <td>2.923828</td>\n      <td>2.755859</td>\n      <td>2.923828</td>\n      <td>...</td>\n      <td>3.0</td>\n      <td>3.000000</td>\n      <td>4.0</td>\n      <td>3.0</td>\n      <td>3.0</td>\n      <td>3.500000</td>\n      <td>3.111328</td>\n      <td>3.154297</td>\n      <td>3.0</td>\n      <td>2.500000</td>\n    </tr>\n    <tr>\n      <th>31290</th>\n      <td>1985</td>\n      <td>4</td>\n      <td>3.240234</td>\n      <td>1377</td>\n      <td>3.078125</td>\n      <td>3.109375</td>\n      <td>3.091797</td>\n      <td>2.638672</td>\n      <td>3.355469</td>\n      <td>3.365234</td>\n      <td>...</td>\n      <td>3.0</td>\n      <td>3.000000</td>\n      <td>4.0</td>\n      <td>3.0</td>\n      <td>3.0</td>\n      <td>3.500000</td>\n      <td>3.800781</td>\n      <td>3.154297</td>\n      <td>4.0</td>\n      <td>4.000000</td>\n    </tr>\n  </tbody>\n</table>\n<p>5 rows × 526 columns</p>\n</div>"
     },
     "execution_count": 45,
     "metadata": {},
     "output_type": "execute_result"
    }
   ],
   "source": [
    "genres_model_renamed_df = genres_model_df.add_suffix(\"_genres\")\n",
    "tags_model_renamed_df = tags_model_df.add_suffix(\"_tags\")\n",
    "\n",
    "final_model_df = pd.merge(\n",
    "    genres_model_renamed_df.set_index([\"user_id_genres\", \"movie_id_genres\"]),\n",
    "    tags_model_renamed_df.set_index([\"user_id_tags\", \"movie_id_tags\"]),\n",
    "    left_on=[\"user_id_genres\", \"movie_id_genres\"],\n",
    "    right_on=[\"user_id_tags\", \"movie_id_tags\"],\n",
    ")\n",
    "\n",
    "final_model_df.sample(5)"
   ],
   "metadata": {
    "collapsed": false,
    "pycharm": {
     "name": "#%%\n"
    }
   }
  },
  {
   "cell_type": "code",
   "execution_count": 46,
   "outputs": [
    {
     "name": "stdout",
     "output_type": "stream",
     "text": [
      "<class 'pandas.core.frame.DataFrame'>\n",
      "Int64Index: 219475 entries, 0 to 219474\n",
      "Columns: 526 entries, year_genres to zombies_tags\n",
      "dtypes: float16(520), int16(1), int64(1), int8(4)\n",
      "memory usage: 222.3 MB\n"
     ]
    }
   ],
   "source": [
    "final_model_df.info()"
   ],
   "metadata": {
    "collapsed": false,
    "pycharm": {
     "name": "#%%\n"
    }
   }
  },
  {
   "cell_type": "markdown",
   "source": [
    "# Моделирование"
   ],
   "metadata": {
    "collapsed": false
   }
  },
  {
   "cell_type": "code",
   "execution_count": 47,
   "outputs": [],
   "source": [
    "def display_report(y_test: np.ndarray, y_pred: np.ndarray):\n",
    "    class_names = set(y_test)\n",
    "    ticks = np.arange(len(class_names))\n",
    "    plt.xticks(ticks, class_names)\n",
    "    plt.yticks(ticks, class_names)\n",
    "\n",
    "    sns.heatmap(pd.DataFrame(\n",
    "        metrics.confusion_matrix(y_test, y_pred)),\n",
    "        annot=True)\n",
    "    plt.ylabel('Действительные значения')\n",
    "    plt.xlabel('Предсказанные значения')\n",
    "    plt.show()\n",
    "\n",
    "    print(metrics.classification_report(y_test, y_pred, zero_division=0))"
   ],
   "metadata": {
    "collapsed": false,
    "pycharm": {
     "name": "#%%\n"
    }
   }
  },
  {
   "cell_type": "code",
   "execution_count": 48,
   "outputs": [],
   "source": [
    "genres_columns = genres_model_renamed_df.drop([\n",
    "    \"user_id_genres\", \"movie_id_genres\", \"rating_genres\", \"rating_binary_genres\"\n",
    "], axis=1).columns\n",
    "tags_columns = tags_model_renamed_df.drop([\n",
    "    \"user_id_tags\", \"movie_id_tags\", \"rating_tags\", \"rating_binary_tags\"\n",
    "], axis=1).columns\n",
    "\n",
    "genres_columns_nums = [genres_model_renamed_df.columns.get_loc(c) for c in genres_columns]\n",
    "tags_columns_nums = [tags_model_renamed_df.columns.get_loc(c) for c in tags_columns]\n",
    "\n",
    "x = final_model_df.drop([\n",
    "    \"rating_genres\", \"rating_binary_genres\", \"rating_tags\", \"rating_binary_tags\"\n",
    "], axis=1)\n",
    "y_multi = final_model_df[\"rating_genres\"]\n",
    "y_binary = final_model_df[\"rating_binary_genres\"]"
   ],
   "metadata": {
    "collapsed": false,
    "pycharm": {
     "name": "#%%\n"
    }
   }
  },
  {
   "cell_type": "code",
   "execution_count": 49,
   "outputs": [],
   "source": [
    "del final_model_df, genres_model_renamed_df, tags_model_renamed_df, genres_model_df, tags_model_df"
   ],
   "metadata": {
    "collapsed": false,
    "pycharm": {
     "name": "#%%\n"
    }
   }
  },
  {
   "cell_type": "markdown",
   "source": [
    "### Мультиклассовая модель"
   ],
   "metadata": {
    "collapsed": false
   }
  },
  {
   "cell_type": "code",
   "execution_count": 50,
   "outputs": [],
   "source": [
    "x_train, x_test, y_train, y_test = train_test_split(x, y_multi, test_size=0.2, stratify=y_multi)"
   ],
   "metadata": {
    "collapsed": false,
    "pycharm": {
     "name": "#%%\n"
    }
   }
  },
  {
   "cell_type": "code",
   "execution_count": 51,
   "outputs": [
    {
     "data": {
      "text/plain": "<Figure size 432x288 with 2 Axes>",
      "image/png": "[encoded data removed]"
     },
     "metadata": {
      "needs_background": "light"
     },
     "output_type": "display_data"
    },
    {
     "name": "stdout",
     "output_type": "stream",
     "text": [
      "              precision    recall  f1-score   support\n",
      "\n",
      "           0       0.27      0.04      0.08       746\n",
      "           1       0.31      0.06      0.10      1687\n",
      "           2       0.34      0.11      0.16      4285\n",
      "           3       0.45      0.43      0.44     12051\n",
      "           4       0.49      0.75      0.59     17244\n",
      "           5       0.61      0.30      0.41      7882\n",
      "\n",
      "    accuracy                           0.48     43895\n",
      "   macro avg       0.41      0.28      0.30     43895\n",
      "weighted avg       0.47      0.48      0.45     43895\n",
      "\n"
     ]
    }
   ],
   "source": [
    "pipe = Pipeline([\n",
    "    (\"scaling\", MinMaxScaler()),\n",
    "    (\"normalizing\", StandardScaler()),\n",
    "    (\"models\", StackingClassifier([\n",
    "        (\"genres\", Pipeline([\n",
    "            (\"extracting\", ColumnSelector(genres_columns_nums)),\n",
    "            (\"rfc\", RandomForestClassifier(max_depth=10, n_estimators=10, n_jobs=cpu_count())),\n",
    "        ])),\n",
    "        (\"tags\", Pipeline([\n",
    "            (\"extracting\", ColumnSelector(tags_columns_nums)),\n",
    "            (\"dtc\", DecisionTreeClassifier(max_depth=10))\n",
    "        ]))\n",
    "    ],\n",
    "        LogisticRegression(C=10, max_iter=1e7, n_jobs=cpu_count()),\n",
    "        n_jobs=cpu_count()\n",
    "    ))\n",
    "])\n",
    "\n",
    "pipe.fit(x_train, y_train)\n",
    "y_pred = pipe.predict(x_test)\n",
    "display_report(y_test, y_pred)"
   ],
   "metadata": {
    "collapsed": false,
    "pycharm": {
     "name": "#%%\n"
    }
   }
  },
  {
   "cell_type": "code",
   "execution_count": 52,
   "outputs": [
    {
     "name": "stderr",
     "output_type": "stream",
     "text": [
      "C:\\Users\\derbi\\Projects\\PyCharm\\course-work\\venv\\lib\\site-packages\\joblib\\externals\\loky\\process_executor.py:702: UserWarning: A worker stopped while some jobs were given to the executor. This can be caused by a too short worker timeout or by a memory leak.\n",
      "  warnings.warn(\n"
     ]
    },
    {
     "data": {
      "text/plain": "<Figure size 432x288 with 2 Axes>",
      "image/png": "[encoded data removed]"
     },
     "metadata": {
      "needs_background": "light"
     },
     "output_type": "display_data"
    },
    {
     "name": "stdout",
     "output_type": "stream",
     "text": [
      "              precision    recall  f1-score   support\n",
      "\n",
      "           0       0.41      0.11      0.18       746\n",
      "           1       0.37      0.13      0.19      1687\n",
      "           2       0.42      0.18      0.25      4285\n",
      "           3       0.49      0.49      0.49     12051\n",
      "           4       0.53      0.73      0.61     17244\n",
      "           5       0.60      0.39      0.47      7882\n",
      "\n",
      "    accuracy                           0.52     43895\n",
      "   macro avg       0.47      0.34      0.37     43895\n",
      "weighted avg       0.51      0.52      0.49     43895\n",
      "\n"
     ]
    }
   ],
   "source": [
    "pipe = Pipeline([\n",
    "    (\"mms\", MinMaxScaler()),\n",
    "    (\"ss\", StandardScaler()),\n",
    "    (\"sc\", StackingClassifier([\n",
    "        (\"knc\", KNeighborsClassifier(n_neighbors=50, n_jobs=cpu_count())),\n",
    "        (\"rfc\", RandomForestClassifier(max_depth=10, n_estimators=10, n_jobs=cpu_count())),\n",
    "        (\"dtc\", DecisionTreeClassifier(max_depth=10))\n",
    "    ],\n",
    "        LogisticRegression(max_iter=1e7, n_jobs=cpu_count()),\n",
    "        n_jobs=cpu_count()\n",
    "    ))\n",
    "])\n",
    "\n",
    "pipe.fit(x_train, y_train)\n",
    "y_pred = pipe.predict(x_test)\n",
    "display_report(y_test, y_pred)"
   ],
   "metadata": {
    "collapsed": false,
    "pycharm": {
     "name": "#%%\n"
    }
   }
  },
  {
   "cell_type": "markdown",
   "source": [
    "### Бинарная модель"
   ],
   "metadata": {
    "collapsed": false
   }
  },
  {
   "cell_type": "code",
   "execution_count": 53,
   "outputs": [],
   "source": [
    "x_train, x_test, y_train, y_test = train_test_split(x, y_binary, test_size=0.2, stratify=y_binary)"
   ],
   "metadata": {
    "collapsed": false,
    "pycharm": {
     "name": "#%%\n"
    }
   }
  },
  {
   "cell_type": "code",
   "execution_count": 54,
   "outputs": [
    {
     "data": {
      "text/plain": "<Figure size 432x288 with 2 Axes>",
      "image/png": "[encoded data removed]"
     },
     "metadata": {
      "needs_background": "light"
     },
     "output_type": "display_data"
    },
    {
     "name": "stdout",
     "output_type": "stream",
     "text": [
      "              precision    recall  f1-score   support\n",
      "\n",
      "           0       0.68      0.58      0.63     18769\n",
      "           1       0.72      0.80      0.76     25126\n",
      "\n",
      "    accuracy                           0.71     43895\n",
      "   macro avg       0.70      0.69      0.69     43895\n",
      "weighted avg       0.70      0.71      0.70     43895\n",
      "\n"
     ]
    }
   ],
   "source": [
    "pipe = Pipeline([\n",
    "    (\"scaling\", MinMaxScaler()),\n",
    "    (\"normalizing\", StandardScaler()),\n",
    "    (\"models\", StackingClassifier([\n",
    "        (\"genres\", Pipeline([\n",
    "            (\"extracting\", ColumnSelector(genres_columns_nums)),\n",
    "            (\"rfc\", RandomForestClassifier(max_depth=10, n_estimators=10, n_jobs=cpu_count())),\n",
    "        ])),\n",
    "        (\"tags\", Pipeline([\n",
    "            (\"extracting\", ColumnSelector(tags_columns_nums)),\n",
    "            (\"dtc\", DecisionTreeClassifier(max_depth=10))\n",
    "        ]))\n",
    "    ],\n",
    "        LogisticRegression(C=10, max_iter=1e7, n_jobs=cpu_count()),\n",
    "        n_jobs=cpu_count()\n",
    "    ))\n",
    "])\n",
    "\n",
    "pipe.fit(x_train, y_train)\n",
    "y_pred = pipe.predict(x_test)\n",
    "display_report(y_test, y_pred)"
   ],
   "metadata": {
    "collapsed": false,
    "pycharm": {
     "name": "#%%\n"
    }
   }
  },
  {
   "cell_type": "code",
   "execution_count": 55,
   "outputs": [
    {
     "data": {
      "text/plain": "<Figure size 432x288 with 2 Axes>",
      "image/png": "[encoded data removed]"
     },
     "metadata": {
      "needs_background": "light"
     },
     "output_type": "display_data"
    },
    {
     "name": "stdout",
     "output_type": "stream",
     "text": [
      "              precision    recall  f1-score   support\n",
      "\n",
      "           0       0.73      0.64      0.68     18769\n",
      "           1       0.76      0.82      0.79     25126\n",
      "\n",
      "    accuracy                           0.75     43895\n",
      "   macro avg       0.74      0.73      0.74     43895\n",
      "weighted avg       0.75      0.75      0.74     43895\n",
      "\n"
     ]
    }
   ],
   "source": [
    "pipe = Pipeline([\n",
    "    (\"mms\", MinMaxScaler()),\n",
    "    (\"ss\", StandardScaler()),\n",
    "    (\"sc\", StackingClassifier([\n",
    "        (\"knc\", KNeighborsClassifier(n_neighbors=50, n_jobs=cpu_count())),\n",
    "        (\"rfc\", RandomForestClassifier(max_depth=10, n_estimators=10, n_jobs=cpu_count())),\n",
    "        (\"dtc\", DecisionTreeClassifier(max_depth=10))\n",
    "    ],\n",
    "        LogisticRegression(max_iter=1e7, n_jobs=cpu_count()),\n",
    "        n_jobs=cpu_count()\n",
    "    ))\n",
    "])\n",
    "\n",
    "pipe.fit(x_train, y_train)\n",
    "y_pred = pipe.predict(x_test)\n",
    "display_report(y_test, y_pred)"
   ],
   "metadata": {
    "collapsed": false,
    "pycharm": {
     "name": "#%%\n"
    }
   }
  }
 ],
 "metadata": {
  "kernelspec": {
   "display_name": "Python 3",
   "language": "python",
   "name": "python3"
  },
  "language_info": {
   "codemirror_mode": {
    "name": "ipython",
    "version": 2
   },
   "file_extension": ".py",
   "mimetype": "text/x-python",
   "name": "python",
   "nbconvert_exporter": "python",
   "pygments_lexer": "ipython2",
   "version": "2.7.6"
  }
 },
 "nbformat": 4,
 "nbformat_minor": 0
}