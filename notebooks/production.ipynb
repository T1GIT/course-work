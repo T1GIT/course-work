{
 "cells": [
  {
   "cell_type": "code",
   "execution_count": 1,
   "outputs": [],
   "source": [
    "import re\n",
    "from multiprocessing import cpu_count\n",
    "\n",
    "import numpy as np\n",
    "import pandas as pd\n",
    "import seaborn as sns\n",
    "from matplotlib import pyplot as plt\n",
    "from mlxtend.feature_selection import ColumnSelector\n",
    "from sklearn import metrics\n",
    "from sklearn.decomposition import PCA\n",
    "from sklearn.ensemble import RandomForestClassifier, StackingClassifier\n",
    "from sklearn.feature_extraction.text import CountVectorizer\n",
    "from sklearn.linear_model import LogisticRegression\n",
    "from sklearn.model_selection import train_test_split\n",
    "from sklearn.neighbors import KNeighborsClassifier\n",
    "from sklearn.neural_network import MLPClassifier\n",
    "from sklearn.pipeline import Pipeline\n",
    "from sklearn.preprocessing import MinMaxScaler, StandardScaler\n",
    "from sklearn.tree import DecisionTreeClassifier\n",
    "\n",
    "\n",
    "%matplotlib inline"
   ],
   "metadata": {
    "collapsed": false,
    "pycharm": {
     "name": "#%%\n"
    }
   }
  },
  {
   "cell_type": "code",
   "execution_count": 2,
   "outputs": [],
   "source": [
    "source_path = \"../data/ml-latest\""
   ],
   "metadata": {
    "collapsed": false,
    "pycharm": {
     "name": "#%%\n"
    }
   }
  },
  {
   "cell_type": "markdown",
   "source": [
    "# Обработка данных"
   ],
   "metadata": {
    "collapsed": false,
    "pycharm": {
     "name": "#%% md\n"
    }
   }
  },
  {
   "cell_type": "markdown",
   "source": [
    "### Обработка movies.csv"
   ],
   "metadata": {
    "collapsed": false,
    "pycharm": {
     "name": "#%% md\n"
    }
   }
  },
  {
   "cell_type": "code",
   "execution_count": 3,
   "outputs": [
    {
     "data": {
      "text/plain": "       movieId                                              title  \\\n40322   153877                             Eve's Christmas (2004)   \n24526   113793  Reel Bad Arabs: How Hollywood Vilifies a Peopl...   \n15622    79220              Without Bias (a.k.a. Len Bias) (2009)   \n50185   175809                                      Jungle (2017)   \n8337     25735                                  Cheat, The (1915)   \n\n                       genres  \n40322                   Drama  \n24526             Documentary  \n15622             Documentary  \n50185  Action|Adventure|Drama  \n8337                    Drama  ",
      "text/html": "<div>\n<style scoped>\n    .dataframe tbody tr th:only-of-type {\n        vertical-align: middle;\n    }\n\n    .dataframe tbody tr th {\n        vertical-align: top;\n    }\n\n    .dataframe thead th {\n        text-align: right;\n    }\n</style>\n<table border=\"1\" class=\"dataframe\">\n  <thead>\n    <tr style=\"text-align: right;\">\n      <th></th>\n      <th>movieId</th>\n      <th>title</th>\n      <th>genres</th>\n    </tr>\n  </thead>\n  <tbody>\n    <tr>\n      <th>40322</th>\n      <td>153877</td>\n      <td>Eve's Christmas (2004)</td>\n      <td>Drama</td>\n    </tr>\n    <tr>\n      <th>24526</th>\n      <td>113793</td>\n      <td>Reel Bad Arabs: How Hollywood Vilifies a Peopl...</td>\n      <td>Documentary</td>\n    </tr>\n    <tr>\n      <th>15622</th>\n      <td>79220</td>\n      <td>Without Bias (a.k.a. Len Bias) (2009)</td>\n      <td>Documentary</td>\n    </tr>\n    <tr>\n      <th>50185</th>\n      <td>175809</td>\n      <td>Jungle (2017)</td>\n      <td>Action|Adventure|Drama</td>\n    </tr>\n    <tr>\n      <th>8337</th>\n      <td>25735</td>\n      <td>Cheat, The (1915)</td>\n      <td>Drama</td>\n    </tr>\n  </tbody>\n</table>\n</div>"
     },
     "execution_count": 3,
     "metadata": {},
     "output_type": "execute_result"
    }
   ],
   "source": [
    "movies_df = pd.read_csv(f\"{source_path}/movies.csv\")\n",
    "movies_df.sample(5)"
   ],
   "metadata": {
    "collapsed": false,
    "pycharm": {
     "name": "#%%\n"
    }
   }
  },
  {
   "cell_type": "code",
   "execution_count": 4,
   "outputs": [
    {
     "name": "stdout",
     "output_type": "stream",
     "text": [
      "<class 'pandas.core.frame.DataFrame'>\n",
      "RangeIndex: 58098 entries, 0 to 58097\n",
      "Data columns (total 3 columns):\n",
      " #   Column   Non-Null Count  Dtype \n",
      "---  ------   --------------  ----- \n",
      " 0   movieId  58098 non-null  int64 \n",
      " 1   title    58098 non-null  object\n",
      " 2   genres   58098 non-null  object\n",
      "dtypes: int64(1), object(2)\n",
      "memory usage: 1.3+ MB\n"
     ]
    }
   ],
   "source": [
    "movies_df.info()"
   ],
   "metadata": {
    "collapsed": false,
    "pycharm": {
     "name": "#%%\n"
    }
   }
  },
  {
   "cell_type": "code",
   "execution_count": 5,
   "outputs": [],
   "source": [
    "movies_df.rename({\n",
    "    \"movieId\": \"movie_id\"\n",
    "}, axis=1, inplace=True)"
   ],
   "metadata": {
    "collapsed": false,
    "pycharm": {
     "name": "#%%\n"
    }
   }
  },
  {
   "cell_type": "code",
   "execution_count": 6,
   "outputs": [
    {
     "data": {
      "text/plain": "       movie_id            genres  year\n3072       3158             Drama  1999\n51491    178745      Action|Drama  1980\n33271    137144             Drama  2014\n6934       7045  Children|Fantasy  1990\n23843    111544       Documentary  2013",
      "text/html": "<div>\n<style scoped>\n    .dataframe tbody tr th:only-of-type {\n        vertical-align: middle;\n    }\n\n    .dataframe tbody tr th {\n        vertical-align: top;\n    }\n\n    .dataframe thead th {\n        text-align: right;\n    }\n</style>\n<table border=\"1\" class=\"dataframe\">\n  <thead>\n    <tr style=\"text-align: right;\">\n      <th></th>\n      <th>movie_id</th>\n      <th>genres</th>\n      <th>year</th>\n    </tr>\n  </thead>\n  <tbody>\n    <tr>\n      <th>3072</th>\n      <td>3158</td>\n      <td>Drama</td>\n      <td>1999</td>\n    </tr>\n    <tr>\n      <th>51491</th>\n      <td>178745</td>\n      <td>Action|Drama</td>\n      <td>1980</td>\n    </tr>\n    <tr>\n      <th>33271</th>\n      <td>137144</td>\n      <td>Drama</td>\n      <td>2014</td>\n    </tr>\n    <tr>\n      <th>6934</th>\n      <td>7045</td>\n      <td>Children|Fantasy</td>\n      <td>1990</td>\n    </tr>\n    <tr>\n      <th>23843</th>\n      <td>111544</td>\n      <td>Documentary</td>\n      <td>2013</td>\n    </tr>\n  </tbody>\n</table>\n</div>"
     },
     "execution_count": 6,
     "metadata": {},
     "output_type": "execute_result"
    }
   ],
   "source": [
    "movies_df[\"genres\"].replace(\"(no genres listed)\", None, regex=False, inplace=True)\n",
    "movies_df.dropna(inplace=True)\n",
    "\n",
    "PATTERN_YEAR = re.compile(r\"\\((\\d{4})\\)$\")\n",
    "\n",
    "movies_df[\"year\"] = movies_df[\"title\"].str.strip().str.extract(PATTERN_YEAR)\n",
    "movies_df[\"year\"] = movies_df[\"year\"].fillna(movies_df[\"year\"].median()).astype(\"int16\")\n",
    "\n",
    "movies_df.drop(\"title\", axis=1, inplace=True)\n",
    "\n",
    "movies_df.sample(5)"
   ],
   "metadata": {
    "collapsed": false,
    "pycharm": {
     "name": "#%%\n"
    }
   }
  },
  {
   "cell_type": "code",
   "execution_count": 7,
   "outputs": [
    {
     "data": {
      "text/plain": "   movie_id  year  action  adventure  animation  children  comedy  crime  \\\n0         1  1995       0          1          1         1       1      0   \n1         2  1995       0          1          0         1       0      0   \n2         3  1995       0          0          0         0       1      0   \n3         4  1995       0          0          0         0       1      0   \n4         5  1995       0          0          0         0       1      0   \n\n   documentary  drama  ...  film-noir  horror  imax  musical  mystery  \\\n0            0      0  ...          0       0     0        0        0   \n1            0      0  ...          0       0     0        0        0   \n2            0      0  ...          0       0     0        0        0   \n3            0      1  ...          0       0     0        0        0   \n4            0      0  ...          0       0     0        0        0   \n\n   romance  sci-fi  thriller  war  western  \n0        0       0         0    0        0  \n1        0       0         0    0        0  \n2        1       0         0    0        0  \n3        1       0         0    0        0  \n4        0       0         0    0        0  \n\n[5 rows x 21 columns]",
      "text/html": "<div>\n<style scoped>\n    .dataframe tbody tr th:only-of-type {\n        vertical-align: middle;\n    }\n\n    .dataframe tbody tr th {\n        vertical-align: top;\n    }\n\n    .dataframe thead th {\n        text-align: right;\n    }\n</style>\n<table border=\"1\" class=\"dataframe\">\n  <thead>\n    <tr style=\"text-align: right;\">\n      <th></th>\n      <th>movie_id</th>\n      <th>year</th>\n      <th>action</th>\n      <th>adventure</th>\n      <th>animation</th>\n      <th>children</th>\n      <th>comedy</th>\n      <th>crime</th>\n      <th>documentary</th>\n      <th>drama</th>\n      <th>...</th>\n      <th>film-noir</th>\n      <th>horror</th>\n      <th>imax</th>\n      <th>musical</th>\n      <th>mystery</th>\n      <th>romance</th>\n      <th>sci-fi</th>\n      <th>thriller</th>\n      <th>war</th>\n      <th>western</th>\n    </tr>\n  </thead>\n  <tbody>\n    <tr>\n      <th>0</th>\n      <td>1</td>\n      <td>1995</td>\n      <td>0</td>\n      <td>1</td>\n      <td>1</td>\n      <td>1</td>\n      <td>1</td>\n      <td>0</td>\n      <td>0</td>\n      <td>0</td>\n      <td>...</td>\n      <td>0</td>\n      <td>0</td>\n      <td>0</td>\n      <td>0</td>\n      <td>0</td>\n      <td>0</td>\n      <td>0</td>\n      <td>0</td>\n      <td>0</td>\n      <td>0</td>\n    </tr>\n    <tr>\n      <th>1</th>\n      <td>2</td>\n      <td>1995</td>\n      <td>0</td>\n      <td>1</td>\n      <td>0</td>\n      <td>1</td>\n      <td>0</td>\n      <td>0</td>\n      <td>0</td>\n      <td>0</td>\n      <td>...</td>\n      <td>0</td>\n      <td>0</td>\n      <td>0</td>\n      <td>0</td>\n      <td>0</td>\n      <td>0</td>\n      <td>0</td>\n      <td>0</td>\n      <td>0</td>\n      <td>0</td>\n    </tr>\n    <tr>\n      <th>2</th>\n      <td>3</td>\n      <td>1995</td>\n      <td>0</td>\n      <td>0</td>\n      <td>0</td>\n      <td>0</td>\n      <td>1</td>\n      <td>0</td>\n      <td>0</td>\n      <td>0</td>\n      <td>...</td>\n      <td>0</td>\n      <td>0</td>\n      <td>0</td>\n      <td>0</td>\n      <td>0</td>\n      <td>1</td>\n      <td>0</td>\n      <td>0</td>\n      <td>0</td>\n      <td>0</td>\n    </tr>\n    <tr>\n      <th>3</th>\n      <td>4</td>\n      <td>1995</td>\n      <td>0</td>\n      <td>0</td>\n      <td>0</td>\n      <td>0</td>\n      <td>1</td>\n      <td>0</td>\n      <td>0</td>\n      <td>1</td>\n      <td>...</td>\n      <td>0</td>\n      <td>0</td>\n      <td>0</td>\n      <td>0</td>\n      <td>0</td>\n      <td>1</td>\n      <td>0</td>\n      <td>0</td>\n      <td>0</td>\n      <td>0</td>\n    </tr>\n    <tr>\n      <th>4</th>\n      <td>5</td>\n      <td>1995</td>\n      <td>0</td>\n      <td>0</td>\n      <td>0</td>\n      <td>0</td>\n      <td>1</td>\n      <td>0</td>\n      <td>0</td>\n      <td>0</td>\n      <td>...</td>\n      <td>0</td>\n      <td>0</td>\n      <td>0</td>\n      <td>0</td>\n      <td>0</td>\n      <td>0</td>\n      <td>0</td>\n      <td>0</td>\n      <td>0</td>\n      <td>0</td>\n    </tr>\n  </tbody>\n</table>\n<p>5 rows × 21 columns</p>\n</div>"
     },
     "execution_count": 7,
     "metadata": {},
     "output_type": "execute_result"
    }
   ],
   "source": [
    "cv = CountVectorizer(token_pattern=\"[a-z\\-]+\", binary=True, dtype=\"int8\")\n",
    "genres_vectors = cv.fit_transform(movies_df[\"genres\"])\n",
    "genres_list = cv.get_feature_names_out()\n",
    "movies_df = pd.concat([\n",
    "    movies_df.reset_index(drop=True).drop(\"genres\", axis=1),\n",
    "    pd.DataFrame(genres_vectors.todense(), columns=genres_list)\n",
    "], axis=1)\n",
    "movies_df.head(5)"
   ],
   "metadata": {
    "collapsed": false,
    "pycharm": {
     "name": "#%%\n"
    }
   }
  },
  {
   "cell_type": "code",
   "execution_count": 8,
   "outputs": [
    {
     "name": "stdout",
     "output_type": "stream",
     "text": [
      "<class 'pandas.core.frame.DataFrame'>\n",
      "RangeIndex: 53832 entries, 0 to 53831\n",
      "Data columns (total 21 columns):\n",
      " #   Column       Non-Null Count  Dtype\n",
      "---  ------       --------------  -----\n",
      " 0   movie_id     53832 non-null  int64\n",
      " 1   year         53832 non-null  int16\n",
      " 2   action       53832 non-null  int8 \n",
      " 3   adventure    53832 non-null  int8 \n",
      " 4   animation    53832 non-null  int8 \n",
      " 5   children     53832 non-null  int8 \n",
      " 6   comedy       53832 non-null  int8 \n",
      " 7   crime        53832 non-null  int8 \n",
      " 8   documentary  53832 non-null  int8 \n",
      " 9   drama        53832 non-null  int8 \n",
      " 10  fantasy      53832 non-null  int8 \n",
      " 11  film-noir    53832 non-null  int8 \n",
      " 12  horror       53832 non-null  int8 \n",
      " 13  imax         53832 non-null  int8 \n",
      " 14  musical      53832 non-null  int8 \n",
      " 15  mystery      53832 non-null  int8 \n",
      " 16  romance      53832 non-null  int8 \n",
      " 17  sci-fi       53832 non-null  int8 \n",
      " 18  thriller     53832 non-null  int8 \n",
      " 19  war          53832 non-null  int8 \n",
      " 20  western      53832 non-null  int8 \n",
      "dtypes: int16(1), int64(1), int8(19)\n",
      "memory usage: 1.5 MB\n"
     ]
    }
   ],
   "source": [
    "movies_df.info()"
   ],
   "metadata": {
    "collapsed": false,
    "pycharm": {
     "name": "#%%\n"
    }
   }
  },
  {
   "cell_type": "code",
   "execution_count": 9,
   "outputs": [],
   "source": [
    "del genres_vectors"
   ],
   "metadata": {
    "collapsed": false,
    "pycharm": {
     "name": "#%%\n"
    }
   }
  },
  {
   "cell_type": "markdown",
   "source": [
    "### Обработка tags.csv"
   ],
   "metadata": {
    "collapsed": false,
    "pycharm": {
     "name": "#%% md\n"
    }
   }
  },
  {
   "cell_type": "code",
   "execution_count": 10,
   "outputs": [
    {
     "data": {
      "text/plain": "         userId  movieId            tag   timestamp\n119003    36917     1777    chick flick  1299654879\n420708    73406   143863  escaped slave  1527220746\n1028058  258516     1921     psychology  1425167887\n145476    47622    99114          music  1372709871\n678260   141505    45499        mutants  1184638846",
      "text/html": "<div>\n<style scoped>\n    .dataframe tbody tr th:only-of-type {\n        vertical-align: middle;\n    }\n\n    .dataframe tbody tr th {\n        vertical-align: top;\n    }\n\n    .dataframe thead th {\n        text-align: right;\n    }\n</style>\n<table border=\"1\" class=\"dataframe\">\n  <thead>\n    <tr style=\"text-align: right;\">\n      <th></th>\n      <th>userId</th>\n      <th>movieId</th>\n      <th>tag</th>\n      <th>timestamp</th>\n    </tr>\n  </thead>\n  <tbody>\n    <tr>\n      <th>119003</th>\n      <td>36917</td>\n      <td>1777</td>\n      <td>chick flick</td>\n      <td>1299654879</td>\n    </tr>\n    <tr>\n      <th>420708</th>\n      <td>73406</td>\n      <td>143863</td>\n      <td>escaped slave</td>\n      <td>1527220746</td>\n    </tr>\n    <tr>\n      <th>1028058</th>\n      <td>258516</td>\n      <td>1921</td>\n      <td>psychology</td>\n      <td>1425167887</td>\n    </tr>\n    <tr>\n      <th>145476</th>\n      <td>47622</td>\n      <td>99114</td>\n      <td>music</td>\n      <td>1372709871</td>\n    </tr>\n    <tr>\n      <th>678260</th>\n      <td>141505</td>\n      <td>45499</td>\n      <td>mutants</td>\n      <td>1184638846</td>\n    </tr>\n  </tbody>\n</table>\n</div>"
     },
     "execution_count": 10,
     "metadata": {},
     "output_type": "execute_result"
    }
   ],
   "source": [
    "tags_df = pd.read_csv(f\"{source_path}/tags.csv\")\n",
    "tags_df.sample(5)"
   ],
   "metadata": {
    "collapsed": false,
    "pycharm": {
     "name": "#%%\n"
    }
   }
  },
  {
   "cell_type": "code",
   "execution_count": 11,
   "outputs": [
    {
     "name": "stdout",
     "output_type": "stream",
     "text": [
      "<class 'pandas.core.frame.DataFrame'>\n",
      "RangeIndex: 1108997 entries, 0 to 1108996\n",
      "Data columns (total 4 columns):\n",
      " #   Column     Non-Null Count    Dtype \n",
      "---  ------     --------------    ----- \n",
      " 0   userId     1108997 non-null  int64 \n",
      " 1   movieId    1108997 non-null  int64 \n",
      " 2   tag        1108981 non-null  object\n",
      " 3   timestamp  1108997 non-null  int64 \n",
      "dtypes: int64(3), object(1)\n",
      "memory usage: 33.8+ MB\n"
     ]
    }
   ],
   "source": [
    "tags_df.info()"
   ],
   "metadata": {
    "collapsed": false,
    "pycharm": {
     "name": "#%%\n"
    }
   }
  },
  {
   "cell_type": "code",
   "execution_count": 12,
   "outputs": [
    {
     "data": {
      "text/plain": "        user_id  movie_id             tag\n253231    68802    106920     bittersweet\n834503   189063       215      slow paced\n336833    73406     33649  woman director\n479102    78279    169190            loss\n962515   234668     26326   hallucinatory",
      "text/html": "<div>\n<style scoped>\n    .dataframe tbody tr th:only-of-type {\n        vertical-align: middle;\n    }\n\n    .dataframe tbody tr th {\n        vertical-align: top;\n    }\n\n    .dataframe thead th {\n        text-align: right;\n    }\n</style>\n<table border=\"1\" class=\"dataframe\">\n  <thead>\n    <tr style=\"text-align: right;\">\n      <th></th>\n      <th>user_id</th>\n      <th>movie_id</th>\n      <th>tag</th>\n    </tr>\n  </thead>\n  <tbody>\n    <tr>\n      <th>253231</th>\n      <td>68802</td>\n      <td>106920</td>\n      <td>bittersweet</td>\n    </tr>\n    <tr>\n      <th>834503</th>\n      <td>189063</td>\n      <td>215</td>\n      <td>slow paced</td>\n    </tr>\n    <tr>\n      <th>336833</th>\n      <td>73406</td>\n      <td>33649</td>\n      <td>woman director</td>\n    </tr>\n    <tr>\n      <th>479102</th>\n      <td>78279</td>\n      <td>169190</td>\n      <td>loss</td>\n    </tr>\n    <tr>\n      <th>962515</th>\n      <td>234668</td>\n      <td>26326</td>\n      <td>hallucinatory</td>\n    </tr>\n  </tbody>\n</table>\n</div>"
     },
     "execution_count": 12,
     "metadata": {},
     "output_type": "execute_result"
    }
   ],
   "source": [
    "tags_df.rename({\n",
    "    \"movieId\": \"movie_id\",\n",
    "    \"userId\": \"user_id\"\n",
    "}, axis=1, inplace=True)\n",
    "tags_df.drop(\"timestamp\", axis=1, inplace=True)\n",
    "tags_df.dropna(inplace=True)\n",
    "tags_df.sample(5)"
   ],
   "metadata": {
    "collapsed": false,
    "pycharm": {
     "name": "#%%\n"
    }
   }
  },
  {
   "cell_type": "code",
   "execution_count": 13,
   "outputs": [
    {
     "data": {
      "text/plain": "        user_id  movie_id                                                tag\n63144     63786    171689  charlottegainsbourg danstevens director:joseph...\n303522   268681       368                                                clv\n145710   103823     68954                                        pixar sweet\n271740   229896      1193     catchyscore exceptionalacting greatadaptations\n185308   147263      6356                           erlend'sdvds johnsturges",
      "text/html": "<div>\n<style scoped>\n    .dataframe tbody tr th:only-of-type {\n        vertical-align: middle;\n    }\n\n    .dataframe tbody tr th {\n        vertical-align: top;\n    }\n\n    .dataframe thead th {\n        text-align: right;\n    }\n</style>\n<table border=\"1\" class=\"dataframe\">\n  <thead>\n    <tr style=\"text-align: right;\">\n      <th></th>\n      <th>user_id</th>\n      <th>movie_id</th>\n      <th>tag</th>\n    </tr>\n  </thead>\n  <tbody>\n    <tr>\n      <th>63144</th>\n      <td>63786</td>\n      <td>171689</td>\n      <td>charlottegainsbourg danstevens director:joseph...</td>\n    </tr>\n    <tr>\n      <th>303522</th>\n      <td>268681</td>\n      <td>368</td>\n      <td>clv</td>\n    </tr>\n    <tr>\n      <th>145710</th>\n      <td>103823</td>\n      <td>68954</td>\n      <td>pixar sweet</td>\n    </tr>\n    <tr>\n      <th>271740</th>\n      <td>229896</td>\n      <td>1193</td>\n      <td>catchyscore exceptionalacting greatadaptations</td>\n    </tr>\n    <tr>\n      <th>185308</th>\n      <td>147263</td>\n      <td>6356</td>\n      <td>erlend'sdvds johnsturges</td>\n    </tr>\n  </tbody>\n</table>\n</div>"
     },
     "execution_count": 13,
     "metadata": {},
     "output_type": "execute_result"
    }
   ],
   "source": [
    "PATTERN_CAPS = re.compile(r\"[A-Z]+( [A-Z]+)+\")\n",
    "PATTERN_NETFLIX = re.compile(r\"^in netflix queue$\", flags=re.I)\n",
    "PATTERN_BASED = re.compile(r\"^based on a .*\", flags=re.I)\n",
    "PATTERN_ALPHA = re.compile(r\"^[a-z\\-]*$\", flags=re.I)\n",
    "PATTERN_ACTOR = re.compile(r\"^[A-Z][A-Za-z]+( [A-Z][A-Za-z]+)+$\")\n",
    "\n",
    "tags_df[\"tag\"] = tags_df[\"tag\"].str.strip()\n",
    "tags_df[\"tag\"].replace(\"[\\.\\(\\)( - )]\", \"\", regex=True, inplace=True)\n",
    "tags_df[\"tag\"] = tags_df[\"tag\"].str.replace(\"/\", \" \", regex=False)\n",
    "mask_caps = tags_df[\"tag\"].str.match(PATTERN_CAPS)\n",
    "tags_df.loc[mask_caps, \"tag\"] = tags_df.loc[mask_caps, \"tag\"].str.lower()\n",
    "mask_phrase = (tags_df[\"tag\"].str.match(PATTERN_BASED) |\n",
    "               tags_df[\"tag\"].str.match(PATTERN_ACTOR) |\n",
    "               tags_df[\"tag\"].str.match(PATTERN_NETFLIX))\n",
    "tags_df.loc[mask_phrase, \"tag\"] = tags_df.loc[mask_phrase, \"tag\"].str.replace(\" \", \"-\")\n",
    "mask_len = tags_df[\"tag\"].map(lambda t: len(t) == 1)\n",
    "tags_df.loc[mask_len, \"tag\"] = None\n",
    "tags_df[\"tag\"] = tags_df[\"tag\"].str.lower()\n",
    "\n",
    "tags_df.dropna(inplace=True)\n",
    "tags_df = tags_df.groupby([\"user_id\", \"movie_id\"], as_index=False).agg(\" \".join)\n",
    "tags_df.sample(5)"
   ],
   "metadata": {
    "collapsed": false,
    "pycharm": {
     "name": "#%%\n"
    }
   }
  },
  {
   "cell_type": "code",
   "execution_count": 14,
   "outputs": [
    {
     "data": {
      "text/plain": "        user_id  movie_id  007  007series  01  02  03  04  05  06  ...  \\\n296288   258370     68659    0          0   0   0   0   0   0   0  ...   \n140106   103013      8375    0          0   0   0   0   0   0   0  ...   \n70388     69997    110501    0          0   0   0   0   0   0   0  ...   \n274593   233686     72156    0          0   0   0   0   0   0   0  ...   \n168803   130208      4713    0          0   0   0   0   0   0   0  ...   \n\n        xmastheme  yakuza  youngadult  youth  youtube  zachgalifianakis  \\\n296288          0       0           0      0        0                 0   \n140106          0       0           0      0        0                 0   \n70388           0       0           0      0        0                 0   \n274593          0       0           0      0        0                 0   \n168803          0       0           0      0        0                 0   \n\n        zacksnyder  zombie  zombies  zooeydeschanel  \n296288           0       0        0               0  \n140106           0       0        0               0  \n70388            0       0        0               0  \n274593           0       0        0               0  \n168803           0       0        0               0  \n\n[5 rows x 2002 columns]",
      "text/html": "<div>\n<style scoped>\n    .dataframe tbody tr th:only-of-type {\n        vertical-align: middle;\n    }\n\n    .dataframe tbody tr th {\n        vertical-align: top;\n    }\n\n    .dataframe thead th {\n        text-align: right;\n    }\n</style>\n<table border=\"1\" class=\"dataframe\">\n  <thead>\n    <tr style=\"text-align: right;\">\n      <th></th>\n      <th>user_id</th>\n      <th>movie_id</th>\n      <th>007</th>\n      <th>007series</th>\n      <th>01</th>\n      <th>02</th>\n      <th>03</th>\n      <th>04</th>\n      <th>05</th>\n      <th>06</th>\n      <th>...</th>\n      <th>xmastheme</th>\n      <th>yakuza</th>\n      <th>youngadult</th>\n      <th>youth</th>\n      <th>youtube</th>\n      <th>zachgalifianakis</th>\n      <th>zacksnyder</th>\n      <th>zombie</th>\n      <th>zombies</th>\n      <th>zooeydeschanel</th>\n    </tr>\n  </thead>\n  <tbody>\n    <tr>\n      <th>296288</th>\n      <td>258370</td>\n      <td>68659</td>\n      <td>0</td>\n      <td>0</td>\n      <td>0</td>\n      <td>0</td>\n      <td>0</td>\n      <td>0</td>\n      <td>0</td>\n      <td>0</td>\n      <td>...</td>\n      <td>0</td>\n      <td>0</td>\n      <td>0</td>\n      <td>0</td>\n      <td>0</td>\n      <td>0</td>\n      <td>0</td>\n      <td>0</td>\n      <td>0</td>\n      <td>0</td>\n    </tr>\n    <tr>\n      <th>140106</th>\n      <td>103013</td>\n      <td>8375</td>\n      <td>0</td>\n      <td>0</td>\n      <td>0</td>\n      <td>0</td>\n      <td>0</td>\n      <td>0</td>\n      <td>0</td>\n      <td>0</td>\n      <td>...</td>\n      <td>0</td>\n      <td>0</td>\n      <td>0</td>\n      <td>0</td>\n      <td>0</td>\n      <td>0</td>\n      <td>0</td>\n      <td>0</td>\n      <td>0</td>\n      <td>0</td>\n    </tr>\n    <tr>\n      <th>70388</th>\n      <td>69997</td>\n      <td>110501</td>\n      <td>0</td>\n      <td>0</td>\n      <td>0</td>\n      <td>0</td>\n      <td>0</td>\n      <td>0</td>\n      <td>0</td>\n      <td>0</td>\n      <td>...</td>\n      <td>0</td>\n      <td>0</td>\n      <td>0</td>\n      <td>0</td>\n      <td>0</td>\n      <td>0</td>\n      <td>0</td>\n      <td>0</td>\n      <td>0</td>\n      <td>0</td>\n    </tr>\n    <tr>\n      <th>274593</th>\n      <td>233686</td>\n      <td>72156</td>\n      <td>0</td>\n      <td>0</td>\n      <td>0</td>\n      <td>0</td>\n      <td>0</td>\n      <td>0</td>\n      <td>0</td>\n      <td>0</td>\n      <td>...</td>\n      <td>0</td>\n      <td>0</td>\n      <td>0</td>\n      <td>0</td>\n      <td>0</td>\n      <td>0</td>\n      <td>0</td>\n      <td>0</td>\n      <td>0</td>\n      <td>0</td>\n    </tr>\n    <tr>\n      <th>168803</th>\n      <td>130208</td>\n      <td>4713</td>\n      <td>0</td>\n      <td>0</td>\n      <td>0</td>\n      <td>0</td>\n      <td>0</td>\n      <td>0</td>\n      <td>0</td>\n      <td>0</td>\n      <td>...</td>\n      <td>0</td>\n      <td>0</td>\n      <td>0</td>\n      <td>0</td>\n      <td>0</td>\n      <td>0</td>\n      <td>0</td>\n      <td>0</td>\n      <td>0</td>\n      <td>0</td>\n    </tr>\n  </tbody>\n</table>\n<p>5 rows × 2002 columns</p>\n</div>"
     },
     "execution_count": 14,
     "metadata": {},
     "output_type": "execute_result"
    }
   ],
   "source": [
    "cv = CountVectorizer(\n",
    "    token_pattern=\"[\\da-z\\-]+\", stop_words=\"english\",\n",
    "    max_features=500, min_df=5, max_df=0.8,\n",
    "    binary=True, dtype=\"int8\"\n",
    ")\n",
    "tags_vectors = cv.fit_transform(tags_df[\"tag\"])\n",
    "tags_list = cv.get_feature_names_out()\n",
    "tags_df = pd.concat([\n",
    "    tags_df.reset_index(drop=True).drop(\"tag\", axis=1),\n",
    "    pd.DataFrame(tags_vectors.todense(), columns=tags_list)\n",
    "], axis=1)\n",
    "tags_df.sample(5)"
   ],
   "metadata": {
    "collapsed": false,
    "pycharm": {
     "name": "#%%\n"
    }
   }
  },
  {
   "cell_type": "code",
   "execution_count": 15,
   "outputs": [
    {
     "data": {
      "text/plain": "<AxesSubplot:>"
     },
     "execution_count": 15,
     "metadata": {},
     "output_type": "execute_result"
    },
    {
     "data": {
      "text/plain": "<Figure size 432x288 with 1 Axes>",
      "image/png": "[encoded data removed]"
     },
     "metadata": {
      "needs_background": "light"
     },
     "output_type": "display_data"
    }
   ],
   "source": [
    "tags_df.drop([\"user_id\", \"movie_id\"], axis=1).sum().sort_values(ascending=False).plot()"
   ],
   "metadata": {
    "collapsed": false,
    "pycharm": {
     "name": "#%%\n"
    }
   }
  },
  {
   "cell_type": "code",
   "execution_count": 16,
   "outputs": [
    {
     "name": "stdout",
     "output_type": "stream",
     "text": [
      "<class 'pandas.core.frame.DataFrame'>\n",
      "RangeIndex: 323783 entries, 0 to 323782\n",
      "Columns: 2002 entries, user_id to zooeydeschanel\n",
      "dtypes: int64(2), int8(2000)\n",
      "memory usage: 622.5 MB\n"
     ]
    }
   ],
   "source": [
    "tags_df.info()"
   ],
   "metadata": {
    "collapsed": false,
    "pycharm": {
     "name": "#%%\n"
    }
   }
  },
  {
   "cell_type": "code",
   "execution_count": 17,
   "outputs": [],
   "source": [
    "del tags_vectors"
   ],
   "metadata": {
    "collapsed": false,
    "pycharm": {
     "name": "#%%\n"
    }
   }
  },
  {
   "cell_type": "markdown",
   "source": [
    "### Обработка ratings.csv"
   ],
   "metadata": {
    "collapsed": false,
    "pycharm": {
     "name": "#%% md\n"
    }
   }
  },
  {
   "cell_type": "code",
   "execution_count": 18,
   "outputs": [
    {
     "data": {
      "text/plain": "          userId  movieId  rating   timestamp\n27400469  279557      339     3.5  1212080261\n6275423    64361      969     5.0  1496171122\n8794380    90725     5025     3.0  1504721791\n847700      8527      910     2.0  1342565416\n12385504  126920     1913     4.0  1095737286",
      "text/html": "<div>\n<style scoped>\n    .dataframe tbody tr th:only-of-type {\n        vertical-align: middle;\n    }\n\n    .dataframe tbody tr th {\n        vertical-align: top;\n    }\n\n    .dataframe thead th {\n        text-align: right;\n    }\n</style>\n<table border=\"1\" class=\"dataframe\">\n  <thead>\n    <tr style=\"text-align: right;\">\n      <th></th>\n      <th>userId</th>\n      <th>movieId</th>\n      <th>rating</th>\n      <th>timestamp</th>\n    </tr>\n  </thead>\n  <tbody>\n    <tr>\n      <th>27400469</th>\n      <td>279557</td>\n      <td>339</td>\n      <td>3.5</td>\n      <td>1212080261</td>\n    </tr>\n    <tr>\n      <th>6275423</th>\n      <td>64361</td>\n      <td>969</td>\n      <td>5.0</td>\n      <td>1496171122</td>\n    </tr>\n    <tr>\n      <th>8794380</th>\n      <td>90725</td>\n      <td>5025</td>\n      <td>3.0</td>\n      <td>1504721791</td>\n    </tr>\n    <tr>\n      <th>847700</th>\n      <td>8527</td>\n      <td>910</td>\n      <td>2.0</td>\n      <td>1342565416</td>\n    </tr>\n    <tr>\n      <th>12385504</th>\n      <td>126920</td>\n      <td>1913</td>\n      <td>4.0</td>\n      <td>1095737286</td>\n    </tr>\n  </tbody>\n</table>\n</div>"
     },
     "execution_count": 18,
     "metadata": {},
     "output_type": "execute_result"
    }
   ],
   "source": [
    "ratings_df = pd.read_csv(f\"{source_path}/ratings.csv\")\n",
    "ratings_df.sample(5)"
   ],
   "metadata": {
    "collapsed": false,
    "pycharm": {
     "name": "#%%\n"
    }
   }
  },
  {
   "cell_type": "code",
   "execution_count": 19,
   "outputs": [
    {
     "name": "stdout",
     "output_type": "stream",
     "text": [
      "<class 'pandas.core.frame.DataFrame'>\n",
      "RangeIndex: 27753444 entries, 0 to 27753443\n",
      "Data columns (total 4 columns):\n",
      " #   Column     Dtype  \n",
      "---  ------     -----  \n",
      " 0   userId     int64  \n",
      " 1   movieId    int64  \n",
      " 2   rating     float64\n",
      " 3   timestamp  int64  \n",
      "dtypes: float64(1), int64(3)\n",
      "memory usage: 847.0 MB\n"
     ]
    }
   ],
   "source": [
    "ratings_df.info()"
   ],
   "metadata": {
    "collapsed": false,
    "pycharm": {
     "name": "#%%\n"
    }
   }
  },
  {
   "cell_type": "code",
   "execution_count": 20,
   "outputs": [],
   "source": [
    "ratings_df.rename({\n",
    "    \"movieId\": \"movie_id\",\n",
    "    \"userId\": \"user_id\"\n",
    "}, axis=1, inplace=True)"
   ],
   "metadata": {
    "collapsed": false,
    "pycharm": {
     "name": "#%%\n"
    }
   }
  },
  {
   "cell_type": "code",
   "execution_count": 21,
   "outputs": [],
   "source": [
    "ratings_df.drop(\"timestamp\", axis=1, inplace=True)\n",
    "ratings_df[\"rating\"] = ratings_df[\"rating\"].astype(\"int8\")"
   ],
   "metadata": {
    "collapsed": false,
    "pycharm": {
     "name": "#%%\n"
    }
   }
  },
  {
   "cell_type": "code",
   "execution_count": 22,
   "outputs": [
    {
     "data": {
      "text/plain": "          user_id  movie_id  rating  rating_binary\n16018819   163594      1375       4              1\n18883491   192673     72998       3              0\n20799740   212343      4874       1              0\n26463912   270256      1210       5              1\n25623276   261787      2692       3              0",
      "text/html": "<div>\n<style scoped>\n    .dataframe tbody tr th:only-of-type {\n        vertical-align: middle;\n    }\n\n    .dataframe tbody tr th {\n        vertical-align: top;\n    }\n\n    .dataframe thead th {\n        text-align: right;\n    }\n</style>\n<table border=\"1\" class=\"dataframe\">\n  <thead>\n    <tr style=\"text-align: right;\">\n      <th></th>\n      <th>user_id</th>\n      <th>movie_id</th>\n      <th>rating</th>\n      <th>rating_binary</th>\n    </tr>\n  </thead>\n  <tbody>\n    <tr>\n      <th>16018819</th>\n      <td>163594</td>\n      <td>1375</td>\n      <td>4</td>\n      <td>1</td>\n    </tr>\n    <tr>\n      <th>18883491</th>\n      <td>192673</td>\n      <td>72998</td>\n      <td>3</td>\n      <td>0</td>\n    </tr>\n    <tr>\n      <th>20799740</th>\n      <td>212343</td>\n      <td>4874</td>\n      <td>1</td>\n      <td>0</td>\n    </tr>\n    <tr>\n      <th>26463912</th>\n      <td>270256</td>\n      <td>1210</td>\n      <td>5</td>\n      <td>1</td>\n    </tr>\n    <tr>\n      <th>25623276</th>\n      <td>261787</td>\n      <td>2692</td>\n      <td>3</td>\n      <td>0</td>\n    </tr>\n  </tbody>\n</table>\n</div>"
     },
     "execution_count": 22,
     "metadata": {},
     "output_type": "execute_result"
    }
   ],
   "source": [
    "ratings_df[\"rating_binary\"] = (ratings_df[\"rating\"] >= 4).astype(\"int8\")\n",
    "ratings_df.sample(5)"
   ],
   "metadata": {
    "collapsed": false,
    "pycharm": {
     "name": "#%%\n"
    }
   }
  },
  {
   "cell_type": "code",
   "execution_count": 23,
   "outputs": [
    {
     "name": "stdout",
     "output_type": "stream",
     "text": [
      "<class 'pandas.core.frame.DataFrame'>\n",
      "Int64Index: 277534 entries, 25142902 to 19013998\n",
      "Data columns (total 4 columns):\n",
      " #   Column         Non-Null Count   Dtype\n",
      "---  ------         --------------   -----\n",
      " 0   user_id        277534 non-null  int64\n",
      " 1   movie_id       277534 non-null  int64\n",
      " 2   rating         277534 non-null  int8 \n",
      " 3   rating_binary  277534 non-null  int8 \n",
      "dtypes: int64(2), int8(2)\n",
      "memory usage: 6.9 MB\n"
     ]
    }
   ],
   "source": [
    "ratings_df.info()"
   ],
   "metadata": {
    "collapsed": false,
    "pycharm": {
     "name": "#%%\n"
    }
   }
  },
  {
   "cell_type": "markdown",
   "source": [
    "# Подготовка данных для моделей"
   ],
   "metadata": {
    "collapsed": false,
    "pycharm": {
     "name": "#%% md\n"
    }
   }
  },
  {
   "cell_type": "markdown",
   "source": [
    "### Модель жанров"
   ],
   "metadata": {
    "collapsed": false,
    "pycharm": {
     "name": "#%% md\n"
    }
   }
  },
  {
   "cell_type": "code",
   "execution_count": 24,
   "outputs": [
    {
     "data": {
      "text/plain": "        user_id  movie_id  rating  rating_binary  year  action  adventure  \\\n83936    259747      6986       4              1  1925       0          1   \n2495      30125      1270       3              0  1985       0          1   \n509      104564      2167       2              0  1998       1          0   \n73234    276946      5349       3              0  2002       1          1   \n232672   162871      6155       2              0  2003       0          0   \n\n        animation  children  comedy  ...  imax  musical  mystery  romance  \\\n83936           0         0       0  ...     0        0        0        1   \n2495            0         0       1  ...     0        0        0        0   \n509             0         0       0  ...     0        0        0        0   \n73234           0         0       0  ...     0        0        0        0   \n232672          0         0       1  ...     0        0        0        1   \n\n        sci-fi  thriller  war  western  views_count  rating_mean  \n83936        0         0    0        0           11     3.636364  \n2495         1         0    0        0          557     3.822262  \n509          0         1    0        0          149     3.154362  \n73234        1         1    0        0          314     3.273885  \n232672       0         0    0        0           66     2.909091  \n\n[5 rows x 26 columns]",
      "text/html": "<div>\n<style scoped>\n    .dataframe tbody tr th:only-of-type {\n        vertical-align: middle;\n    }\n\n    .dataframe tbody tr th {\n        vertical-align: top;\n    }\n\n    .dataframe thead th {\n        text-align: right;\n    }\n</style>\n<table border=\"1\" class=\"dataframe\">\n  <thead>\n    <tr style=\"text-align: right;\">\n      <th></th>\n      <th>user_id</th>\n      <th>movie_id</th>\n      <th>rating</th>\n      <th>rating_binary</th>\n      <th>year</th>\n      <th>action</th>\n      <th>adventure</th>\n      <th>animation</th>\n      <th>children</th>\n      <th>comedy</th>\n      <th>...</th>\n      <th>imax</th>\n      <th>musical</th>\n      <th>mystery</th>\n      <th>romance</th>\n      <th>sci-fi</th>\n      <th>thriller</th>\n      <th>war</th>\n      <th>western</th>\n      <th>views_count</th>\n      <th>rating_mean</th>\n    </tr>\n  </thead>\n  <tbody>\n    <tr>\n      <th>83936</th>\n      <td>259747</td>\n      <td>6986</td>\n      <td>4</td>\n      <td>1</td>\n      <td>1925</td>\n      <td>0</td>\n      <td>1</td>\n      <td>0</td>\n      <td>0</td>\n      <td>0</td>\n      <td>...</td>\n      <td>0</td>\n      <td>0</td>\n      <td>0</td>\n      <td>1</td>\n      <td>0</td>\n      <td>0</td>\n      <td>0</td>\n      <td>0</td>\n      <td>11</td>\n      <td>3.636364</td>\n    </tr>\n    <tr>\n      <th>2495</th>\n      <td>30125</td>\n      <td>1270</td>\n      <td>3</td>\n      <td>0</td>\n      <td>1985</td>\n      <td>0</td>\n      <td>1</td>\n      <td>0</td>\n      <td>0</td>\n      <td>1</td>\n      <td>...</td>\n      <td>0</td>\n      <td>0</td>\n      <td>0</td>\n      <td>0</td>\n      <td>1</td>\n      <td>0</td>\n      <td>0</td>\n      <td>0</td>\n      <td>557</td>\n      <td>3.822262</td>\n    </tr>\n    <tr>\n      <th>509</th>\n      <td>104564</td>\n      <td>2167</td>\n      <td>2</td>\n      <td>0</td>\n      <td>1998</td>\n      <td>1</td>\n      <td>0</td>\n      <td>0</td>\n      <td>0</td>\n      <td>0</td>\n      <td>...</td>\n      <td>0</td>\n      <td>0</td>\n      <td>0</td>\n      <td>0</td>\n      <td>0</td>\n      <td>1</td>\n      <td>0</td>\n      <td>0</td>\n      <td>149</td>\n      <td>3.154362</td>\n    </tr>\n    <tr>\n      <th>73234</th>\n      <td>276946</td>\n      <td>5349</td>\n      <td>3</td>\n      <td>0</td>\n      <td>2002</td>\n      <td>1</td>\n      <td>1</td>\n      <td>0</td>\n      <td>0</td>\n      <td>0</td>\n      <td>...</td>\n      <td>0</td>\n      <td>0</td>\n      <td>0</td>\n      <td>0</td>\n      <td>1</td>\n      <td>1</td>\n      <td>0</td>\n      <td>0</td>\n      <td>314</td>\n      <td>3.273885</td>\n    </tr>\n    <tr>\n      <th>232672</th>\n      <td>162871</td>\n      <td>6155</td>\n      <td>2</td>\n      <td>0</td>\n      <td>2003</td>\n      <td>0</td>\n      <td>0</td>\n      <td>0</td>\n      <td>0</td>\n      <td>1</td>\n      <td>...</td>\n      <td>0</td>\n      <td>0</td>\n      <td>0</td>\n      <td>1</td>\n      <td>0</td>\n      <td>0</td>\n      <td>0</td>\n      <td>0</td>\n      <td>66</td>\n      <td>2.909091</td>\n    </tr>\n  </tbody>\n</table>\n<p>5 rows × 26 columns</p>\n</div>"
     },
     "execution_count": 24,
     "metadata": {},
     "output_type": "execute_result"
    }
   ],
   "source": [
    "movies_ratings_df = pd.merge(\n",
    "    ratings_df,\n",
    "    movies_df,\n",
    "    on=\"movie_id\"\n",
    ")\n",
    "\n",
    "movies_ratings_df[\"views_count\"] = movies_ratings_df.groupby('movie_id')[\"user_id\"].transform('count')\n",
    "movies_ratings_df[\"rating_mean\"] = movies_ratings_df.groupby('movie_id')[\"rating\"].transform('mean')\n",
    "\n",
    "movies_ratings_df.sample(5)"
   ],
   "metadata": {
    "collapsed": false,
    "pycharm": {
     "name": "#%%\n"
    }
   }
  },
  {
   "cell_type": "code",
   "execution_count": 25,
   "outputs": [
    {
     "data": {
      "text/plain": "           action  adventure  animation  children    comedy  crime  \\\nuser_id                                                              \n46322    5.000000        NaN        NaN       NaN       NaN    5.0   \n138429   3.333333        3.0        3.0       3.0  3.333333    NaN   \n255050   2.000000        2.0        NaN       NaN  3.000000    4.0   \n61010         NaN        NaN        NaN       NaN  3.000000    NaN   \n252384        NaN        NaN        NaN       NaN       NaN    NaN   \n\n         documentary     drama  fantasy  film-noir    horror  imax  musical  \\\nuser_id                                                                       \n46322            NaN  5.000000      NaN        NaN       NaN   NaN      NaN   \n138429           NaN  3.666667      NaN        NaN  2.333333   3.0      NaN   \n255050           NaN  3.500000      NaN        NaN  3.000000   NaN      NaN   \n61010            NaN       NaN      NaN        NaN  3.000000   NaN      NaN   \n252384           NaN  4.000000      NaN        NaN       NaN   NaN      NaN   \n\n         mystery  romance  sci-fi  thriller  war  western  \nuser_id                                                    \n46322        NaN      NaN     NaN       NaN  NaN      NaN  \n138429       2.5      3.0     NaN       2.5  NaN      NaN  \n255050       3.5      2.0     NaN       3.5  NaN      NaN  \n61010        NaN      NaN     NaN       3.0  NaN      NaN  \n252384       NaN      NaN     NaN       4.0  NaN      NaN  ",
      "text/html": "<div>\n<style scoped>\n    .dataframe tbody tr th:only-of-type {\n        vertical-align: middle;\n    }\n\n    .dataframe tbody tr th {\n        vertical-align: top;\n    }\n\n    .dataframe thead th {\n        text-align: right;\n    }\n</style>\n<table border=\"1\" class=\"dataframe\">\n  <thead>\n    <tr style=\"text-align: right;\">\n      <th></th>\n      <th>action</th>\n      <th>adventure</th>\n      <th>animation</th>\n      <th>children</th>\n      <th>comedy</th>\n      <th>crime</th>\n      <th>documentary</th>\n      <th>drama</th>\n      <th>fantasy</th>\n      <th>film-noir</th>\n      <th>horror</th>\n      <th>imax</th>\n      <th>musical</th>\n      <th>mystery</th>\n      <th>romance</th>\n      <th>sci-fi</th>\n      <th>thriller</th>\n      <th>war</th>\n      <th>western</th>\n    </tr>\n    <tr>\n      <th>user_id</th>\n      <th></th>\n      <th></th>\n      <th></th>\n      <th></th>\n      <th></th>\n      <th></th>\n      <th></th>\n      <th></th>\n      <th></th>\n      <th></th>\n      <th></th>\n      <th></th>\n      <th></th>\n      <th></th>\n      <th></th>\n      <th></th>\n      <th></th>\n      <th></th>\n      <th></th>\n    </tr>\n  </thead>\n  <tbody>\n    <tr>\n      <th>46322</th>\n      <td>5.000000</td>\n      <td>NaN</td>\n      <td>NaN</td>\n      <td>NaN</td>\n      <td>NaN</td>\n      <td>5.0</td>\n      <td>NaN</td>\n      <td>5.000000</td>\n      <td>NaN</td>\n      <td>NaN</td>\n      <td>NaN</td>\n      <td>NaN</td>\n      <td>NaN</td>\n      <td>NaN</td>\n      <td>NaN</td>\n      <td>NaN</td>\n      <td>NaN</td>\n      <td>NaN</td>\n      <td>NaN</td>\n    </tr>\n    <tr>\n      <th>138429</th>\n      <td>3.333333</td>\n      <td>3.0</td>\n      <td>3.0</td>\n      <td>3.0</td>\n      <td>3.333333</td>\n      <td>NaN</td>\n      <td>NaN</td>\n      <td>3.666667</td>\n      <td>NaN</td>\n      <td>NaN</td>\n      <td>2.333333</td>\n      <td>3.0</td>\n      <td>NaN</td>\n      <td>2.5</td>\n      <td>3.0</td>\n      <td>NaN</td>\n      <td>2.5</td>\n      <td>NaN</td>\n      <td>NaN</td>\n    </tr>\n    <tr>\n      <th>255050</th>\n      <td>2.000000</td>\n      <td>2.0</td>\n      <td>NaN</td>\n      <td>NaN</td>\n      <td>3.000000</td>\n      <td>4.0</td>\n      <td>NaN</td>\n      <td>3.500000</td>\n      <td>NaN</td>\n      <td>NaN</td>\n      <td>3.000000</td>\n      <td>NaN</td>\n      <td>NaN</td>\n      <td>3.5</td>\n      <td>2.0</td>\n      <td>NaN</td>\n      <td>3.5</td>\n      <td>NaN</td>\n      <td>NaN</td>\n    </tr>\n    <tr>\n      <th>61010</th>\n      <td>NaN</td>\n      <td>NaN</td>\n      <td>NaN</td>\n      <td>NaN</td>\n      <td>3.000000</td>\n      <td>NaN</td>\n      <td>NaN</td>\n      <td>NaN</td>\n      <td>NaN</td>\n      <td>NaN</td>\n      <td>3.000000</td>\n      <td>NaN</td>\n      <td>NaN</td>\n      <td>NaN</td>\n      <td>NaN</td>\n      <td>NaN</td>\n      <td>3.0</td>\n      <td>NaN</td>\n      <td>NaN</td>\n    </tr>\n    <tr>\n      <th>252384</th>\n      <td>NaN</td>\n      <td>NaN</td>\n      <td>NaN</td>\n      <td>NaN</td>\n      <td>NaN</td>\n      <td>NaN</td>\n      <td>NaN</td>\n      <td>4.000000</td>\n      <td>NaN</td>\n      <td>NaN</td>\n      <td>NaN</td>\n      <td>NaN</td>\n      <td>NaN</td>\n      <td>NaN</td>\n      <td>NaN</td>\n      <td>NaN</td>\n      <td>4.0</td>\n      <td>NaN</td>\n      <td>NaN</td>\n    </tr>\n  </tbody>\n</table>\n</div>"
     },
     "execution_count": 25,
     "metadata": {},
     "output_type": "execute_result"
    }
   ],
   "source": [
    "users_genres_df = pd.concat([\n",
    "    movies_ratings_df[\"user_id\"].copy(),\n",
    "    movies_ratings_df[genres_list].mul(movies_ratings_df[\"rating\"], axis=0)\n",
    "], axis=1)\n",
    "\n",
    "users_genres_df[genres_list] = users_genres_df[genres_list].replace(0, None)\n",
    "users_genres_df = users_genres_df.groupby(\"user_id\")[genres_list].mean()\n",
    "users_genres_df.sample(5)"
   ],
   "metadata": {
    "collapsed": false,
    "pycharm": {
     "name": "#%%\n"
    }
   }
  },
  {
   "cell_type": "code",
   "execution_count": 26,
   "outputs": [
    {
     "data": {
      "text/plain": "        user_id  movie_id  year  rating  rating_mean  views_count    action  \\\n269385   268402    171763  2017       4     3.787879           33  3.000000   \n108778   111690     59429  2007       1     2.181818           11       NaN   \n112909   206116        42  1995       3     3.068966           29  3.142857   \n50928     49768      3948  2000       5     3.251121          223       NaN   \n101052   266509       595  1991       3     3.589520          458  5.000000   \n\n        adventure  animation  children  ...  horror  imax  musical  mystery  \\\n269385        2.0        NaN       NaN  ...     NaN   NaN      NaN      NaN   \n108778        NaN        NaN       2.0  ...     NaN   NaN      NaN      NaN   \n112909        3.4        NaN       NaN  ...     3.0   4.0      NaN      4.0   \n50928         NaN        NaN       NaN  ...     NaN   NaN      NaN      NaN   \n101052        NaN        3.0       3.0  ...     NaN   3.0      3.0      NaN   \n\n        romance  sci-fi  thriller  war  western  rating_binary  \n269385      NaN     NaN       4.0  NaN      NaN              1  \n108778      2.0     1.0       4.0  NaN      NaN              0  \n112909      3.0     3.5       3.5  NaN      NaN              0  \n50928       4.0     NaN       NaN  NaN      NaN              1  \n101052      3.0     NaN       NaN  5.0      NaN              0  \n\n[5 rows x 26 columns]",
      "text/html": "<div>\n<style scoped>\n    .dataframe tbody tr th:only-of-type {\n        vertical-align: middle;\n    }\n\n    .dataframe tbody tr th {\n        vertical-align: top;\n    }\n\n    .dataframe thead th {\n        text-align: right;\n    }\n</style>\n<table border=\"1\" class=\"dataframe\">\n  <thead>\n    <tr style=\"text-align: right;\">\n      <th></th>\n      <th>user_id</th>\n      <th>movie_id</th>\n      <th>year</th>\n      <th>rating</th>\n      <th>rating_mean</th>\n      <th>views_count</th>\n      <th>action</th>\n      <th>adventure</th>\n      <th>animation</th>\n      <th>children</th>\n      <th>...</th>\n      <th>horror</th>\n      <th>imax</th>\n      <th>musical</th>\n      <th>mystery</th>\n      <th>romance</th>\n      <th>sci-fi</th>\n      <th>thriller</th>\n      <th>war</th>\n      <th>western</th>\n      <th>rating_binary</th>\n    </tr>\n  </thead>\n  <tbody>\n    <tr>\n      <th>269385</th>\n      <td>268402</td>\n      <td>171763</td>\n      <td>2017</td>\n      <td>4</td>\n      <td>3.787879</td>\n      <td>33</td>\n      <td>3.000000</td>\n      <td>2.0</td>\n      <td>NaN</td>\n      <td>NaN</td>\n      <td>...</td>\n      <td>NaN</td>\n      <td>NaN</td>\n      <td>NaN</td>\n      <td>NaN</td>\n      <td>NaN</td>\n      <td>NaN</td>\n      <td>4.0</td>\n      <td>NaN</td>\n      <td>NaN</td>\n      <td>1</td>\n    </tr>\n    <tr>\n      <th>108778</th>\n      <td>111690</td>\n      <td>59429</td>\n      <td>2007</td>\n      <td>1</td>\n      <td>2.181818</td>\n      <td>11</td>\n      <td>NaN</td>\n      <td>NaN</td>\n      <td>NaN</td>\n      <td>2.0</td>\n      <td>...</td>\n      <td>NaN</td>\n      <td>NaN</td>\n      <td>NaN</td>\n      <td>NaN</td>\n      <td>2.0</td>\n      <td>1.0</td>\n      <td>4.0</td>\n      <td>NaN</td>\n      <td>NaN</td>\n      <td>0</td>\n    </tr>\n    <tr>\n      <th>112909</th>\n      <td>206116</td>\n      <td>42</td>\n      <td>1995</td>\n      <td>3</td>\n      <td>3.068966</td>\n      <td>29</td>\n      <td>3.142857</td>\n      <td>3.4</td>\n      <td>NaN</td>\n      <td>NaN</td>\n      <td>...</td>\n      <td>3.0</td>\n      <td>4.0</td>\n      <td>NaN</td>\n      <td>4.0</td>\n      <td>3.0</td>\n      <td>3.5</td>\n      <td>3.5</td>\n      <td>NaN</td>\n      <td>NaN</td>\n      <td>0</td>\n    </tr>\n    <tr>\n      <th>50928</th>\n      <td>49768</td>\n      <td>3948</td>\n      <td>2000</td>\n      <td>5</td>\n      <td>3.251121</td>\n      <td>223</td>\n      <td>NaN</td>\n      <td>NaN</td>\n      <td>NaN</td>\n      <td>NaN</td>\n      <td>...</td>\n      <td>NaN</td>\n      <td>NaN</td>\n      <td>NaN</td>\n      <td>NaN</td>\n      <td>4.0</td>\n      <td>NaN</td>\n      <td>NaN</td>\n      <td>NaN</td>\n      <td>NaN</td>\n      <td>1</td>\n    </tr>\n    <tr>\n      <th>101052</th>\n      <td>266509</td>\n      <td>595</td>\n      <td>1991</td>\n      <td>3</td>\n      <td>3.589520</td>\n      <td>458</td>\n      <td>5.000000</td>\n      <td>NaN</td>\n      <td>3.0</td>\n      <td>3.0</td>\n      <td>...</td>\n      <td>NaN</td>\n      <td>3.0</td>\n      <td>3.0</td>\n      <td>NaN</td>\n      <td>3.0</td>\n      <td>NaN</td>\n      <td>NaN</td>\n      <td>5.0</td>\n      <td>NaN</td>\n      <td>0</td>\n    </tr>\n  </tbody>\n</table>\n<p>5 rows × 26 columns</p>\n</div>"
     },
     "execution_count": 26,
     "metadata": {},
     "output_type": "execute_result"
    }
   ],
   "source": [
    "genres_model_df = pd.merge(\n",
    "    movies_ratings_df[[\"user_id\", \"movie_id\", \"year\", \"rating\", \"rating_mean\", \"views_count\"]],\n",
    "    users_genres_df,\n",
    "    on=\"user_id\",\n",
    ")\n",
    "\n",
    "genres_model_df[\"rating_binary\"] = (genres_model_df[\"rating\"] >= 4).astype(\"int8\")\n",
    "genres_model_df.sample(5)"
   ],
   "metadata": {
    "collapsed": false,
    "pycharm": {
     "name": "#%%\n"
    }
   }
  },
  {
   "cell_type": "code",
   "execution_count": 27,
   "outputs": [
    {
     "data": {
      "text/plain": "user_id               0\nmovie_id              0\nyear                  0\nrating                0\nrating_mean           0\nviews_count           0\naction            91251\nadventure        107783\nanimation        203936\nchildren         187495\ncomedy            75333\ncrime            135000\ndocumentary      253038\ndrama             58969\nfantasy          165439\nfilm-noir        260276\nhorror           193895\nimax             231364\nmusical          225955\nmystery          185979\nromance          128940\nsci-fi           136830\nthriller          97318\nwar              214596\nwestern          248277\nrating_binary         0\ndtype: int64"
     },
     "execution_count": 27,
     "metadata": {},
     "output_type": "execute_result"
    }
   ],
   "source": [
    "genres_model_df.isna().sum()"
   ],
   "metadata": {
    "collapsed": false,
    "pycharm": {
     "name": "#%%\n"
    }
   }
  },
  {
   "cell_type": "code",
   "execution_count": 28,
   "outputs": [
    {
     "data": {
      "text/plain": "        user_id  movie_id  year  rating  rating_mean  views_count    action  \\\n99232     30138      2762  1999       0     3.825427          527  3.500000   \n255695   239300      3703  1981       4     3.476636          107  4.000000   \n181624   117121       589  1991       5     3.880065          617  4.000000   \n205847   174562      3535  2000       3     3.495726          117  3.166667   \n176678   264946      1375  1984       4     3.125874          143  4.000000   \n\n        adventure  animation  children  ...  horror  imax  musical  mystery  \\\n99232        2.50   3.333333       3.0  ...     3.0   3.0      3.0      3.0   \n255695       4.00   3.333333       3.0  ...     3.0   3.0      3.0      3.5   \n181624       3.25   3.333333       3.0  ...     3.0   3.0      3.0      3.5   \n205847       3.25   3.333333       3.0  ...     3.0   3.0      3.0      3.0   \n176678       4.00   3.333333       3.0  ...     3.0   3.0      3.0      4.0   \n\n         romance  sci-fi  thriller  war  western  rating_binary  \n99232   2.500000     3.0  3.200000  4.0      2.0              0  \n255695  3.333333     4.0  4.000000  4.0      3.0              1  \n181624  3.333333     5.0  3.333333  4.0      3.0              1  \n205847  3.333333     3.0  3.000000  3.0      3.0              0  \n176678  3.333333     4.0  4.000000  4.0      4.0              1  \n\n[5 rows x 26 columns]",
      "text/html": "<div>\n<style scoped>\n    .dataframe tbody tr th:only-of-type {\n        vertical-align: middle;\n    }\n\n    .dataframe tbody tr th {\n        vertical-align: top;\n    }\n\n    .dataframe thead th {\n        text-align: right;\n    }\n</style>\n<table border=\"1\" class=\"dataframe\">\n  <thead>\n    <tr style=\"text-align: right;\">\n      <th></th>\n      <th>user_id</th>\n      <th>movie_id</th>\n      <th>year</th>\n      <th>rating</th>\n      <th>rating_mean</th>\n      <th>views_count</th>\n      <th>action</th>\n      <th>adventure</th>\n      <th>animation</th>\n      <th>children</th>\n      <th>...</th>\n      <th>horror</th>\n      <th>imax</th>\n      <th>musical</th>\n      <th>mystery</th>\n      <th>romance</th>\n      <th>sci-fi</th>\n      <th>thriller</th>\n      <th>war</th>\n      <th>western</th>\n      <th>rating_binary</th>\n    </tr>\n  </thead>\n  <tbody>\n    <tr>\n      <th>99232</th>\n      <td>30138</td>\n      <td>2762</td>\n      <td>1999</td>\n      <td>0</td>\n      <td>3.825427</td>\n      <td>527</td>\n      <td>3.500000</td>\n      <td>2.50</td>\n      <td>3.333333</td>\n      <td>3.0</td>\n      <td>...</td>\n      <td>3.0</td>\n      <td>3.0</td>\n      <td>3.0</td>\n      <td>3.0</td>\n      <td>2.500000</td>\n      <td>3.0</td>\n      <td>3.200000</td>\n      <td>4.0</td>\n      <td>2.0</td>\n      <td>0</td>\n    </tr>\n    <tr>\n      <th>255695</th>\n      <td>239300</td>\n      <td>3703</td>\n      <td>1981</td>\n      <td>4</td>\n      <td>3.476636</td>\n      <td>107</td>\n      <td>4.000000</td>\n      <td>4.00</td>\n      <td>3.333333</td>\n      <td>3.0</td>\n      <td>...</td>\n      <td>3.0</td>\n      <td>3.0</td>\n      <td>3.0</td>\n      <td>3.5</td>\n      <td>3.333333</td>\n      <td>4.0</td>\n      <td>4.000000</td>\n      <td>4.0</td>\n      <td>3.0</td>\n      <td>1</td>\n    </tr>\n    <tr>\n      <th>181624</th>\n      <td>117121</td>\n      <td>589</td>\n      <td>1991</td>\n      <td>5</td>\n      <td>3.880065</td>\n      <td>617</td>\n      <td>4.000000</td>\n      <td>3.25</td>\n      <td>3.333333</td>\n      <td>3.0</td>\n      <td>...</td>\n      <td>3.0</td>\n      <td>3.0</td>\n      <td>3.0</td>\n      <td>3.5</td>\n      <td>3.333333</td>\n      <td>5.0</td>\n      <td>3.333333</td>\n      <td>4.0</td>\n      <td>3.0</td>\n      <td>1</td>\n    </tr>\n    <tr>\n      <th>205847</th>\n      <td>174562</td>\n      <td>3535</td>\n      <td>2000</td>\n      <td>3</td>\n      <td>3.495726</td>\n      <td>117</td>\n      <td>3.166667</td>\n      <td>3.25</td>\n      <td>3.333333</td>\n      <td>3.0</td>\n      <td>...</td>\n      <td>3.0</td>\n      <td>3.0</td>\n      <td>3.0</td>\n      <td>3.0</td>\n      <td>3.333333</td>\n      <td>3.0</td>\n      <td>3.000000</td>\n      <td>3.0</td>\n      <td>3.0</td>\n      <td>0</td>\n    </tr>\n    <tr>\n      <th>176678</th>\n      <td>264946</td>\n      <td>1375</td>\n      <td>1984</td>\n      <td>4</td>\n      <td>3.125874</td>\n      <td>143</td>\n      <td>4.000000</td>\n      <td>4.00</td>\n      <td>3.333333</td>\n      <td>3.0</td>\n      <td>...</td>\n      <td>3.0</td>\n      <td>3.0</td>\n      <td>3.0</td>\n      <td>4.0</td>\n      <td>3.333333</td>\n      <td>4.0</td>\n      <td>4.000000</td>\n      <td>4.0</td>\n      <td>4.0</td>\n      <td>1</td>\n    </tr>\n  </tbody>\n</table>\n<p>5 rows × 26 columns</p>\n</div>"
     },
     "execution_count": 28,
     "metadata": {},
     "output_type": "execute_result"
    }
   ],
   "source": [
    "genres_model_df.dropna(axis=1, how=\"all\", inplace=True)\n",
    "genres_model_df.fillna(genres_model_df.median(), inplace=True)\n",
    "genres_model_df.sample(5)"
   ],
   "metadata": {
    "collapsed": false,
    "pycharm": {
     "name": "#%%\n"
    }
   }
  },
  {
   "cell_type": "code",
   "execution_count": 29,
   "outputs": [
    {
     "name": "stdout",
     "output_type": "stream",
     "text": [
      "<class 'pandas.core.frame.DataFrame'>\n",
      "Int64Index: 277362 entries, 0 to 277361\n",
      "Data columns (total 26 columns):\n",
      " #   Column         Non-Null Count   Dtype  \n",
      "---  ------         --------------   -----  \n",
      " 0   user_id        277362 non-null  int64  \n",
      " 1   movie_id       277362 non-null  int64  \n",
      " 2   year           277362 non-null  int16  \n",
      " 3   rating         277362 non-null  int8   \n",
      " 4   rating_mean    277362 non-null  float64\n",
      " 5   views_count    277362 non-null  int64  \n",
      " 6   action         277362 non-null  float64\n",
      " 7   adventure      277362 non-null  float64\n",
      " 8   animation      277362 non-null  float64\n",
      " 9   children       277362 non-null  float64\n",
      " 10  comedy         277362 non-null  float64\n",
      " 11  crime          277362 non-null  float64\n",
      " 12  documentary    277362 non-null  float64\n",
      " 13  drama          277362 non-null  float64\n",
      " 14  fantasy        277362 non-null  float64\n",
      " 15  film-noir      277362 non-null  float64\n",
      " 16  horror         277362 non-null  float64\n",
      " 17  imax           277362 non-null  float64\n",
      " 18  musical        277362 non-null  float64\n",
      " 19  mystery        277362 non-null  float64\n",
      " 20  romance        277362 non-null  float64\n",
      " 21  sci-fi         277362 non-null  float64\n",
      " 22  thriller       277362 non-null  float64\n",
      " 23  war            277362 non-null  float64\n",
      " 24  western        277362 non-null  float64\n",
      " 25  rating_binary  277362 non-null  int8   \n",
      "dtypes: float64(20), int16(1), int64(3), int8(2)\n",
      "memory usage: 51.8 MB\n"
     ]
    }
   ],
   "source": [
    "genres_model_df.info()"
   ],
   "metadata": {
    "collapsed": false,
    "pycharm": {
     "name": "#%%\n"
    }
   }
  },
  {
   "cell_type": "code",
   "execution_count": 30,
   "outputs": [
    {
     "name": "stdout",
     "output_type": "stream",
     "text": [
      "<class 'pandas.core.frame.DataFrame'>\n",
      "Int64Index: 277362 entries, 0 to 277361\n",
      "Data columns (total 26 columns):\n",
      " #   Column         Non-Null Count   Dtype  \n",
      "---  ------         --------------   -----  \n",
      " 0   user_id        277362 non-null  int64  \n",
      " 1   movie_id       277362 non-null  int64  \n",
      " 2   year           277362 non-null  int16  \n",
      " 3   rating         277362 non-null  int8   \n",
      " 4   rating_mean    277362 non-null  float16\n",
      " 5   views_count    277362 non-null  int64  \n",
      " 6   action         277362 non-null  float16\n",
      " 7   adventure      277362 non-null  float16\n",
      " 8   animation      277362 non-null  float16\n",
      " 9   children       277362 non-null  float16\n",
      " 10  comedy         277362 non-null  float16\n",
      " 11  crime          277362 non-null  float16\n",
      " 12  documentary    277362 non-null  float16\n",
      " 13  drama          277362 non-null  float16\n",
      " 14  fantasy        277362 non-null  float16\n",
      " 15  film-noir      277362 non-null  float16\n",
      " 16  horror         277362 non-null  float16\n",
      " 17  imax           277362 non-null  float16\n",
      " 18  musical        277362 non-null  float16\n",
      " 19  mystery        277362 non-null  float16\n",
      " 20  romance        277362 non-null  float16\n",
      " 21  sci-fi         277362 non-null  float16\n",
      " 22  thriller       277362 non-null  float16\n",
      " 23  war            277362 non-null  float16\n",
      " 24  western        277362 non-null  float16\n",
      " 25  rating_binary  277362 non-null  int8   \n",
      "dtypes: float16(20), int16(1), int64(3), int8(2)\n",
      "memory usage: 20.1 MB\n"
     ]
    }
   ],
   "source": [
    "dtypes_df = genres_model_df.select_dtypes([\"float64\", \"float32\"])\n",
    "genres_model_df[dtypes_df.columns] = dtypes_df.astype(\"float16\")\n",
    "genres_model_df.info()"
   ],
   "metadata": {
    "collapsed": false,
    "pycharm": {
     "name": "#%%\n"
    }
   }
  },
  {
   "cell_type": "code",
   "execution_count": 31,
   "outputs": [],
   "source": [
    "del movies_df, movies_ratings_df, users_genres_df"
   ],
   "metadata": {
    "collapsed": false,
    "pycharm": {
     "name": "#%%\n"
    }
   }
  },
  {
   "cell_type": "code",
   "execution_count": 32,
   "outputs": [
    {
     "data": {
      "text/plain": "<Figure size 1800x360 with 4 Axes>",
      "image/png": "[encoded data removed]"
     },
     "metadata": {
      "needs_background": "light"
     },
     "output_type": "display_data"
    }
   ],
   "source": [
    "fig, ax = plt.subplots(1, 4, figsize=(25, 5))\n",
    "\n",
    "for i, feature in enumerate(genres_model_df[[\"rating\", \"year\", \"rating_mean\", \"views_count\"]]):\n",
    "    sns.histplot(genres_model_df[feature], color=\"green\", stat=\"density\", ax=ax[i])"
   ],
   "metadata": {
    "collapsed": false,
    "pycharm": {
     "name": "#%%\n"
    }
   }
  },
  {
   "cell_type": "code",
   "execution_count": 33,
   "outputs": [
    {
     "data": {
      "text/plain": "<Figure size 1080x360 with 2 Axes>",
      "image/png": "[encoded data removed]"
     },
     "metadata": {
      "needs_background": "light"
     },
     "output_type": "display_data"
    }
   ],
   "source": [
    "corr = genres_model_df.drop([\"user_id\", \"movie_id\"], axis=1).corr().drop([\"rating\", \"rating_binary\"])\n",
    "\n",
    "fig, ax = plt.subplots(1, 2, figsize=(15, 5))\n",
    "\n",
    "for i, feature in enumerate(corr[[\"rating\", \"rating_binary\"]]):\n",
    "    sns.barplot(x=corr[feature], y=corr.index, orient=\"h\", color=\"red\", ax=ax[i])"
   ],
   "metadata": {
    "collapsed": false,
    "pycharm": {
     "name": "#%%\n"
    }
   }
  },
  {
   "cell_type": "code",
   "execution_count": 34,
   "outputs": [
    {
     "data": {
      "text/plain": "<seaborn.axisgrid.PairGrid at 0x2dccea5f040>"
     },
     "execution_count": 34,
     "metadata": {},
     "output_type": "execute_result"
    },
    {
     "data": {
      "text/plain": "<Figure size 1080x360 with 3 Axes>",
      "image/png": "[encoded data removed]"
     },
     "metadata": {
      "needs_background": "light"
     },
     "output_type": "display_data"
    }
   ],
   "source": [
    "pg = sns.PairGrid(\n",
    "    genres_model_df,\n",
    "    x_vars=[\"year\", \"rating_mean\", \"views_count\"],\n",
    "    y_vars=\"rating\",\n",
    "    height=5,\n",
    ")\n",
    "\n",
    "pg.map(plt.scatter)"
   ],
   "metadata": {
    "collapsed": false,
    "pycharm": {
     "name": "#%%\n"
    }
   }
  },
  {
   "cell_type": "markdown",
   "source": [
    "### Модель тэгов"
   ],
   "metadata": {
    "collapsed": false,
    "pycharm": {
     "name": "#%% md\n"
    }
   }
  },
  {
   "cell_type": "code",
   "execution_count": 35,
   "outputs": [
    {
     "data": {
      "text/plain": "      user_id  movie_id  rating  rating_binary  007  007series  01  02  03  \\\n478    170758      3623       4              1    0          0   0   0   0   \n1232   272029     47099       5              1    0          0   0   0   0   \n1261    71250      1918       0              0    0          0   0   0   0   \n593    173874      1704       4              1    0          0   0   0   0   \n1658    58489    166015       3              0    0          0   0   0   0   \n\n      04  ...  xmastheme  yakuza  youngadult  youth  youtube  \\\n478    0  ...          0       0           0      0        0   \n1232   0  ...          0       0           0      0        0   \n1261   0  ...          0       0           0      0        0   \n593    0  ...          0       0           0      0        0   \n1658   0  ...          0       0           0      0        0   \n\n      zachgalifianakis  zacksnyder  zombie  zombies  zooeydeschanel  \n478                  0           0       0        0               0  \n1232                 0           0       0        0               0  \n1261                 0           0       0        0               0  \n593                  0           0       0        0               0  \n1658                 0           0       0        0               0  \n\n[5 rows x 2004 columns]",
      "text/html": "<div>\n<style scoped>\n    .dataframe tbody tr th:only-of-type {\n        vertical-align: middle;\n    }\n\n    .dataframe tbody tr th {\n        vertical-align: top;\n    }\n\n    .dataframe thead th {\n        text-align: right;\n    }\n</style>\n<table border=\"1\" class=\"dataframe\">\n  <thead>\n    <tr style=\"text-align: right;\">\n      <th></th>\n      <th>user_id</th>\n      <th>movie_id</th>\n      <th>rating</th>\n      <th>rating_binary</th>\n      <th>007</th>\n      <th>007series</th>\n      <th>01</th>\n      <th>02</th>\n      <th>03</th>\n      <th>04</th>\n      <th>...</th>\n      <th>xmastheme</th>\n      <th>yakuza</th>\n      <th>youngadult</th>\n      <th>youth</th>\n      <th>youtube</th>\n      <th>zachgalifianakis</th>\n      <th>zacksnyder</th>\n      <th>zombie</th>\n      <th>zombies</th>\n      <th>zooeydeschanel</th>\n    </tr>\n  </thead>\n  <tbody>\n    <tr>\n      <th>478</th>\n      <td>170758</td>\n      <td>3623</td>\n      <td>4</td>\n      <td>1</td>\n      <td>0</td>\n      <td>0</td>\n      <td>0</td>\n      <td>0</td>\n      <td>0</td>\n      <td>0</td>\n      <td>...</td>\n      <td>0</td>\n      <td>0</td>\n      <td>0</td>\n      <td>0</td>\n      <td>0</td>\n      <td>0</td>\n      <td>0</td>\n      <td>0</td>\n      <td>0</td>\n      <td>0</td>\n    </tr>\n    <tr>\n      <th>1232</th>\n      <td>272029</td>\n      <td>47099</td>\n      <td>5</td>\n      <td>1</td>\n      <td>0</td>\n      <td>0</td>\n      <td>0</td>\n      <td>0</td>\n      <td>0</td>\n      <td>0</td>\n      <td>...</td>\n      <td>0</td>\n      <td>0</td>\n      <td>0</td>\n      <td>0</td>\n      <td>0</td>\n      <td>0</td>\n      <td>0</td>\n      <td>0</td>\n      <td>0</td>\n      <td>0</td>\n    </tr>\n    <tr>\n      <th>1261</th>\n      <td>71250</td>\n      <td>1918</td>\n      <td>0</td>\n      <td>0</td>\n      <td>0</td>\n      <td>0</td>\n      <td>0</td>\n      <td>0</td>\n      <td>0</td>\n      <td>0</td>\n      <td>...</td>\n      <td>0</td>\n      <td>0</td>\n      <td>0</td>\n      <td>0</td>\n      <td>0</td>\n      <td>0</td>\n      <td>0</td>\n      <td>0</td>\n      <td>0</td>\n      <td>0</td>\n    </tr>\n    <tr>\n      <th>593</th>\n      <td>173874</td>\n      <td>1704</td>\n      <td>4</td>\n      <td>1</td>\n      <td>0</td>\n      <td>0</td>\n      <td>0</td>\n      <td>0</td>\n      <td>0</td>\n      <td>0</td>\n      <td>...</td>\n      <td>0</td>\n      <td>0</td>\n      <td>0</td>\n      <td>0</td>\n      <td>0</td>\n      <td>0</td>\n      <td>0</td>\n      <td>0</td>\n      <td>0</td>\n      <td>0</td>\n    </tr>\n    <tr>\n      <th>1658</th>\n      <td>58489</td>\n      <td>166015</td>\n      <td>3</td>\n      <td>0</td>\n      <td>0</td>\n      <td>0</td>\n      <td>0</td>\n      <td>0</td>\n      <td>0</td>\n      <td>0</td>\n      <td>...</td>\n      <td>0</td>\n      <td>0</td>\n      <td>0</td>\n      <td>0</td>\n      <td>0</td>\n      <td>0</td>\n      <td>0</td>\n      <td>0</td>\n      <td>0</td>\n      <td>0</td>\n    </tr>\n  </tbody>\n</table>\n<p>5 rows × 2004 columns</p>\n</div>"
     },
     "execution_count": 35,
     "metadata": {},
     "output_type": "execute_result"
    }
   ],
   "source": [
    "tags_ratings_df = pd.merge(\n",
    "    ratings_df.set_index([\"user_id\", \"movie_id\"]),\n",
    "    tags_df.set_index([\"user_id\", \"movie_id\"]),\n",
    "    on=[\"user_id\", \"movie_id\"]\n",
    ").reset_index()\n",
    "\n",
    "tags_ratings_df.sample(5)"
   ],
   "metadata": {
    "collapsed": false,
    "pycharm": {
     "name": "#%%\n"
    }
   }
  },
  {
   "cell_type": "code",
   "execution_count": 36,
   "outputs": [
    {
     "data": {
      "text/plain": "         007  007series  01  02  03  04  05  06  08  09  ...  xmastheme  \\\nuser_id                                                  ...              \n264115   NaN        NaN NaN NaN NaN NaN NaN NaN NaN NaN  ...        NaN   \n153795   NaN        NaN NaN NaN NaN NaN NaN NaN NaN NaN  ...        NaN   \n39335    NaN        NaN NaN NaN NaN NaN NaN NaN NaN NaN  ...        NaN   \n256158   NaN        NaN NaN NaN NaN NaN NaN NaN NaN NaN  ...        NaN   \n46889    NaN        NaN NaN NaN NaN NaN NaN NaN NaN NaN  ...        NaN   \n\n         yakuza  youngadult  youth  youtube  zachgalifianakis  zacksnyder  \\\nuser_id                                                                     \n264115      NaN         NaN    NaN      NaN               NaN         NaN   \n153795      NaN         NaN    NaN      NaN               NaN         NaN   \n39335       NaN         NaN    NaN      NaN               NaN         NaN   \n256158      NaN         NaN    NaN      NaN               NaN         NaN   \n46889       NaN         NaN    NaN      NaN               NaN         NaN   \n\n         zombie  zombies  zooeydeschanel  \nuser_id                                   \n264115      NaN      NaN             NaN  \n153795      NaN      NaN             NaN  \n39335       NaN      NaN             NaN  \n256158      NaN      NaN             NaN  \n46889       NaN      NaN             NaN  \n\n[5 rows x 2000 columns]",
      "text/html": "<div>\n<style scoped>\n    .dataframe tbody tr th:only-of-type {\n        vertical-align: middle;\n    }\n\n    .dataframe tbody tr th {\n        vertical-align: top;\n    }\n\n    .dataframe thead th {\n        text-align: right;\n    }\n</style>\n<table border=\"1\" class=\"dataframe\">\n  <thead>\n    <tr style=\"text-align: right;\">\n      <th></th>\n      <th>007</th>\n      <th>007series</th>\n      <th>01</th>\n      <th>02</th>\n      <th>03</th>\n      <th>04</th>\n      <th>05</th>\n      <th>06</th>\n      <th>08</th>\n      <th>09</th>\n      <th>...</th>\n      <th>xmastheme</th>\n      <th>yakuza</th>\n      <th>youngadult</th>\n      <th>youth</th>\n      <th>youtube</th>\n      <th>zachgalifianakis</th>\n      <th>zacksnyder</th>\n      <th>zombie</th>\n      <th>zombies</th>\n      <th>zooeydeschanel</th>\n    </tr>\n    <tr>\n      <th>user_id</th>\n      <th></th>\n      <th></th>\n      <th></th>\n      <th></th>\n      <th></th>\n      <th></th>\n      <th></th>\n      <th></th>\n      <th></th>\n      <th></th>\n      <th></th>\n      <th></th>\n      <th></th>\n      <th></th>\n      <th></th>\n      <th></th>\n      <th></th>\n      <th></th>\n      <th></th>\n      <th></th>\n      <th></th>\n    </tr>\n  </thead>\n  <tbody>\n    <tr>\n      <th>264115</th>\n      <td>NaN</td>\n      <td>NaN</td>\n      <td>NaN</td>\n      <td>NaN</td>\n      <td>NaN</td>\n      <td>NaN</td>\n      <td>NaN</td>\n      <td>NaN</td>\n      <td>NaN</td>\n      <td>NaN</td>\n      <td>...</td>\n      <td>NaN</td>\n      <td>NaN</td>\n      <td>NaN</td>\n      <td>NaN</td>\n      <td>NaN</td>\n      <td>NaN</td>\n      <td>NaN</td>\n      <td>NaN</td>\n      <td>NaN</td>\n      <td>NaN</td>\n    </tr>\n    <tr>\n      <th>153795</th>\n      <td>NaN</td>\n      <td>NaN</td>\n      <td>NaN</td>\n      <td>NaN</td>\n      <td>NaN</td>\n      <td>NaN</td>\n      <td>NaN</td>\n      <td>NaN</td>\n      <td>NaN</td>\n      <td>NaN</td>\n      <td>...</td>\n      <td>NaN</td>\n      <td>NaN</td>\n      <td>NaN</td>\n      <td>NaN</td>\n      <td>NaN</td>\n      <td>NaN</td>\n      <td>NaN</td>\n      <td>NaN</td>\n      <td>NaN</td>\n      <td>NaN</td>\n    </tr>\n    <tr>\n      <th>39335</th>\n      <td>NaN</td>\n      <td>NaN</td>\n      <td>NaN</td>\n      <td>NaN</td>\n      <td>NaN</td>\n      <td>NaN</td>\n      <td>NaN</td>\n      <td>NaN</td>\n      <td>NaN</td>\n      <td>NaN</td>\n      <td>...</td>\n      <td>NaN</td>\n      <td>NaN</td>\n      <td>NaN</td>\n      <td>NaN</td>\n      <td>NaN</td>\n      <td>NaN</td>\n      <td>NaN</td>\n      <td>NaN</td>\n      <td>NaN</td>\n      <td>NaN</td>\n    </tr>\n    <tr>\n      <th>256158</th>\n      <td>NaN</td>\n      <td>NaN</td>\n      <td>NaN</td>\n      <td>NaN</td>\n      <td>NaN</td>\n      <td>NaN</td>\n      <td>NaN</td>\n      <td>NaN</td>\n      <td>NaN</td>\n      <td>NaN</td>\n      <td>...</td>\n      <td>NaN</td>\n      <td>NaN</td>\n      <td>NaN</td>\n      <td>NaN</td>\n      <td>NaN</td>\n      <td>NaN</td>\n      <td>NaN</td>\n      <td>NaN</td>\n      <td>NaN</td>\n      <td>NaN</td>\n    </tr>\n    <tr>\n      <th>46889</th>\n      <td>NaN</td>\n      <td>NaN</td>\n      <td>NaN</td>\n      <td>NaN</td>\n      <td>NaN</td>\n      <td>NaN</td>\n      <td>NaN</td>\n      <td>NaN</td>\n      <td>NaN</td>\n      <td>NaN</td>\n      <td>...</td>\n      <td>NaN</td>\n      <td>NaN</td>\n      <td>NaN</td>\n      <td>NaN</td>\n      <td>NaN</td>\n      <td>NaN</td>\n      <td>NaN</td>\n      <td>NaN</td>\n      <td>NaN</td>\n      <td>NaN</td>\n    </tr>\n  </tbody>\n</table>\n<p>5 rows × 2000 columns</p>\n</div>"
     },
     "execution_count": 36,
     "metadata": {},
     "output_type": "execute_result"
    }
   ],
   "source": [
    "users_tags_df = pd.concat([\n",
    "    tags_ratings_df[\"user_id\"].copy(),\n",
    "    tags_ratings_df[tags_list].mul(tags_ratings_df[\"rating\"], axis=0)\n",
    "], axis=1)\n",
    "\n",
    "users_tags_df.replace(0, None, inplace=True)\n",
    "users_tags_df = users_tags_df.groupby(\"user_id\")[tags_list].mean()\n",
    "users_tags_df.sample(5)"
   ],
   "metadata": {
    "collapsed": false,
    "pycharm": {
     "name": "#%%\n"
    }
   }
  },
  {
   "cell_type": "code",
   "execution_count": 37,
   "outputs": [
    {
     "data": {
      "text/plain": "      user_id  movie_id  rating  rating_binary  007  007series  01  02  03  \\\n1682    65878      2571       5              1  NaN        NaN NaN NaN NaN   \n1761   234710      2360       4              1  NaN        NaN NaN NaN NaN   \n1123    41892      2762       4              1  NaN        NaN NaN NaN NaN   \n1886   115043    176371       3              0  NaN        NaN NaN NaN NaN   \n1226   132501     34162       4              1  NaN        NaN NaN NaN NaN   \n\n      04  ...  xmastheme  yakuza  youngadult  youth  youtube  \\\n1682 NaN  ...        NaN     NaN         NaN    NaN      NaN   \n1761 NaN  ...        NaN     NaN         NaN    NaN      NaN   \n1123 NaN  ...        NaN     NaN         NaN    NaN      NaN   \n1886 NaN  ...        NaN     NaN         NaN    NaN      NaN   \n1226 NaN  ...        NaN     NaN         NaN    NaN      NaN   \n\n      zachgalifianakis  zacksnyder  zombie  zombies  zooeydeschanel  \n1682               NaN         NaN     NaN      NaN             NaN  \n1761               NaN         NaN     NaN      NaN             NaN  \n1123               NaN         NaN     NaN      NaN             NaN  \n1886               NaN         NaN     NaN      NaN             NaN  \n1226               NaN         NaN     NaN      NaN             NaN  \n\n[5 rows x 2004 columns]",
      "text/html": "<div>\n<style scoped>\n    .dataframe tbody tr th:only-of-type {\n        vertical-align: middle;\n    }\n\n    .dataframe tbody tr th {\n        vertical-align: top;\n    }\n\n    .dataframe thead th {\n        text-align: right;\n    }\n</style>\n<table border=\"1\" class=\"dataframe\">\n  <thead>\n    <tr style=\"text-align: right;\">\n      <th></th>\n      <th>user_id</th>\n      <th>movie_id</th>\n      <th>rating</th>\n      <th>rating_binary</th>\n      <th>007</th>\n      <th>007series</th>\n      <th>01</th>\n      <th>02</th>\n      <th>03</th>\n      <th>04</th>\n      <th>...</th>\n      <th>xmastheme</th>\n      <th>yakuza</th>\n      <th>youngadult</th>\n      <th>youth</th>\n      <th>youtube</th>\n      <th>zachgalifianakis</th>\n      <th>zacksnyder</th>\n      <th>zombie</th>\n      <th>zombies</th>\n      <th>zooeydeschanel</th>\n    </tr>\n  </thead>\n  <tbody>\n    <tr>\n      <th>1682</th>\n      <td>65878</td>\n      <td>2571</td>\n      <td>5</td>\n      <td>1</td>\n      <td>NaN</td>\n      <td>NaN</td>\n      <td>NaN</td>\n      <td>NaN</td>\n      <td>NaN</td>\n      <td>NaN</td>\n      <td>...</td>\n      <td>NaN</td>\n      <td>NaN</td>\n      <td>NaN</td>\n      <td>NaN</td>\n      <td>NaN</td>\n      <td>NaN</td>\n      <td>NaN</td>\n      <td>NaN</td>\n      <td>NaN</td>\n      <td>NaN</td>\n    </tr>\n    <tr>\n      <th>1761</th>\n      <td>234710</td>\n      <td>2360</td>\n      <td>4</td>\n      <td>1</td>\n      <td>NaN</td>\n      <td>NaN</td>\n      <td>NaN</td>\n      <td>NaN</td>\n      <td>NaN</td>\n      <td>NaN</td>\n      <td>...</td>\n      <td>NaN</td>\n      <td>NaN</td>\n      <td>NaN</td>\n      <td>NaN</td>\n      <td>NaN</td>\n      <td>NaN</td>\n      <td>NaN</td>\n      <td>NaN</td>\n      <td>NaN</td>\n      <td>NaN</td>\n    </tr>\n    <tr>\n      <th>1123</th>\n      <td>41892</td>\n      <td>2762</td>\n      <td>4</td>\n      <td>1</td>\n      <td>NaN</td>\n      <td>NaN</td>\n      <td>NaN</td>\n      <td>NaN</td>\n      <td>NaN</td>\n      <td>NaN</td>\n      <td>...</td>\n      <td>NaN</td>\n      <td>NaN</td>\n      <td>NaN</td>\n      <td>NaN</td>\n      <td>NaN</td>\n      <td>NaN</td>\n      <td>NaN</td>\n      <td>NaN</td>\n      <td>NaN</td>\n      <td>NaN</td>\n    </tr>\n    <tr>\n      <th>1886</th>\n      <td>115043</td>\n      <td>176371</td>\n      <td>3</td>\n      <td>0</td>\n      <td>NaN</td>\n      <td>NaN</td>\n      <td>NaN</td>\n      <td>NaN</td>\n      <td>NaN</td>\n      <td>NaN</td>\n      <td>...</td>\n      <td>NaN</td>\n      <td>NaN</td>\n      <td>NaN</td>\n      <td>NaN</td>\n      <td>NaN</td>\n      <td>NaN</td>\n      <td>NaN</td>\n      <td>NaN</td>\n      <td>NaN</td>\n      <td>NaN</td>\n    </tr>\n    <tr>\n      <th>1226</th>\n      <td>132501</td>\n      <td>34162</td>\n      <td>4</td>\n      <td>1</td>\n      <td>NaN</td>\n      <td>NaN</td>\n      <td>NaN</td>\n      <td>NaN</td>\n      <td>NaN</td>\n      <td>NaN</td>\n      <td>...</td>\n      <td>NaN</td>\n      <td>NaN</td>\n      <td>NaN</td>\n      <td>NaN</td>\n      <td>NaN</td>\n      <td>NaN</td>\n      <td>NaN</td>\n      <td>NaN</td>\n      <td>NaN</td>\n      <td>NaN</td>\n    </tr>\n  </tbody>\n</table>\n<p>5 rows × 2004 columns</p>\n</div>"
     },
     "execution_count": 37,
     "metadata": {},
     "output_type": "execute_result"
    }
   ],
   "source": [
    "tags_model_df = pd.merge(\n",
    "    tags_ratings_df[[\"user_id\", \"movie_id\", \"rating\", \"rating_binary\"]],\n",
    "    users_tags_df,\n",
    "    on=\"user_id\"\n",
    ")\n",
    "tags_model_df.sample(5)"
   ],
   "metadata": {
    "collapsed": false,
    "pycharm": {
     "name": "#%%\n"
    }
   }
  },
  {
   "cell_type": "code",
   "execution_count": 38,
   "outputs": [
    {
     "data": {
      "text/plain": "      user_id  movie_id  rating  rating_binary  007  007series   10   11  \\\n1935   154772      2596       4              1  2.5        4.0  5.0  5.0   \n654    188863    122926       5              1  2.5        4.0  5.0  5.0   \n122    100294     48520       4              1  2.5        4.0  5.0  5.0   \n1921   161102     58559       5              1  2.5        4.0  5.0  5.0   \n707     63786      8167       3              0  2.5        4.0  5.0  5.0   \n\n      18thcentury  1920s  ...  wuxia  wwii  x-men  yakuza  youth  youtube  \\\n1935          4.0    4.0  ...    3.0   4.0    2.0     5.0    3.0      2.5   \n654           4.0    4.0  ...    3.0   4.0    2.0     5.0    3.0      2.5   \n122           4.0    4.0  ...    3.0   4.0    2.0     5.0    3.0      2.5   \n1921          4.0    4.0  ...    3.0   4.0    2.0     5.0    3.0      2.5   \n707           4.0    4.0  ...    3.0   4.0    2.0     5.0    3.0      2.5   \n\n      zacksnyder  zombie  zombies  zooeydeschanel  \n1935         5.0     3.0      3.0             4.0  \n654          5.0     3.0      3.0             4.0  \n122          5.0     3.0      3.0             4.0  \n1921         5.0     3.0      3.0             4.0  \n707          5.0     3.0      3.0             4.0  \n\n[5 rows x 1436 columns]",
      "text/html": "<div>\n<style scoped>\n    .dataframe tbody tr th:only-of-type {\n        vertical-align: middle;\n    }\n\n    .dataframe tbody tr th {\n        vertical-align: top;\n    }\n\n    .dataframe thead th {\n        text-align: right;\n    }\n</style>\n<table border=\"1\" class=\"dataframe\">\n  <thead>\n    <tr style=\"text-align: right;\">\n      <th></th>\n      <th>user_id</th>\n      <th>movie_id</th>\n      <th>rating</th>\n      <th>rating_binary</th>\n      <th>007</th>\n      <th>007series</th>\n      <th>10</th>\n      <th>11</th>\n      <th>18thcentury</th>\n      <th>1920s</th>\n      <th>...</th>\n      <th>wuxia</th>\n      <th>wwii</th>\n      <th>x-men</th>\n      <th>yakuza</th>\n      <th>youth</th>\n      <th>youtube</th>\n      <th>zacksnyder</th>\n      <th>zombie</th>\n      <th>zombies</th>\n      <th>zooeydeschanel</th>\n    </tr>\n  </thead>\n  <tbody>\n    <tr>\n      <th>1935</th>\n      <td>154772</td>\n      <td>2596</td>\n      <td>4</td>\n      <td>1</td>\n      <td>2.5</td>\n      <td>4.0</td>\n      <td>5.0</td>\n      <td>5.0</td>\n      <td>4.0</td>\n      <td>4.0</td>\n      <td>...</td>\n      <td>3.0</td>\n      <td>4.0</td>\n      <td>2.0</td>\n      <td>5.0</td>\n      <td>3.0</td>\n      <td>2.5</td>\n      <td>5.0</td>\n      <td>3.0</td>\n      <td>3.0</td>\n      <td>4.0</td>\n    </tr>\n    <tr>\n      <th>654</th>\n      <td>188863</td>\n      <td>122926</td>\n      <td>5</td>\n      <td>1</td>\n      <td>2.5</td>\n      <td>4.0</td>\n      <td>5.0</td>\n      <td>5.0</td>\n      <td>4.0</td>\n      <td>4.0</td>\n      <td>...</td>\n      <td>3.0</td>\n      <td>4.0</td>\n      <td>2.0</td>\n      <td>5.0</td>\n      <td>3.0</td>\n      <td>2.5</td>\n      <td>5.0</td>\n      <td>3.0</td>\n      <td>3.0</td>\n      <td>4.0</td>\n    </tr>\n    <tr>\n      <th>122</th>\n      <td>100294</td>\n      <td>48520</td>\n      <td>4</td>\n      <td>1</td>\n      <td>2.5</td>\n      <td>4.0</td>\n      <td>5.0</td>\n      <td>5.0</td>\n      <td>4.0</td>\n      <td>4.0</td>\n      <td>...</td>\n      <td>3.0</td>\n      <td>4.0</td>\n      <td>2.0</td>\n      <td>5.0</td>\n      <td>3.0</td>\n      <td>2.5</td>\n      <td>5.0</td>\n      <td>3.0</td>\n      <td>3.0</td>\n      <td>4.0</td>\n    </tr>\n    <tr>\n      <th>1921</th>\n      <td>161102</td>\n      <td>58559</td>\n      <td>5</td>\n      <td>1</td>\n      <td>2.5</td>\n      <td>4.0</td>\n      <td>5.0</td>\n      <td>5.0</td>\n      <td>4.0</td>\n      <td>4.0</td>\n      <td>...</td>\n      <td>3.0</td>\n      <td>4.0</td>\n      <td>2.0</td>\n      <td>5.0</td>\n      <td>3.0</td>\n      <td>2.5</td>\n      <td>5.0</td>\n      <td>3.0</td>\n      <td>3.0</td>\n      <td>4.0</td>\n    </tr>\n    <tr>\n      <th>707</th>\n      <td>63786</td>\n      <td>8167</td>\n      <td>3</td>\n      <td>0</td>\n      <td>2.5</td>\n      <td>4.0</td>\n      <td>5.0</td>\n      <td>5.0</td>\n      <td>4.0</td>\n      <td>4.0</td>\n      <td>...</td>\n      <td>3.0</td>\n      <td>4.0</td>\n      <td>2.0</td>\n      <td>5.0</td>\n      <td>3.0</td>\n      <td>2.5</td>\n      <td>5.0</td>\n      <td>3.0</td>\n      <td>3.0</td>\n      <td>4.0</td>\n    </tr>\n  </tbody>\n</table>\n<p>5 rows × 1436 columns</p>\n</div>"
     },
     "execution_count": 38,
     "metadata": {},
     "output_type": "execute_result"
    }
   ],
   "source": [
    "tags_model_df.dropna(axis=1, how=\"all\", inplace=True)\n",
    "tags_model_df.fillna(tags_model_df.median(), inplace=True)\n",
    "tags_model_df.sample(5)"
   ],
   "metadata": {
    "collapsed": false,
    "pycharm": {
     "name": "#%%\n"
    }
   }
  },
  {
   "cell_type": "code",
   "execution_count": 39,
   "outputs": [
    {
     "name": "stdout",
     "output_type": "stream",
     "text": [
      "<class 'pandas.core.frame.DataFrame'>\n",
      "Int64Index: 2169 entries, 0 to 2168\n",
      "Columns: 1436 entries, user_id to zooeydeschanel\n",
      "dtypes: float64(1432), int64(2), int8(2)\n",
      "memory usage: 23.8 MB\n"
     ]
    }
   ],
   "source": [
    "tags_model_df.info()"
   ],
   "metadata": {
    "collapsed": false,
    "pycharm": {
     "name": "#%%\n"
    }
   }
  },
  {
   "cell_type": "code",
   "execution_count": 40,
   "outputs": [
    {
     "name": "stdout",
     "output_type": "stream",
     "text": [
      "<class 'pandas.core.frame.DataFrame'>\n",
      "Int64Index: 2169 entries, 0 to 2168\n",
      "Columns: 1436 entries, user_id to zooeydeschanel\n",
      "dtypes: float16(1432), int64(2), int8(2)\n",
      "memory usage: 6.0 MB\n"
     ]
    }
   ],
   "source": [
    "dtypes_df = tags_model_df.select_dtypes([\"float64\", \"float32\"])\n",
    "tags_model_df[dtypes_df.columns] = dtypes_df.astype(\"float16\")\n",
    "tags_model_df.info()"
   ],
   "metadata": {
    "collapsed": false,
    "pycharm": {
     "name": "#%%\n"
    }
   }
  },
  {
   "cell_type": "code",
   "execution_count": 41,
   "outputs": [],
   "source": [
    "del tags_df, tags_ratings_df, users_tags_df"
   ],
   "metadata": {
    "collapsed": false,
    "pycharm": {
     "name": "#%%\n"
    }
   }
  },
  {
   "cell_type": "code",
   "execution_count": 42,
   "outputs": [
    {
     "data": {
      "text/plain": "<AxesSubplot:xlabel='rating', ylabel='Density'>"
     },
     "execution_count": 42,
     "metadata": {},
     "output_type": "execute_result"
    },
    {
     "data": {
      "text/plain": "<Figure size 432x288 with 1 Axes>",
      "image/png": "[encoded data removed]"
     },
     "metadata": {
      "needs_background": "light"
     },
     "output_type": "display_data"
    }
   ],
   "source": [
    "sns.histplot(tags_model_df[\"rating\"], color=\"green\", stat=\"density\")"
   ],
   "metadata": {
    "collapsed": false,
    "pycharm": {
     "name": "#%%\n"
    }
   }
  },
  {
   "cell_type": "code",
   "execution_count": 43,
   "outputs": [
    {
     "data": {
      "text/plain": "<Figure size 1440x720 with 2 Axes>",
      "image/png": "[encoded data removed]"
     },
     "metadata": {
      "needs_background": "light"
     },
     "output_type": "display_data"
    }
   ],
   "source": [
    "corr = tags_model_df.drop([\"user_id\", \"movie_id\"], axis=1).corr().drop([\"rating\", \"rating_binary\"]).sample(20)\n",
    "\n",
    "fig, ax = plt.subplots(1, 2, figsize=(20, 10))\n",
    "\n",
    "for i, feature in enumerate(corr[[\"rating\", \"rating_binary\"]]):\n",
    "    sns.barplot(x=corr[feature], y=corr.index, orient=\"h\", color=\"red\", ax=ax[i])"
   ],
   "metadata": {
    "collapsed": false,
    "pycharm": {
     "name": "#%%\n"
    }
   }
  },
  {
   "cell_type": "markdown",
   "source": [
    "## Финальная модель"
   ],
   "metadata": {
    "collapsed": false,
    "pycharm": {
     "name": "#%% md\n"
    }
   }
  },
  {
   "cell_type": "code",
   "execution_count": 44,
   "outputs": [
    {
     "data": {
      "text/plain": "        year_genres  rating_genres  rating_mean_genres  views_count_genres  \\\n240735         1941              5            3.945312                 146   \n38998          1996              4            3.582031                 230   \n55319          1998              5            2.947266                  77   \n175732         2009              4            4.500000                   2   \n216390         1994              3            3.193359                  62   \n\n        action_genres  adventure_genres  animation_genres  children_genres  \\\n240735       3.166016              3.25          3.333984              3.0   \n38998        4.000000              4.00          3.333984              3.0   \n55319        4.500000              4.50          3.333984              3.0   \n175732       3.000000              3.00          3.333984              3.0   \n216390       4.000000              4.00          3.333984              3.0   \n\n        comedy_genres  crime_genres  ...  wuxia_tags  wwii_tags  x-men_tags  \\\n240735       3.199219      4.500000  ...         NaN        NaN         NaN   \n38998        3.666016      3.500000  ...         NaN        NaN         NaN   \n55319        3.199219      3.500000  ...         NaN        NaN         NaN   \n175732       3.000000      3.666016  ...         NaN        NaN         NaN   \n216390       3.500000      3.500000  ...         NaN        NaN         NaN   \n\n        yakuza_tags  youth_tags  youtube_tags  zacksnyder_tags  zombie_tags  \\\n240735          NaN         NaN           NaN              NaN          NaN   \n38998           NaN         NaN           NaN              NaN          NaN   \n55319           NaN         NaN           NaN              NaN          NaN   \n175732          NaN         NaN           NaN              NaN          NaN   \n216390          NaN         NaN           NaN              NaN          NaN   \n\n        zombies_tags  zooeydeschanel_tags  \n240735           NaN                  NaN  \n38998            NaN                  NaN  \n55319            NaN                  NaN  \n175732           NaN                  NaN  \n216390           NaN                  NaN  \n\n[5 rows x 1458 columns]",
      "text/html": "<div>\n<style scoped>\n    .dataframe tbody tr th:only-of-type {\n        vertical-align: middle;\n    }\n\n    .dataframe tbody tr th {\n        vertical-align: top;\n    }\n\n    .dataframe thead th {\n        text-align: right;\n    }\n</style>\n<table border=\"1\" class=\"dataframe\">\n  <thead>\n    <tr style=\"text-align: right;\">\n      <th></th>\n      <th>year_genres</th>\n      <th>rating_genres</th>\n      <th>rating_mean_genres</th>\n      <th>views_count_genres</th>\n      <th>action_genres</th>\n      <th>adventure_genres</th>\n      <th>animation_genres</th>\n      <th>children_genres</th>\n      <th>comedy_genres</th>\n      <th>crime_genres</th>\n      <th>...</th>\n      <th>wuxia_tags</th>\n      <th>wwii_tags</th>\n      <th>x-men_tags</th>\n      <th>yakuza_tags</th>\n      <th>youth_tags</th>\n      <th>youtube_tags</th>\n      <th>zacksnyder_tags</th>\n      <th>zombie_tags</th>\n      <th>zombies_tags</th>\n      <th>zooeydeschanel_tags</th>\n    </tr>\n  </thead>\n  <tbody>\n    <tr>\n      <th>240735</th>\n      <td>1941</td>\n      <td>5</td>\n      <td>3.945312</td>\n      <td>146</td>\n      <td>3.166016</td>\n      <td>3.25</td>\n      <td>3.333984</td>\n      <td>3.0</td>\n      <td>3.199219</td>\n      <td>4.500000</td>\n      <td>...</td>\n      <td>NaN</td>\n      <td>NaN</td>\n      <td>NaN</td>\n      <td>NaN</td>\n      <td>NaN</td>\n      <td>NaN</td>\n      <td>NaN</td>\n      <td>NaN</td>\n      <td>NaN</td>\n      <td>NaN</td>\n    </tr>\n    <tr>\n      <th>38998</th>\n      <td>1996</td>\n      <td>4</td>\n      <td>3.582031</td>\n      <td>230</td>\n      <td>4.000000</td>\n      <td>4.00</td>\n      <td>3.333984</td>\n      <td>3.0</td>\n      <td>3.666016</td>\n      <td>3.500000</td>\n      <td>...</td>\n      <td>NaN</td>\n      <td>NaN</td>\n      <td>NaN</td>\n      <td>NaN</td>\n      <td>NaN</td>\n      <td>NaN</td>\n      <td>NaN</td>\n      <td>NaN</td>\n      <td>NaN</td>\n      <td>NaN</td>\n    </tr>\n    <tr>\n      <th>55319</th>\n      <td>1998</td>\n      <td>5</td>\n      <td>2.947266</td>\n      <td>77</td>\n      <td>4.500000</td>\n      <td>4.50</td>\n      <td>3.333984</td>\n      <td>3.0</td>\n      <td>3.199219</td>\n      <td>3.500000</td>\n      <td>...</td>\n      <td>NaN</td>\n      <td>NaN</td>\n      <td>NaN</td>\n      <td>NaN</td>\n      <td>NaN</td>\n      <td>NaN</td>\n      <td>NaN</td>\n      <td>NaN</td>\n      <td>NaN</td>\n      <td>NaN</td>\n    </tr>\n    <tr>\n      <th>175732</th>\n      <td>2009</td>\n      <td>4</td>\n      <td>4.500000</td>\n      <td>2</td>\n      <td>3.000000</td>\n      <td>3.00</td>\n      <td>3.333984</td>\n      <td>3.0</td>\n      <td>3.000000</td>\n      <td>3.666016</td>\n      <td>...</td>\n      <td>NaN</td>\n      <td>NaN</td>\n      <td>NaN</td>\n      <td>NaN</td>\n      <td>NaN</td>\n      <td>NaN</td>\n      <td>NaN</td>\n      <td>NaN</td>\n      <td>NaN</td>\n      <td>NaN</td>\n    </tr>\n    <tr>\n      <th>216390</th>\n      <td>1994</td>\n      <td>3</td>\n      <td>3.193359</td>\n      <td>62</td>\n      <td>4.000000</td>\n      <td>4.00</td>\n      <td>3.333984</td>\n      <td>3.0</td>\n      <td>3.500000</td>\n      <td>3.500000</td>\n      <td>...</td>\n      <td>NaN</td>\n      <td>NaN</td>\n      <td>NaN</td>\n      <td>NaN</td>\n      <td>NaN</td>\n      <td>NaN</td>\n      <td>NaN</td>\n      <td>NaN</td>\n      <td>NaN</td>\n      <td>NaN</td>\n    </tr>\n  </tbody>\n</table>\n<p>5 rows × 1458 columns</p>\n</div>"
     },
     "execution_count": 44,
     "metadata": {},
     "output_type": "execute_result"
    }
   ],
   "source": [
    "genres_model_renamed_df = genres_model_df.add_suffix(\"_genres\")\n",
    "tags_model_renamed_df = tags_model_df.add_suffix(\"_tags\")\n",
    "\n",
    "final_model_df = pd.merge(\n",
    "    genres_model_renamed_df.set_index([\"user_id_genres\", \"movie_id_genres\"]),\n",
    "    tags_model_renamed_df.set_index([\"user_id_tags\", \"movie_id_tags\"]),\n",
    "    left_on=[\"user_id_genres\", \"movie_id_genres\"],\n",
    "    right_on=[\"user_id_tags\", \"movie_id_tags\"],\n",
    ")\n",
    "\n",
    "final_model_df.sample(5)"
   ],
   "metadata": {
    "collapsed": false,
    "pycharm": {
     "name": "#%%\n"
    }
   }
  },
  {
   "cell_type": "code",
   "execution_count": 47,
   "outputs": [
    {
     "name": "stdout",
     "output_type": "stream",
     "text": [
      "<class 'pandas.core.frame.DataFrame'>\n",
      "Int64Index: 277362 entries, 0 to 277361\n",
      "Columns: 1458 entries, year_genres to zooeydeschanel_tags\n",
      "dtypes: float16(1452), float64(2), int16(1), int64(1), int8(2)\n",
      "memory usage: 777.7 MB\n"
     ]
    }
   ],
   "source": [
    "final_model_df.info()"
   ],
   "metadata": {
    "collapsed": false,
    "pycharm": {
     "name": "#%%\n"
    }
   }
  },
  {
   "cell_type": "markdown",
   "source": [
    "# Моделирование"
   ],
   "metadata": {
    "collapsed": false,
    "pycharm": {
     "name": "#%% md\n"
    }
   }
  },
  {
   "cell_type": "code",
   "execution_count": 48,
   "outputs": [],
   "source": [
    "def display_report(y_test: np.ndarray, y_pred: np.ndarray):\n",
    "    class_names = set(y_test)\n",
    "    ticks = np.arange(len(class_names))\n",
    "    plt.xticks(ticks, class_names)\n",
    "    plt.yticks(ticks, class_names)\n",
    "\n",
    "    sns.heatmap(pd.DataFrame(\n",
    "        metrics.confusion_matrix(y_test, y_pred)),\n",
    "        annot=True)\n",
    "    plt.ylabel('Действительные значения')\n",
    "    plt.xlabel('Предсказанные значения')\n",
    "    plt.show()\n",
    "\n",
    "    print(metrics.classification_report(y_test, y_pred, zero_division=0))"
   ],
   "metadata": {
    "collapsed": false,
    "pycharm": {
     "name": "#%%\n"
    }
   }
  },
  {
   "cell_type": "code",
   "execution_count": 49,
   "outputs": [],
   "source": [
    "genres_columns = genres_model_renamed_df.drop([\n",
    "    \"user_id_genres\", \"movie_id_genres\", \"rating_genres\", \"rating_binary_genres\"\n",
    "], axis=1).columns\n",
    "tags_columns = tags_model_renamed_df.drop([\n",
    "    \"user_id_tags\", \"movie_id_tags\", \"rating_tags\", \"rating_binary_tags\"\n",
    "], axis=1).columns\n",
    "\n",
    "genres_columns_nums = [genres_model_renamed_df.columns.get_loc(c) for c in genres_columns]\n",
    "tags_columns_nums = [tags_model_renamed_df.columns.get_loc(c) for c in tags_columns]\n",
    "\n",
    "x = final_model_df.drop([\n",
    "    \"rating_genres\", \"rating_binary_genres\", \"rating_tags\", \"rating_binary_tags\"\n",
    "], axis=1)\n",
    "y_multi = final_model_df[\"rating_genres\"]\n",
    "y_binary = final_model_df[\"rating_binary_genres\"]"
   ],
   "metadata": {
    "collapsed": false,
    "pycharm": {
     "name": "#%%\n"
    }
   }
  },
  {
   "cell_type": "code",
   "execution_count": 50,
   "outputs": [],
   "source": [
    "del final_model_df, genres_model_renamed_df, tags_model_renamed_df, genres_model_df, tags_model_df"
   ],
   "metadata": {
    "collapsed": false,
    "pycharm": {
     "name": "#%%\n"
    }
   }
  },
  {
   "cell_type": "markdown",
   "source": [
    "### Мультиклассовая модель"
   ],
   "metadata": {
    "collapsed": false,
    "pycharm": {
     "name": "#%% md\n"
    }
   }
  },
  {
   "cell_type": "code",
   "execution_count": 51,
   "outputs": [],
   "source": [
    "x_train, x_test, y_train, y_test = train_test_split(x, y_multi, test_size=0.2, stratify=y_multi)"
   ],
   "metadata": {
    "collapsed": false,
    "pycharm": {
     "name": "#%%\n"
    }
   }
  },
  {
   "cell_type": "code",
   "execution_count": 52,
   "outputs": [
    {
     "data": {
      "text/plain": "<Figure size 432x288 with 2 Axes>",
      "image/png": "[encoded data removed]"
     },
     "metadata": {
      "needs_background": "light"
     },
     "output_type": "display_data"
    },
    {
     "name": "stdout",
     "output_type": "stream",
     "text": [
      "              precision    recall  f1-score   support\n",
      "\n",
      "           0       0.18      0.05      0.07       886\n",
      "           1       0.56      0.27      0.37      2652\n",
      "           2       0.48      0.31      0.38      6426\n",
      "           3       0.55      0.66      0.60     17803\n",
      "           4       0.61      0.68      0.64     19551\n",
      "           5       0.68      0.55      0.61      8155\n",
      "\n",
      "    accuracy                           0.58     55473\n",
      "   macro avg       0.51      0.42      0.45     55473\n",
      "weighted avg       0.58      0.58      0.57     55473\n",
      "\n"
     ]
    }
   ],
   "source": [
    "pipe = Pipeline([\n",
    "    (\"scaling\", MinMaxScaler()),\n",
    "    (\"normalizing\", StandardScaler()),\n",
    "    (\"models\", StackingClassifier([\n",
    "        (\"genres\", Pipeline([\n",
    "            (\"extracting\", ColumnSelector(genres_columns_nums)),\n",
    "            (\"rfc\", RandomForestClassifier(max_depth=10, n_estimators=10, n_jobs=cpu_count())),\n",
    "        ])),\n",
    "        (\"tags\", Pipeline([\n",
    "            (\"extracting\", ColumnSelector(tags_columns_nums)),\n",
    "            (\"pca\", PCA(n_components=0.4)),\n",
    "            (\"dtc\", DecisionTreeClassifier(max_depth=10))\n",
    "        ]))\n",
    "    ],\n",
    "        LogisticRegression(C=10, max_iter=1e7, n_jobs=cpu_count()),\n",
    "        n_jobs=cpu_count()\n",
    "    ))\n",
    "])\n",
    "\n",
    "pipe.fit(x_train, y_train)\n",
    "y_pred = pipe.predict(x_test)\n",
    "display_report(y_test, y_pred)"
   ],
   "metadata": {
    "collapsed": false,
    "pycharm": {
     "name": "#%%\n"
    }
   }
  },
  {
   "cell_type": "code",
   "execution_count": 53,
   "outputs": [
    {
     "data": {
      "text/plain": "<Figure size 432x288 with 2 Axes>",
      "image/png": "[encoded data removed]"
     },
     "metadata": {
      "needs_background": "light"
     },
     "output_type": "display_data"
    },
    {
     "name": "stdout",
     "output_type": "stream",
     "text": [
      "              precision    recall  f1-score   support\n",
      "\n",
      "           0       0.56      0.16      0.25       886\n",
      "           1       0.60      0.44      0.51      2652\n",
      "           2       0.55      0.47      0.51      6426\n",
      "           3       0.62      0.67      0.64     17803\n",
      "           4       0.68      0.73      0.70     19551\n",
      "           5       0.75      0.66      0.70      8155\n",
      "\n",
      "    accuracy                           0.65     55473\n",
      "   macro avg       0.63      0.52      0.55     55473\n",
      "weighted avg       0.65      0.65      0.65     55473\n",
      "\n"
     ]
    }
   ],
   "source": [
    "pipe = Pipeline([\n",
    "    (\"mms\", MinMaxScaler()),\n",
    "    (\"ss\", StandardScaler()),\n",
    "    (\"sc\", StackingClassifier([\n",
    "        (\"knc\", KNeighborsClassifier(n_neighbors=50, n_jobs=cpu_count())),\n",
    "        (\"rfc\", RandomForestClassifier(max_depth=10, n_estimators=10, n_jobs=cpu_count())),\n",
    "        (\"dtc\", DecisionTreeClassifier(max_depth=10))\n",
    "    ],\n",
    "        LogisticRegression(max_iter=1e7, n_jobs=cpu_count()),\n",
    "        n_jobs=cpu_count()\n",
    "    ))\n",
    "])\n",
    "\n",
    "pipe.fit(x_train, y_train)\n",
    "y_pred = pipe.predict(x_test)\n",
    "display_report(y_test, y_pred)"
   ],
   "metadata": {
    "collapsed": false,
    "pycharm": {
     "name": "#%%\n"
    }
   }
  },
  {
   "cell_type": "markdown",
   "source": [
    "### Бинарная модель"
   ],
   "metadata": {
    "collapsed": false,
    "pycharm": {
     "name": "#%% md\n"
    }
   }
  },
  {
   "cell_type": "code",
   "execution_count": 54,
   "outputs": [],
   "source": [
    "x_train, x_test, y_train, y_test = train_test_split(x, y_binary, test_size=0.2, stratify=y_binary)"
   ],
   "metadata": {
    "collapsed": false,
    "pycharm": {
     "name": "#%%\n"
    }
   }
  },
  {
   "cell_type": "code",
   "execution_count": 55,
   "outputs": [
    {
     "data": {
      "text/plain": "<Figure size 432x288 with 2 Axes>",
      "image/png": "[encoded data removed]"
     },
     "metadata": {
      "needs_background": "light"
     },
     "output_type": "display_data"
    },
    {
     "name": "stdout",
     "output_type": "stream",
     "text": [
      "              precision    recall  f1-score   support\n",
      "\n",
      "           0       0.76      0.78      0.77     27768\n",
      "           1       0.77      0.75      0.76     27705\n",
      "\n",
      "    accuracy                           0.76     55473\n",
      "   macro avg       0.76      0.76      0.76     55473\n",
      "weighted avg       0.76      0.76      0.76     55473\n",
      "\n"
     ]
    }
   ],
   "source": [
    "pipe = Pipeline([\n",
    "    (\"scaling\", MinMaxScaler()),\n",
    "    (\"normalizing\", StandardScaler()),\n",
    "    (\"models\", StackingClassifier([\n",
    "        (\"genres\", Pipeline([\n",
    "            (\"extracting\", ColumnSelector(genres_columns_nums)),\n",
    "            (\"rfc\", RandomForestClassifier(max_depth=10, n_estimators=10, n_jobs=cpu_count())),\n",
    "        ])),\n",
    "        (\"tags\", Pipeline([\n",
    "            (\"extracting\", ColumnSelector(tags_columns_nums)),\n",
    "            (\"dtc\", DecisionTreeClassifier(max_depth=10))\n",
    "        ]))\n",
    "    ],\n",
    "        LogisticRegression(C=10, max_iter=1e7, n_jobs=cpu_count()),\n",
    "        n_jobs=cpu_count()\n",
    "    ))\n",
    "])\n",
    "\n",
    "pipe.fit(x_train, y_train)\n",
    "y_pred = pipe.predict(x_test)\n",
    "display_report(y_test, y_pred)"
   ],
   "metadata": {
    "collapsed": false,
    "pycharm": {
     "name": "#%%\n"
    }
   }
  },
  {
   "cell_type": "code",
   "execution_count": 56,
   "outputs": [
    {
     "data": {
      "text/plain": "<Figure size 432x288 with 2 Axes>",
      "image/png": "[encoded data removed]"
     },
     "metadata": {
      "needs_background": "light"
     },
     "output_type": "display_data"
    },
    {
     "name": "stdout",
     "output_type": "stream",
     "text": [
      "              precision    recall  f1-score   support\n",
      "\n",
      "           0       0.82      0.83      0.83     27768\n",
      "           1       0.83      0.82      0.83     27705\n",
      "\n",
      "    accuracy                           0.83     55473\n",
      "   macro avg       0.83      0.83      0.83     55473\n",
      "weighted avg       0.83      0.83      0.83     55473\n",
      "\n"
     ]
    }
   ],
   "source": [
    "pipe = Pipeline([\n",
    "    (\"mms\", MinMaxScaler()),\n",
    "    (\"ss\", StandardScaler()),\n",
    "    (\"sc\", StackingClassifier([\n",
    "        (\"knc\", KNeighborsClassifier(n_neighbors=50, n_jobs=cpu_count())),\n",
    "        (\"rfc\", RandomForestClassifier(max_depth=10, n_estimators=10, n_jobs=cpu_count())),\n",
    "        (\"dtc\", DecisionTreeClassifier(max_depth=10))\n",
    "    ],\n",
    "        LogisticRegression(max_iter=1e7, n_jobs=cpu_count()),\n",
    "        n_jobs=cpu_count()\n",
    "    ))\n",
    "])\n",
    "\n",
    "pipe.fit(x_train, y_train)\n",
    "y_pred = pipe.predict(x_test)\n",
    "display_report(y_test, y_pred)"
   ],
   "metadata": {
    "collapsed": false,
    "pycharm": {
     "name": "#%%\n"
    }
   }
  }
 ],
 "metadata": {
  "kernelspec": {
   "display_name": "Python 3",
   "language": "python",
   "name": "python3"
  },
  "language_info": {
   "codemirror_mode": {
    "name": "ipython",
    "version": 2
   },
   "file_extension": ".py",
   "mimetype": "text/x-python",
   "name": "python",
   "nbconvert_exporter": "python",
   "pygments_lexer": "ipython2",
   "version": "2.7.6"
  }
 },
 "nbformat": 4,
 "nbformat_minor": 0
}